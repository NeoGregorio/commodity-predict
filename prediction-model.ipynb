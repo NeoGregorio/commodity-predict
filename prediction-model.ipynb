{
 "cells": [
  {
   "cell_type": "markdown",
   "id": "f863aba1",
   "metadata": {},
   "source": [
    "# Predicting Commodity Prices using Linear Regression in the Philippines\n",
    "A **CS 180: Introduction to Artificial Intelligence** project that aims to develop a predictive **linear regression** model to accurately forecast commodity prices for future months and years using the **Philippine Food Prices Dataset**.\n",
    "\n",
    "By Herminio Gregorio, Ali Jafri, and Ayen Manguan"
   ]
  },
  {
   "cell_type": "markdown",
   "id": "9030cbe6",
   "metadata": {},
   "source": [
    "## Preliminaries\n",
    "\n",
    "First, import libraries and import our dataset. "
   ]
  },
  {
   "cell_type": "code",
<<<<<<< HEAD
   "execution_count": 63,
=======
   "execution_count": 248,
>>>>>>> fb681e7556e9a04bfc8e077a23870755307ab983
   "id": "2afb0d22",
   "metadata": {},
   "outputs": [],
   "source": [
    "# @title Import Libraries\n",
    "import numpy as np\n",
    "import pandas as pd\n",
    "import seaborn as sns\n",
    "import matplotlib.pyplot as plt\n",
    "\n",
    "from sklearn.linear_model import LinearRegression\n",
    "from sklearn.model_selection import train_test_split\n",
    "from sklearn.preprocessing import LabelEncoder\n",
    "from sklearn.metrics import mean_absolute_error, mean_squared_error, r2_score\n",
    "\n",
    "import json\n",
    "import joblib as jb     # Save and load models"
   ]
  },
  {
   "cell_type": "code",
<<<<<<< HEAD
   "execution_count": 64,
=======
   "execution_count": 249,
>>>>>>> fb681e7556e9a04bfc8e077a23870755307ab983
   "id": "de9c923d",
   "metadata": {},
   "outputs": [
    {
     "name": "stderr",
     "output_type": "stream",
     "text": [
<<<<<<< HEAD
      "C:\\Users\\WINDOWS 10\\AppData\\Local\\Temp\\ipykernel_19108\\278703577.py:2: DtypeWarning: Columns (4,5,12,13) have mixed types. Specify dtype option on import or set low_memory=False.\n",
=======
      "/tmp/ipykernel_7047/278703577.py:2: DtypeWarning: Columns (4,5,12,13) have mixed types. Specify dtype option on import or set low_memory=False.\n",
>>>>>>> fb681e7556e9a04bfc8e077a23870755307ab983
      "  data = pd.read_csv('wfp_food_prices_phl.csv')\n"
     ]
    },
    {
     "data": {
      "text/html": [
       "<div>\n",
       "<style scoped>\n",
       "    .dataframe tbody tr th:only-of-type {\n",
       "        vertical-align: middle;\n",
       "    }\n",
       "\n",
       "    .dataframe tbody tr th {\n",
       "        vertical-align: top;\n",
       "    }\n",
       "\n",
       "    .dataframe thead th {\n",
       "        text-align: right;\n",
       "    }\n",
       "</style>\n",
       "<table border=\"1\" class=\"dataframe\">\n",
       "  <thead>\n",
       "    <tr style=\"text-align: right;\">\n",
       "      <th></th>\n",
       "      <th>date</th>\n",
       "      <th>admin1</th>\n",
       "      <th>admin2</th>\n",
       "      <th>market</th>\n",
       "      <th>latitude</th>\n",
       "      <th>longitude</th>\n",
       "      <th>category</th>\n",
       "      <th>commodity</th>\n",
       "      <th>unit</th>\n",
       "      <th>priceflag</th>\n",
       "      <th>pricetype</th>\n",
       "      <th>currency</th>\n",
       "      <th>price</th>\n",
       "      <th>usdprice</th>\n",
       "    </tr>\n",
       "  </thead>\n",
       "  <tbody>\n",
       "    <tr>\n",
       "      <th>0</th>\n",
       "      <td>#date</td>\n",
       "      <td>#adm1+name</td>\n",
       "      <td>#adm2+name</td>\n",
       "      <td>#loc+market+name</td>\n",
       "      <td>#geo+lat</td>\n",
       "      <td>#geo+lon</td>\n",
       "      <td>#item+type</td>\n",
       "      <td>#item+name</td>\n",
       "      <td>#item+unit</td>\n",
       "      <td>#item+price+flag</td>\n",
       "      <td>#item+price+type</td>\n",
       "      <td>#currency</td>\n",
       "      <td>#value</td>\n",
       "      <td>#value+usd</td>\n",
       "    </tr>\n",
       "    <tr>\n",
       "      <th>1</th>\n",
       "      <td>2000-01-15</td>\n",
       "      <td>National Capital region</td>\n",
       "      <td>Metropolitan Manila</td>\n",
       "      <td>Metro Manila</td>\n",
       "      <td>14.604167</td>\n",
       "      <td>120.982222</td>\n",
       "      <td>cereals and tubers</td>\n",
       "      <td>Maize flour (yellow)</td>\n",
       "      <td>KG</td>\n",
       "      <td>actual</td>\n",
       "      <td>Retail</td>\n",
       "      <td>PHP</td>\n",
       "      <td>15.0</td>\n",
       "      <td>0.3717</td>\n",
       "    </tr>\n",
       "    <tr>\n",
       "      <th>2</th>\n",
       "      <td>2000-01-15</td>\n",
       "      <td>National Capital region</td>\n",
       "      <td>Metropolitan Manila</td>\n",
       "      <td>Metro Manila</td>\n",
       "      <td>14.604167</td>\n",
       "      <td>120.982222</td>\n",
       "      <td>cereals and tubers</td>\n",
       "      <td>Rice (milled, superior)</td>\n",
       "      <td>KG</td>\n",
       "      <td>actual</td>\n",
       "      <td>Retail</td>\n",
       "      <td>PHP</td>\n",
       "      <td>20.0</td>\n",
       "      <td>0.4957</td>\n",
       "    </tr>\n",
       "    <tr>\n",
       "      <th>3</th>\n",
       "      <td>2000-01-15</td>\n",
       "      <td>National Capital region</td>\n",
       "      <td>Metropolitan Manila</td>\n",
       "      <td>Metro Manila</td>\n",
       "      <td>14.604167</td>\n",
       "      <td>120.982222</td>\n",
       "      <td>cereals and tubers</td>\n",
       "      <td>Rice (milled, superior)</td>\n",
       "      <td>KG</td>\n",
       "      <td>actual</td>\n",
       "      <td>Wholesale</td>\n",
       "      <td>PHP</td>\n",
       "      <td>18.35</td>\n",
       "      <td>0.4548</td>\n",
       "    </tr>\n",
       "    <tr>\n",
       "      <th>4</th>\n",
       "      <td>2000-01-15</td>\n",
       "      <td>National Capital region</td>\n",
       "      <td>Metropolitan Manila</td>\n",
       "      <td>Metro Manila</td>\n",
       "      <td>14.604167</td>\n",
       "      <td>120.982222</td>\n",
       "      <td>cereals and tubers</td>\n",
       "      <td>Rice (regular, milled)</td>\n",
       "      <td>KG</td>\n",
       "      <td>actual</td>\n",
       "      <td>Wholesale</td>\n",
       "      <td>PHP</td>\n",
       "      <td>16.35</td>\n",
       "      <td>0.4052</td>\n",
       "    </tr>\n",
       "  </tbody>\n",
       "</table>\n",
       "</div>"
      ],
      "text/plain": [
       "         date                   admin1               admin2            market  \\\n",
       "0       #date               #adm1+name           #adm2+name  #loc+market+name   \n",
       "1  2000-01-15  National Capital region  Metropolitan Manila      Metro Manila   \n",
       "2  2000-01-15  National Capital region  Metropolitan Manila      Metro Manila   \n",
       "3  2000-01-15  National Capital region  Metropolitan Manila      Metro Manila   \n",
       "4  2000-01-15  National Capital region  Metropolitan Manila      Metro Manila   \n",
       "\n",
       "    latitude   longitude            category                commodity  \\\n",
       "0   #geo+lat    #geo+lon          #item+type               #item+name   \n",
       "1  14.604167  120.982222  cereals and tubers     Maize flour (yellow)   \n",
       "2  14.604167  120.982222  cereals and tubers  Rice (milled, superior)   \n",
       "3  14.604167  120.982222  cereals and tubers  Rice (milled, superior)   \n",
       "4  14.604167  120.982222  cereals and tubers   Rice (regular, milled)   \n",
       "\n",
       "         unit         priceflag         pricetype   currency   price  \\\n",
       "0  #item+unit  #item+price+flag  #item+price+type  #currency  #value   \n",
       "1          KG            actual            Retail        PHP    15.0   \n",
       "2          KG            actual            Retail        PHP    20.0   \n",
       "3          KG            actual         Wholesale        PHP   18.35   \n",
       "4          KG            actual         Wholesale        PHP   16.35   \n",
       "\n",
       "     usdprice  \n",
       "0  #value+usd  \n",
       "1      0.3717  \n",
       "2      0.4957  \n",
       "3      0.4548  \n",
       "4      0.4052  "
      ]
     },
<<<<<<< HEAD
     "execution_count": 64,
=======
     "execution_count": 249,
>>>>>>> fb681e7556e9a04bfc8e077a23870755307ab983
     "metadata": {},
     "output_type": "execute_result"
    }
   ],
   "source": [
    "# @title Load Dataset\n",
    "data = pd.read_csv('wfp_food_prices_phl.csv')\n",
    "data.head()"
   ]
  },
  {
   "cell_type": "markdown",
   "id": "094f9bf2",
   "metadata": {},
   "source": [
    "Let's perform a bit of processing and take a quick look at our data."
   ]
  },
  {
   "cell_type": "code",
<<<<<<< HEAD
   "execution_count": 65,
=======
   "execution_count": 250,
>>>>>>> fb681e7556e9a04bfc8e077a23870755307ab983
   "id": "e1c72b99",
   "metadata": {},
   "outputs": [],
   "source": [
    "# @title Drop Missing Values\n",
    "data = data.dropna()"
   ]
  },
  {
   "cell_type": "code",
<<<<<<< HEAD
   "execution_count": 66,
=======
   "execution_count": 251,
>>>>>>> fb681e7556e9a04bfc8e077a23870755307ab983
   "id": "ad40caae",
   "metadata": {},
   "outputs": [
    {
     "data": {
      "text/plain": [
       "Index(['date', 'admin1', 'admin2', 'market', 'latitude', 'longitude',\n",
       "       'category', 'commodity', 'unit', 'priceflag', 'pricetype', 'currency',\n",
       "       'price', 'usdprice'],\n",
       "      dtype='object')"
      ]
     },
<<<<<<< HEAD
     "execution_count": 66,
=======
     "execution_count": 251,
>>>>>>> fb681e7556e9a04bfc8e077a23870755307ab983
     "metadata": {},
     "output_type": "execute_result"
    }
   ],
   "source": [
    "# @title Check shape and columns\n",
    "data.shape\n",
    "data.columns"
   ]
  },
  {
   "cell_type": "markdown",
   "id": "9b987cbc",
   "metadata": {},
   "source": [
    "There are 121,513 rows and 14 columns of data in our dataset!"
   ]
  },
  {
   "cell_type": "markdown",
   "id": "5ad30340",
   "metadata": {},
   "source": [
    "# Preprocessing\n",
    "\n",
    "First, we ensure that our dataset is ready for analysis!"
   ]
  },
  {
   "cell_type": "code",
<<<<<<< HEAD
   "execution_count": 67,
=======
   "execution_count": 252,
>>>>>>> fb681e7556e9a04bfc8e077a23870755307ab983
   "id": "f7c53443",
   "metadata": {},
   "outputs": [
    {
     "name": "stdout",
     "output_type": "stream",
     "text": [
      "<class 'pandas.core.frame.DataFrame'>\n",
      "RangeIndex: 121513 entries, 0 to 121512\n",
      "Data columns (total 14 columns):\n",
      " #   Column     Non-Null Count   Dtype \n",
      "---  ------     --------------   ----- \n",
      " 0   date       121513 non-null  object\n",
      " 1   admin1     121513 non-null  object\n",
      " 2   admin2     121513 non-null  object\n",
      " 3   market     121513 non-null  object\n",
      " 4   latitude   121513 non-null  object\n",
      " 5   longitude  121513 non-null  object\n",
      " 6   category   121513 non-null  object\n",
      " 7   commodity  121513 non-null  object\n",
      " 8   unit       121513 non-null  object\n",
      " 9   priceflag  121513 non-null  object\n",
      " 10  pricetype  121513 non-null  object\n",
      " 11  currency   121513 non-null  object\n",
      " 12  price      121513 non-null  object\n",
      " 13  usdprice   121513 non-null  object\n",
      "dtypes: object(14)\n",
      "memory usage: 13.0+ MB\n"
     ]
    }
   ],
   "source": [
    "# @title Check information\n",
    "data.info()"
   ]
  },
  {
   "cell_type": "code",
<<<<<<< HEAD
   "execution_count": 68,
=======
   "execution_count": 253,
>>>>>>> fb681e7556e9a04bfc8e077a23870755307ab983
   "id": "42906624",
   "metadata": {},
   "outputs": [
    {
<<<<<<< HEAD
     "name": "stdout",
     "output_type": "stream",
     "text": [
      "['#adm1+name' 'National Capital region' 'Region III' 'Region IX'\n",
      " 'Region VI' 'Region VII' 'Region XI' 'Region XII'\n",
      " 'Autonomous region in Muslim Mindanao' 'Cordillera Administrative region'\n",
      " 'Region I' 'Region II' 'Region IV-A' 'Region IV-B' 'Region V'\n",
      " 'Region VIII' 'Region X' 'Region XIII']\n"
     ]
=======
     "data": {
      "text/html": [
       "<div>\n",
       "<style scoped>\n",
       "    .dataframe tbody tr th:only-of-type {\n",
       "        vertical-align: middle;\n",
       "    }\n",
       "\n",
       "    .dataframe tbody tr th {\n",
       "        vertical-align: top;\n",
       "    }\n",
       "\n",
       "    .dataframe thead th {\n",
       "        text-align: right;\n",
       "    }\n",
       "</style>\n",
       "<table border=\"1\" class=\"dataframe\">\n",
       "  <thead>\n",
       "    <tr style=\"text-align: right;\">\n",
       "      <th></th>\n",
       "      <th>date</th>\n",
       "      <th>admin1</th>\n",
       "      <th>category</th>\n",
       "      <th>commodity</th>\n",
       "      <th>priceflag</th>\n",
       "      <th>pricetype</th>\n",
       "      <th>price</th>\n",
       "    </tr>\n",
       "  </thead>\n",
       "  <tbody>\n",
       "    <tr>\n",
       "      <th>0</th>\n",
       "      <td>#date</td>\n",
       "      <td>#adm1+name</td>\n",
       "      <td>#item+type</td>\n",
       "      <td>#item+name</td>\n",
       "      <td>#item+price+flag</td>\n",
       "      <td>#item+price+type</td>\n",
       "      <td>#value</td>\n",
       "    </tr>\n",
       "    <tr>\n",
       "      <th>1</th>\n",
       "      <td>2000-01-15</td>\n",
       "      <td>National Capital region</td>\n",
       "      <td>cereals and tubers</td>\n",
       "      <td>Maize flour (yellow)</td>\n",
       "      <td>actual</td>\n",
       "      <td>Retail</td>\n",
       "      <td>15.0</td>\n",
       "    </tr>\n",
       "    <tr>\n",
       "      <th>2</th>\n",
       "      <td>2000-01-15</td>\n",
       "      <td>National Capital region</td>\n",
       "      <td>cereals and tubers</td>\n",
       "      <td>Rice (milled, superior)</td>\n",
       "      <td>actual</td>\n",
       "      <td>Retail</td>\n",
       "      <td>20.0</td>\n",
       "    </tr>\n",
       "    <tr>\n",
       "      <th>3</th>\n",
       "      <td>2000-01-15</td>\n",
       "      <td>National Capital region</td>\n",
       "      <td>cereals and tubers</td>\n",
       "      <td>Rice (milled, superior)</td>\n",
       "      <td>actual</td>\n",
       "      <td>Wholesale</td>\n",
       "      <td>18.35</td>\n",
       "    </tr>\n",
       "    <tr>\n",
       "      <th>4</th>\n",
       "      <td>2000-01-15</td>\n",
       "      <td>National Capital region</td>\n",
       "      <td>cereals and tubers</td>\n",
       "      <td>Rice (regular, milled)</td>\n",
       "      <td>actual</td>\n",
       "      <td>Wholesale</td>\n",
       "      <td>16.35</td>\n",
       "    </tr>\n",
       "  </tbody>\n",
       "</table>\n",
       "</div>"
      ],
      "text/plain": [
       "         date                   admin1            category  \\\n",
       "0       #date               #adm1+name          #item+type   \n",
       "1  2000-01-15  National Capital region  cereals and tubers   \n",
       "2  2000-01-15  National Capital region  cereals and tubers   \n",
       "3  2000-01-15  National Capital region  cereals and tubers   \n",
       "4  2000-01-15  National Capital region  cereals and tubers   \n",
       "\n",
       "                 commodity         priceflag         pricetype   price  \n",
       "0               #item+name  #item+price+flag  #item+price+type  #value  \n",
       "1     Maize flour (yellow)            actual            Retail    15.0  \n",
       "2  Rice (milled, superior)            actual            Retail    20.0  \n",
       "3  Rice (milled, superior)            actual         Wholesale   18.35  \n",
       "4   Rice (regular, milled)            actual         Wholesale   16.35  "
      ]
     },
     "execution_count": 253,
     "metadata": {},
     "output_type": "execute_result"
>>>>>>> fb681e7556e9a04bfc8e077a23870755307ab983
    }
   ],
   "source": [
    "# @title Drop unnecessary columns\n",
    "# `admin2` = Province; `market` = City; latitude and longitude = not needed;\n",
    "# `currency` = all PHP; `usdprice` = not included in analysis; unit = not needed\n",
    "\n",
    "data.drop(['admin2', 'market', 'latitude',\n",
    "           'longitude', 'currency', 'usdprice', 'unit'], axis=1, inplace=True)\n",
    "\n",
    "data.head()"
   ]
  },
  {
   "cell_type": "code",
<<<<<<< HEAD
   "execution_count": 69,
=======
   "execution_count": 254,
>>>>>>> fb681e7556e9a04bfc8e077a23870755307ab983
   "id": "3cc2e43c",
   "metadata": {},
   "outputs": [],
   "source": [
    "# @title Remove first garbage row\n",
    "data = data[1:]"
   ]
  },
  {
   "cell_type": "code",
<<<<<<< HEAD
   "execution_count": 70,
=======
   "execution_count": 255,
>>>>>>> fb681e7556e9a04bfc8e077a23870755307ab983
   "id": "f9a4679d",
   "metadata": {},
   "outputs": [
    {
     "name": "stdout",
     "output_type": "stream",
     "text": [
      "{'Autonomous region in Muslim Mindanao': 0, 'Cordillera Administrative region': 1, 'National Capital region': 2, 'Region I': 3, 'Region II': 4, 'Region III': 5, 'Region IV-A': 6, 'Region IV-B': 7, 'Region IX': 8, 'Region V': 9, 'Region VI': 10, 'Region VII': 11, 'Region VIII': 12, 'Region X': 13, 'Region XI': 14, 'Region XII': 15, 'Region XIII': 16}\n"
     ]
    },
    {
     "data": {
      "text/html": [
       "<div>\n",
       "<style scoped>\n",
       "    .dataframe tbody tr th:only-of-type {\n",
       "        vertical-align: middle;\n",
       "    }\n",
       "\n",
       "    .dataframe tbody tr th {\n",
       "        vertical-align: top;\n",
       "    }\n",
       "\n",
       "    .dataframe thead th {\n",
       "        text-align: right;\n",
       "    }\n",
       "</style>\n",
       "<table border=\"1\" class=\"dataframe\">\n",
       "  <thead>\n",
       "    <tr style=\"text-align: right;\">\n",
       "      <th></th>\n",
       "      <th>date</th>\n",
       "      <th>category</th>\n",
       "      <th>commodity</th>\n",
       "      <th>priceflag</th>\n",
       "      <th>pricetype</th>\n",
       "      <th>price</th>\n",
       "      <th>region</th>\n",
       "    </tr>\n",
       "  </thead>\n",
       "  <tbody>\n",
       "    <tr>\n",
       "      <th>1</th>\n",
       "      <td>2000-01-15</td>\n",
       "      <td>cereals and tubers</td>\n",
       "      <td>Maize flour (yellow)</td>\n",
       "      <td>actual</td>\n",
       "      <td>Retail</td>\n",
       "      <td>15.0</td>\n",
       "      <td>2</td>\n",
       "    </tr>\n",
       "    <tr>\n",
       "      <th>2</th>\n",
       "      <td>2000-01-15</td>\n",
       "      <td>cereals and tubers</td>\n",
       "      <td>Rice (milled, superior)</td>\n",
       "      <td>actual</td>\n",
       "      <td>Retail</td>\n",
       "      <td>20.0</td>\n",
       "      <td>2</td>\n",
       "    </tr>\n",
       "    <tr>\n",
       "      <th>3</th>\n",
       "      <td>2000-01-15</td>\n",
       "      <td>cereals and tubers</td>\n",
       "      <td>Rice (milled, superior)</td>\n",
       "      <td>actual</td>\n",
       "      <td>Wholesale</td>\n",
       "      <td>18.35</td>\n",
       "      <td>2</td>\n",
       "    </tr>\n",
       "    <tr>\n",
       "      <th>4</th>\n",
       "      <td>2000-01-15</td>\n",
       "      <td>cereals and tubers</td>\n",
       "      <td>Rice (regular, milled)</td>\n",
       "      <td>actual</td>\n",
       "      <td>Wholesale</td>\n",
       "      <td>16.35</td>\n",
       "      <td>2</td>\n",
       "    </tr>\n",
       "    <tr>\n",
       "      <th>5</th>\n",
       "      <td>2000-01-15</td>\n",
       "      <td>cereals and tubers</td>\n",
       "      <td>Rice (milled, superior)</td>\n",
       "      <td>actual</td>\n",
       "      <td>Retail</td>\n",
       "      <td>19.0</td>\n",
       "      <td>5</td>\n",
       "    </tr>\n",
       "    <tr>\n",
       "      <th>...</th>\n",
       "      <td>...</td>\n",
       "      <td>...</td>\n",
       "      <td>...</td>\n",
       "      <td>...</td>\n",
       "      <td>...</td>\n",
       "      <td>...</td>\n",
       "      <td>...</td>\n",
       "    </tr>\n",
       "    <tr>\n",
       "      <th>121508</th>\n",
       "      <td>2021-02-15</td>\n",
       "      <td>vegetables and fruits</td>\n",
       "      <td>Ginger</td>\n",
       "      <td>aggregate</td>\n",
       "      <td>Retail</td>\n",
       "      <td>114.0</td>\n",
       "      <td>16</td>\n",
       "    </tr>\n",
       "    <tr>\n",
       "      <th>121509</th>\n",
       "      <td>2021-02-15</td>\n",
       "      <td>vegetables and fruits</td>\n",
       "      <td>Mangoes (carabao)</td>\n",
       "      <td>aggregate</td>\n",
       "      <td>Retail</td>\n",
       "      <td>106.67</td>\n",
       "      <td>16</td>\n",
       "    </tr>\n",
       "    <tr>\n",
       "      <th>121510</th>\n",
       "      <td>2021-02-15</td>\n",
       "      <td>vegetables and fruits</td>\n",
       "      <td>Onions (red)</td>\n",
       "      <td>aggregate</td>\n",
       "      <td>Retail</td>\n",
       "      <td>114.17</td>\n",
       "      <td>16</td>\n",
       "    </tr>\n",
       "    <tr>\n",
       "      <th>121511</th>\n",
       "      <td>2021-02-15</td>\n",
       "      <td>vegetables and fruits</td>\n",
       "      <td>Papaya</td>\n",
       "      <td>aggregate</td>\n",
       "      <td>Retail</td>\n",
       "      <td>45.0</td>\n",
       "      <td>16</td>\n",
       "    </tr>\n",
       "    <tr>\n",
       "      <th>121512</th>\n",
       "      <td>2021-02-15</td>\n",
       "      <td>vegetables and fruits</td>\n",
       "      <td>Tomatoes</td>\n",
       "      <td>aggregate</td>\n",
       "      <td>Retail</td>\n",
       "      <td>81.67</td>\n",
       "      <td>16</td>\n",
       "    </tr>\n",
       "  </tbody>\n",
       "</table>\n",
       "<p>121512 rows × 7 columns</p>\n",
       "</div>"
      ],
      "text/plain": [
       "              date               category                commodity  priceflag  \\\n",
       "1       2000-01-15     cereals and tubers     Maize flour (yellow)     actual   \n",
       "2       2000-01-15     cereals and tubers  Rice (milled, superior)     actual   \n",
       "3       2000-01-15     cereals and tubers  Rice (milled, superior)     actual   \n",
       "4       2000-01-15     cereals and tubers   Rice (regular, milled)     actual   \n",
       "5       2000-01-15     cereals and tubers  Rice (milled, superior)     actual   \n",
       "...            ...                    ...                      ...        ...   \n",
       "121508  2021-02-15  vegetables and fruits                   Ginger  aggregate   \n",
       "121509  2021-02-15  vegetables and fruits        Mangoes (carabao)  aggregate   \n",
       "121510  2021-02-15  vegetables and fruits             Onions (red)  aggregate   \n",
       "121511  2021-02-15  vegetables and fruits                   Papaya  aggregate   \n",
       "121512  2021-02-15  vegetables and fruits                 Tomatoes  aggregate   \n",
       "\n",
       "        pricetype   price  region  \n",
       "1          Retail    15.0       2  \n",
       "2          Retail    20.0       2  \n",
       "3       Wholesale   18.35       2  \n",
       "4       Wholesale   16.35       2  \n",
       "5          Retail    19.0       5  \n",
       "...           ...     ...     ...  \n",
       "121508     Retail   114.0      16  \n",
       "121509     Retail  106.67      16  \n",
       "121510     Retail  114.17      16  \n",
       "121511     Retail    45.0      16  \n",
       "121512     Retail   81.67      16  \n",
       "\n",
       "[121512 rows x 7 columns]"
      ]
     },
<<<<<<< HEAD
     "execution_count": 70,
=======
     "execution_count": 255,
>>>>>>> fb681e7556e9a04bfc8e077a23870755307ab983
     "metadata": {},
     "output_type": "execute_result"
    }
   ],
   "source": [
    "# @title Rename region\n",
    "\n",
    "# Map region to an integer value\n",
    "le = LabelEncoder()\n",
    "data['region'] = le.fit_transform(data['admin1'])\n",
    "data = data.drop(['admin1'], axis=1)\n",
    "\n",
    "region_mapping = dict(zip(le.classes_, le.transform(le.classes_)))\n",
    "\n",
    "region_mapping = {k: int(v) for k, v in zip(le.classes_, le.transform(le.classes_))}\n",
    "print(region_mapping)\n",
    "\n",
    "# Dump region_mapping to a JSON file\n",
    "with open('app/region_mapping.json', 'w') as f:\n",
    "    json.dump(region_mapping, f)\n",
    "    \n",
    "data"
   ]
  },
  {
   "cell_type": "markdown",
   "id": "41b7f6b4",
   "metadata": {},
   "source": [
    "For categories, we can drop them since commodities will be used as input; we can save the mapping for future purpose."
   ]
  },
  {
   "cell_type": "code",
<<<<<<< HEAD
   "execution_count": 71,
=======
   "execution_count": 256,
>>>>>>> fb681e7556e9a04bfc8e077a23870755307ab983
   "id": "b2f273f5",
   "metadata": {},
   "outputs": [
    {
     "name": "stdout",
     "output_type": "stream",
     "text": [
      "cereals and tubers: ['Taro', 'Sweet potatoes', 'Maize (yellow)', 'Rice (regular, milled)', 'Rice (special)', 'Rice (well milled)', 'Semolina (white)', 'Maize (white)', 'Potatoes (Irish)', 'Semolina (yellow)', 'Rice (paddy)', 'Maize flour (white)', 'Rice (premium)', 'Rice (milled, superior)', 'Maize flour (yellow)']\n",
      "meat, fish and eggs: ['Eggs (duck)', 'Chicken', 'Meat (pork, with fat)', 'Anchovies', 'Fish (milkfish)', 'Fish (threadfin bream)', 'Fish (slipmouth)', 'Fish (frigate tuna)', 'Meat (pork)', 'Meat (chicken, whole)', 'Meat (pork, hock)', 'Meat (beef, chops with bones)', 'Shrimp (tiger)', 'Eggs', 'Fish (redbelly yellowtail fusilier)', 'Crab', 'Fish (roundscad)', 'Fish (tilapia)', 'Meat (beef)', 'Fish (fresh)', 'Fish (mackerel, fresh)', 'Shrimp (endeavor)', 'Meat (pork, with bones)']\n",
      "miscellaneous food: ['Sugar (brown)', 'Sugar (white)']\n",
      "oil and fats: ['Oil (cooking)']\n",
      "pulses and nuts: ['Beans (mung)', 'Groundnuts (unshelled)', 'Groundnuts (shelled)']\n",
      "vegetables and fruits: ['Sweet Potato leaves', 'Choko', 'Bitter melon', 'Bananas (latundan)', 'Carrots', 'Beans (string)', 'Pineapples', 'Mangoes (carabao)', 'Bananas (saba)', 'Squashes', 'Mangoes (piko)', 'Bananas (lakatan)', 'Coconut', 'Beans (green, fresh)', 'Water spinach', 'Onions (red)', 'Garlic', 'Mandarins', 'Onions (white)', 'Garlic (small)', 'Calamansi', 'Ginger', 'Papaya', 'Tomatoes', 'Bottle gourd', 'Eggplants', 'Cabbage', 'Garlic (large)', 'Cabbage (chinese)']\n"
     ]
    }
   ],
   "source": [
    "# @title Drop category\n",
    "category_commodity_mapping = data.groupby('category')['commodity'].apply(lambda x: list(set(x))).to_dict()\n",
    "\n",
    "# Print the mapping\n",
    "for category, commodities in category_commodity_mapping.items():\n",
    "    print(f\"{category}: {commodities}\")\n",
    "\n",
    "with open('app/category_commodity_mapping.json', 'w') as f:\n",
    "    json.dump(category_commodity_mapping, f)\n",
    "\n",
    "data = data.drop(['category'], axis=1)"
   ]
  },
  {
   "cell_type": "markdown",
   "id": "fe6967fc",
   "metadata": {},
   "source": [
    "Price is listed as objects, which is problematic for processing. "
   ]
  },
  {
   "cell_type": "code",
<<<<<<< HEAD
   "execution_count": 72,
=======
   "execution_count": 257,
>>>>>>> fb681e7556e9a04bfc8e077a23870755307ab983
   "id": "23e7d6f7",
   "metadata": {},
   "outputs": [
    {
     "name": "stdout",
     "output_type": "stream",
     "text": [
      "<class 'pandas.core.frame.DataFrame'>\n",
      "RangeIndex: 121512 entries, 1 to 121512\n",
      "Data columns (total 6 columns):\n",
      " #   Column     Non-Null Count   Dtype  \n",
      "---  ------     --------------   -----  \n",
      " 0   date       121512 non-null  object \n",
      " 1   commodity  121512 non-null  object \n",
      " 2   priceflag  121512 non-null  object \n",
      " 3   pricetype  121512 non-null  object \n",
      " 4   price      121512 non-null  float64\n",
      " 5   region     121512 non-null  int32  \n",
      "dtypes: float64(1), int32(1), object(4)\n",
      "memory usage: 5.1+ MB\n"
     ]
    }
   ],
   "source": [
    "# @title Convert datatypes\n",
    "data['price'] = data['price'].astype(float)\n",
    "data.info()"
   ]
  },
  {
   "cell_type": "code",
<<<<<<< HEAD
   "execution_count": 73,
=======
   "execution_count": 258,
>>>>>>> fb681e7556e9a04bfc8e077a23870755307ab983
   "id": "0c6e966f",
   "metadata": {},
   "outputs": [
    {
     "data": {
      "text/html": [
       "<div>\n",
       "<style scoped>\n",
       "    .dataframe tbody tr th:only-of-type {\n",
       "        vertical-align: middle;\n",
       "    }\n",
       "\n",
       "    .dataframe tbody tr th {\n",
       "        vertical-align: top;\n",
       "    }\n",
       "\n",
       "    .dataframe thead th {\n",
       "        text-align: right;\n",
       "    }\n",
       "</style>\n",
       "<table border=\"1\" class=\"dataframe\">\n",
       "  <thead>\n",
       "    <tr style=\"text-align: right;\">\n",
       "      <th></th>\n",
       "      <th>commodity</th>\n",
       "      <th>priceflag</th>\n",
       "      <th>pricetype</th>\n",
       "      <th>price</th>\n",
       "      <th>region</th>\n",
       "      <th>year</th>\n",
       "      <th>month</th>\n",
       "      <th>day</th>\n",
       "    </tr>\n",
       "  </thead>\n",
       "  <tbody>\n",
       "    <tr>\n",
       "      <th>1</th>\n",
       "      <td>Maize flour (yellow)</td>\n",
       "      <td>actual</td>\n",
       "      <td>Retail</td>\n",
       "      <td>15.00</td>\n",
       "      <td>2</td>\n",
       "      <td>2000</td>\n",
       "      <td>1</td>\n",
       "      <td>15</td>\n",
       "    </tr>\n",
       "    <tr>\n",
       "      <th>2</th>\n",
       "      <td>Rice (milled, superior)</td>\n",
       "      <td>actual</td>\n",
       "      <td>Retail</td>\n",
       "      <td>20.00</td>\n",
       "      <td>2</td>\n",
       "      <td>2000</td>\n",
       "      <td>1</td>\n",
       "      <td>15</td>\n",
       "    </tr>\n",
       "    <tr>\n",
       "      <th>3</th>\n",
       "      <td>Rice (milled, superior)</td>\n",
       "      <td>actual</td>\n",
       "      <td>Wholesale</td>\n",
       "      <td>18.35</td>\n",
       "      <td>2</td>\n",
       "      <td>2000</td>\n",
       "      <td>1</td>\n",
       "      <td>15</td>\n",
       "    </tr>\n",
       "    <tr>\n",
       "      <th>4</th>\n",
       "      <td>Rice (regular, milled)</td>\n",
       "      <td>actual</td>\n",
       "      <td>Wholesale</td>\n",
       "      <td>16.35</td>\n",
       "      <td>2</td>\n",
       "      <td>2000</td>\n",
       "      <td>1</td>\n",
       "      <td>15</td>\n",
       "    </tr>\n",
       "    <tr>\n",
       "      <th>5</th>\n",
       "      <td>Rice (milled, superior)</td>\n",
       "      <td>actual</td>\n",
       "      <td>Retail</td>\n",
       "      <td>19.00</td>\n",
       "      <td>5</td>\n",
       "      <td>2000</td>\n",
       "      <td>1</td>\n",
       "      <td>15</td>\n",
       "    </tr>\n",
       "  </tbody>\n",
       "</table>\n",
       "</div>"
      ],
      "text/plain": [
       "                 commodity priceflag  pricetype  price  region  year  month  \\\n",
       "1     Maize flour (yellow)    actual     Retail  15.00       2  2000      1   \n",
       "2  Rice (milled, superior)    actual     Retail  20.00       2  2000      1   \n",
       "3  Rice (milled, superior)    actual  Wholesale  18.35       2  2000      1   \n",
       "4   Rice (regular, milled)    actual  Wholesale  16.35       2  2000      1   \n",
       "5  Rice (milled, superior)    actual     Retail  19.00       5  2000      1   \n",
       "\n",
       "   day  \n",
       "1   15  \n",
       "2   15  \n",
       "3   15  \n",
       "4   15  \n",
       "5   15  "
      ]
     },
<<<<<<< HEAD
     "execution_count": 73,
=======
     "execution_count": 258,
>>>>>>> fb681e7556e9a04bfc8e077a23870755307ab983
     "metadata": {},
     "output_type": "execute_result"
    }
   ],
   "source": [
    "# @title Process date into own columns (year, month, day)\n",
    "data['date'] = pd.to_datetime(data['date'])\n",
    "\n",
    "# Distribute into own columns\n",
    "data['year'] = data['date'].dt.year\n",
    "data['month'] = data['date'].dt.month\n",
    "data['day'] = data['date'].dt.day\n",
    "\n",
    "# Drop raw date\n",
    "data.drop('date', axis=1, inplace=True)\n",
    "\n",
    "data.head()"
   ]
  },
  {
   "cell_type": "code",
<<<<<<< HEAD
   "execution_count": 74,
=======
   "execution_count": 259,
>>>>>>> fb681e7556e9a04bfc8e077a23870755307ab983
   "id": "1854e285",
   "metadata": {},
   "outputs": [
    {
     "name": "stdout",
     "output_type": "stream",
     "text": [
      "Unique values in 'day' column: [15]\n"
     ]
    }
   ],
   "source": [
    "unique_days = data['day'].unique()\n",
    "print(\"Unique values in 'day' column:\", unique_days)"
   ]
  },
  {
   "cell_type": "markdown",
   "id": "9b8c71a6",
   "metadata": {},
   "source": [
    "Since days are all the same, we can drop it."
   ]
  },
  {
   "cell_type": "code",
<<<<<<< HEAD
   "execution_count": 75,
=======
   "execution_count": 260,
>>>>>>> fb681e7556e9a04bfc8e077a23870755307ab983
   "id": "5915abfa",
   "metadata": {},
   "outputs": [],
   "source": [
    "data = data.drop('day', axis=1)"
   ]
  },
  {
   "cell_type": "markdown",
   "id": "69dfbe8c",
   "metadata": {},
   "source": [
    "Combine rows with price flags aggregate and actual."
   ]
  },
  {
   "cell_type": "code",
<<<<<<< HEAD
   "execution_count": 76,
=======
   "execution_count": 261,
>>>>>>> fb681e7556e9a04bfc8e077a23870755307ab983
   "id": "550a7062",
   "metadata": {},
   "outputs": [],
   "source": [
    "# # Group by the specified columns and calculate the mean of 'price' for 'actual' and 'aggregate' rows separately\n",
    "# columns_to_check = ['price', 'category', 'commodity', 'unit', 'pricetype', 'region', 'year', 'month', 'day']\n",
    "\n",
    "# # Calculate the mean of 'price' for each group of duplicate rows\n",
    "# data['price'] = data.groupby(columns_to_check)['price'].transform('mean')\n",
    "\n",
    "# # Drop the duplicate rows\n",
    "# data = data.drop_duplicates()\n",
    "# data = data.drop(columns=['priceflag'])\n",
    "\n",
    "# data"
   ]
  },
  {
   "cell_type": "markdown",
   "id": "887601e4",
   "metadata": {},
   "source": [
    "Next, since linear regression cannot use categorical columns, we need to convert them to numerical ones. We can use one-hot encoding to create binary columns for each feature."
   ]
  },
  {
   "cell_type": "code",
<<<<<<< HEAD
   "execution_count": 77,
=======
   "execution_count": 262,
>>>>>>> fb681e7556e9a04bfc8e077a23870755307ab983
   "id": "46db59dd",
   "metadata": {},
   "outputs": [
    {
     "name": "stdout",
     "output_type": "stream",
     "text": [
      "['commodity', 'price', 'region', 'year', 'month', 'priceflag_actual', 'priceflag_aggregate', 'pricetype_Farm Gate', 'pricetype_Retail', 'pricetype_Wholesale']\n"
     ]
    }
   ],
   "source": [
    "# Convert these columns into categorical\n",
    "data = pd.get_dummies(data, columns=['priceflag', 'pricetype'])\n",
    "column_order = data.columns.tolist()\n",
    "print(column_order)\n",
    "# data"
   ]
  },
  {
   "cell_type": "code",
<<<<<<< HEAD
   "execution_count": 78,
=======
   "execution_count": 263,
>>>>>>> fb681e7556e9a04bfc8e077a23870755307ab983
   "id": "b23d9601",
   "metadata": {},
   "outputs": [
    {
     "name": "stdout",
     "output_type": "stream",
     "text": [
      "['price', 'region', 'year', 'month', 'priceflag_actual', 'priceflag_aggregate', 'pricetype_Farm Gate', 'pricetype_Retail', 'pricetype_Wholesale', 'commodity_Anchovies', 'commodity_Bananas (lakatan)', 'commodity_Bananas (latundan)', 'commodity_Bananas (saba)', 'commodity_Beans (green, fresh)', 'commodity_Beans (mung)', 'commodity_Beans (string)', 'commodity_Bitter melon', 'commodity_Bottle gourd', 'commodity_Cabbage', 'commodity_Cabbage (chinese)', 'commodity_Calamansi', 'commodity_Carrots', 'commodity_Chicken', 'commodity_Choko', 'commodity_Coconut', 'commodity_Crab', 'commodity_Eggplants', 'commodity_Eggs', 'commodity_Eggs (duck)', 'commodity_Fish (fresh)', 'commodity_Fish (frigate tuna)', 'commodity_Fish (mackerel, fresh)', 'commodity_Fish (milkfish)', 'commodity_Fish (redbelly yellowtail fusilier)', 'commodity_Fish (roundscad)', 'commodity_Fish (slipmouth)', 'commodity_Fish (threadfin bream)', 'commodity_Fish (tilapia)', 'commodity_Garlic', 'commodity_Garlic (large)', 'commodity_Garlic (small)', 'commodity_Ginger', 'commodity_Groundnuts (shelled)', 'commodity_Groundnuts (unshelled)', 'commodity_Maize (white)', 'commodity_Maize (yellow)', 'commodity_Maize flour (white)', 'commodity_Maize flour (yellow)', 'commodity_Mandarins', 'commodity_Mangoes (carabao)', 'commodity_Mangoes (piko)', 'commodity_Meat (beef)', 'commodity_Meat (beef, chops with bones)', 'commodity_Meat (chicken, whole)', 'commodity_Meat (pork)', 'commodity_Meat (pork, hock)', 'commodity_Meat (pork, with bones)', 'commodity_Meat (pork, with fat)', 'commodity_Oil (cooking)', 'commodity_Onions (red)', 'commodity_Onions (white)', 'commodity_Papaya', 'commodity_Pineapples', 'commodity_Potatoes (Irish)', 'commodity_Rice (milled, superior)', 'commodity_Rice (paddy)', 'commodity_Rice (premium)', 'commodity_Rice (regular, milled)', 'commodity_Rice (special)', 'commodity_Rice (well milled)', 'commodity_Semolina (white)', 'commodity_Semolina (yellow)', 'commodity_Shrimp (endeavor)', 'commodity_Shrimp (tiger)', 'commodity_Squashes', 'commodity_Sugar (brown)', 'commodity_Sugar (white)', 'commodity_Sweet Potato leaves', 'commodity_Sweet potatoes', 'commodity_Taro', 'commodity_Tomatoes', 'commodity_Water spinach']\n",
      "<class 'pandas.core.frame.DataFrame'>\n",
      "RangeIndex: 121512 entries, 1 to 121512\n",
      "Data columns (total 82 columns):\n",
      " #   Column                                         Non-Null Count   Dtype  \n",
      "---  ------                                         --------------   -----  \n",
      " 0   price                                          121512 non-null  float64\n",
      " 1   region                                         121512 non-null  int32  \n",
      " 2   year                                           121512 non-null  int32  \n",
      " 3   month                                          121512 non-null  int32  \n",
      " 4   priceflag_actual                               121512 non-null  bool   \n",
      " 5   priceflag_aggregate                            121512 non-null  bool   \n",
      " 6   pricetype_Farm Gate                            121512 non-null  bool   \n",
      " 7   pricetype_Retail                               121512 non-null  bool   \n",
      " 8   pricetype_Wholesale                            121512 non-null  bool   \n",
      " 9   commodity_Anchovies                            121512 non-null  bool   \n",
      " 10  commodity_Bananas (lakatan)                    121512 non-null  bool   \n",
      " 11  commodity_Bananas (latundan)                   121512 non-null  bool   \n",
      " 12  commodity_Bananas (saba)                       121512 non-null  bool   \n",
      " 13  commodity_Beans (green, fresh)                 121512 non-null  bool   \n",
      " 14  commodity_Beans (mung)                         121512 non-null  bool   \n",
      " 15  commodity_Beans (string)                       121512 non-null  bool   \n",
      " 16  commodity_Bitter melon                         121512 non-null  bool   \n",
      " 17  commodity_Bottle gourd                         121512 non-null  bool   \n",
      " 18  commodity_Cabbage                              121512 non-null  bool   \n",
      " 19  commodity_Cabbage (chinese)                    121512 non-null  bool   \n",
      " 20  commodity_Calamansi                            121512 non-null  bool   \n",
      " 21  commodity_Carrots                              121512 non-null  bool   \n",
      " 22  commodity_Chicken                              121512 non-null  bool   \n",
      " 23  commodity_Choko                                121512 non-null  bool   \n",
      " 24  commodity_Coconut                              121512 non-null  bool   \n",
      " 25  commodity_Crab                                 121512 non-null  bool   \n",
      " 26  commodity_Eggplants                            121512 non-null  bool   \n",
      " 27  commodity_Eggs                                 121512 non-null  bool   \n",
      " 28  commodity_Eggs (duck)                          121512 non-null  bool   \n",
      " 29  commodity_Fish (fresh)                         121512 non-null  bool   \n",
      " 30  commodity_Fish (frigate tuna)                  121512 non-null  bool   \n",
      " 31  commodity_Fish (mackerel, fresh)               121512 non-null  bool   \n",
      " 32  commodity_Fish (milkfish)                      121512 non-null  bool   \n",
      " 33  commodity_Fish (redbelly yellowtail fusilier)  121512 non-null  bool   \n",
      " 34  commodity_Fish (roundscad)                     121512 non-null  bool   \n",
      " 35  commodity_Fish (slipmouth)                     121512 non-null  bool   \n",
      " 36  commodity_Fish (threadfin bream)               121512 non-null  bool   \n",
      " 37  commodity_Fish (tilapia)                       121512 non-null  bool   \n",
      " 38  commodity_Garlic                               121512 non-null  bool   \n",
      " 39  commodity_Garlic (large)                       121512 non-null  bool   \n",
      " 40  commodity_Garlic (small)                       121512 non-null  bool   \n",
      " 41  commodity_Ginger                               121512 non-null  bool   \n",
      " 42  commodity_Groundnuts (shelled)                 121512 non-null  bool   \n",
      " 43  commodity_Groundnuts (unshelled)               121512 non-null  bool   \n",
      " 44  commodity_Maize (white)                        121512 non-null  bool   \n",
      " 45  commodity_Maize (yellow)                       121512 non-null  bool   \n",
      " 46  commodity_Maize flour (white)                  121512 non-null  bool   \n",
      " 47  commodity_Maize flour (yellow)                 121512 non-null  bool   \n",
      " 48  commodity_Mandarins                            121512 non-null  bool   \n",
      " 49  commodity_Mangoes (carabao)                    121512 non-null  bool   \n",
      " 50  commodity_Mangoes (piko)                       121512 non-null  bool   \n",
      " 51  commodity_Meat (beef)                          121512 non-null  bool   \n",
      " 52  commodity_Meat (beef, chops with bones)        121512 non-null  bool   \n",
      " 53  commodity_Meat (chicken, whole)                121512 non-null  bool   \n",
      " 54  commodity_Meat (pork)                          121512 non-null  bool   \n",
      " 55  commodity_Meat (pork, hock)                    121512 non-null  bool   \n",
      " 56  commodity_Meat (pork, with bones)              121512 non-null  bool   \n",
      " 57  commodity_Meat (pork, with fat)                121512 non-null  bool   \n",
      " 58  commodity_Oil (cooking)                        121512 non-null  bool   \n",
      " 59  commodity_Onions (red)                         121512 non-null  bool   \n",
      " 60  commodity_Onions (white)                       121512 non-null  bool   \n",
      " 61  commodity_Papaya                               121512 non-null  bool   \n",
      " 62  commodity_Pineapples                           121512 non-null  bool   \n",
      " 63  commodity_Potatoes (Irish)                     121512 non-null  bool   \n",
      " 64  commodity_Rice (milled, superior)              121512 non-null  bool   \n",
      " 65  commodity_Rice (paddy)                         121512 non-null  bool   \n",
      " 66  commodity_Rice (premium)                       121512 non-null  bool   \n",
      " 67  commodity_Rice (regular, milled)               121512 non-null  bool   \n",
      " 68  commodity_Rice (special)                       121512 non-null  bool   \n",
      " 69  commodity_Rice (well milled)                   121512 non-null  bool   \n",
      " 70  commodity_Semolina (white)                     121512 non-null  bool   \n",
      " 71  commodity_Semolina (yellow)                    121512 non-null  bool   \n",
      " 72  commodity_Shrimp (endeavor)                    121512 non-null  bool   \n",
      " 73  commodity_Shrimp (tiger)                       121512 non-null  bool   \n",
      " 74  commodity_Squashes                             121512 non-null  bool   \n",
      " 75  commodity_Sugar (brown)                        121512 non-null  bool   \n",
      " 76  commodity_Sugar (white)                        121512 non-null  bool   \n",
      " 77  commodity_Sweet Potato leaves                  121512 non-null  bool   \n",
      " 78  commodity_Sweet potatoes                       121512 non-null  bool   \n",
      " 79  commodity_Taro                                 121512 non-null  bool   \n",
      " 80  commodity_Tomatoes                             121512 non-null  bool   \n",
      " 81  commodity_Water spinach                        121512 non-null  bool   \n",
      "dtypes: bool(78), float64(1), int32(3)\n",
      "memory usage: 11.4 MB\n"
     ]
    }
   ],
   "source": [
    "# Convert commodity variables to one-hot encoded variables\n",
    "data_encoded = pd.get_dummies(data)\n",
    "column_order = data_encoded.columns.tolist()\n",
    "print(column_order)\n",
    "data_encoded.info()"
   ]
  },
  {
   "cell_type": "markdown",
   "id": "d0037b90",
   "metadata": {},
   "source": [
    "## Data Exploration\n",
    "\n",
    "Let us explore our data and figure out what is the best approach for our model.\n",
    "\n",
    "First, let's still use the `data` dataframe. We use data_encoded later on."
   ]
  },
  {
   "cell_type": "code",
<<<<<<< HEAD
   "execution_count": 79,
=======
   "execution_count": 264,
>>>>>>> fb681e7556e9a04bfc8e077a23870755307ab983
   "id": "ee218ce4",
   "metadata": {},
   "outputs": [
    {
     "name": "stdout",
     "output_type": "stream",
     "text": [
      "Commodities: 73; Regions: 17\n"
     ]
    }
   ],
   "source": [
    "# @title Check number of commodities and regions\n",
    "num_unique_commodities = data['commodity'].nunique()\n",
    "num_unique_regions = data['region'].nunique()\n",
    "print(f\"Commodities: {num_unique_commodities}; Regions: {num_unique_regions}\")\n"
   ]
  },
  {
   "cell_type": "code",
<<<<<<< HEAD
   "execution_count": 80,
=======
   "execution_count": 265,
>>>>>>> fb681e7556e9a04bfc8e077a23870755307ab983
   "id": "cde441e0",
   "metadata": {},
   "outputs": [
    {
     "name": "stdout",
     "output_type": "stream",
     "text": [
      "['Maize flour (yellow)' 'Rice (milled, superior)' 'Rice (regular, milled)'\n",
      " 'Maize flour (white)' 'Meat (pork)' 'Maize (yellow)' 'Maize (white)'\n",
      " 'Rice (paddy)' 'Cabbage' 'Carrots' 'Garlic' 'Tomatoes' 'Potatoes (Irish)'\n",
      " 'Sweet potatoes' 'Fish (fresh)' 'Meat (beef, chops with bones)'\n",
      " 'Meat (chicken, whole)' 'Onions (red)' 'Onions (white)' 'Eggs'\n",
      " 'Beans (mung)' 'Groundnuts (unshelled)' 'Rice (premium)' 'Rice (special)'\n",
      " 'Rice (well milled)' 'Taro' 'Anchovies' 'Crab' 'Fish (frigate tuna)'\n",
      " 'Fish (mackerel, fresh)' 'Fish (roundscad)' 'Fish (slipmouth)'\n",
      " 'Fish (threadfin bream)' 'Meat (beef)' 'Meat (pork, with bones)'\n",
      " 'Shrimp (endeavor)' 'Groundnuts (shelled)' 'Bananas (latundan)'\n",
      " 'Bananas (saba)' 'Beans (green, fresh)' 'Beans (string)' 'Bitter melon'\n",
      " 'Bottle gourd' 'Cabbage (chinese)' 'Calamansi' 'Choko' 'Coconut'\n",
      " 'Eggplants' 'Ginger' 'Papaya' 'Squashes' 'Sweet Potato leaves'\n",
      " 'Water spinach' 'Semolina (white)' 'Semolina (yellow)' 'Eggs (duck)'\n",
      " 'Fish (milkfish)' 'Fish (redbelly yellowtail fusilier)' 'Fish (tilapia)'\n",
      " 'Meat (pork, hock)' 'Shrimp (tiger)' 'Bananas (lakatan)'\n",
      " 'Mangoes (carabao)' 'Mangoes (piko)' 'Pineapples' 'Chicken' 'Mandarins'\n",
      " 'Sugar (brown)' 'Sugar (white)' 'Garlic (large)' 'Meat (pork, with fat)'\n",
      " 'Garlic (small)' 'Oil (cooking)']\n"
     ]
    }
   ],
   "source": [
    "# @title Inspect commodity types\n",
    "unique_commodities = data['commodity'].unique()\n",
    "print(unique_commodities)"
   ]
  },
  {
   "cell_type": "code",
<<<<<<< HEAD
   "execution_count": 81,
=======
   "execution_count": 266,
>>>>>>> fb681e7556e9a04bfc8e077a23870755307ab983
   "id": "39143a6e",
   "metadata": {},
   "outputs": [
    {
     "name": "stdout",
     "output_type": "stream",
     "text": [
      "Average price of Fish (Tilapia): 149.53441444372154\n",
      "Average price of Fish (Milkfish): 190.06362053703157\n"
     ]
    }
   ],
   "source": [
    "tilapia_avg_price = data[data['commodity'] == 'Fish (tilapia)']['price'].mean()\n",
    "milkfish_avg_price = data[data['commodity'] == 'Fish (milkfish)']['price'].mean()\n",
    "'Rice (milled, superior)' \n",
    "print('Average price of Fish (Tilapia):', tilapia_avg_price)\n",
    "print('Average price of Fish (Milkfish):', milkfish_avg_price)"
   ]
  },
  {
   "cell_type": "markdown",
   "id": "ca0c372f",
   "metadata": {},
   "source": [
    "While removing subcategories was considered in order to lessen the data, the price difference was too big and may affect results."
   ]
  },
  {
   "cell_type": "markdown",
   "id": "a08957d0",
   "metadata": {},
   "source": [
    "We will check if linear regression is the best model for our data."
   ]
  },
  {
   "cell_type": "code",
<<<<<<< HEAD
   "execution_count": 82,
=======
   "execution_count": 267,
>>>>>>> fb681e7556e9a04bfc8e077a23870755307ab983
   "id": "f4dd779a",
   "metadata": {},
   "outputs": [
    {
     "data": {
<<<<<<< HEAD
      "image/png": "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",
=======
      "image/png": "iVBORw0KGgoAAAANSUhEUgAAAjsAAAHFCAYAAAAUpjivAAAAOXRFWHRTb2Z0d2FyZQBNYXRwbG90bGliIHZlcnNpb24zLjguMCwgaHR0cHM6Ly9tYXRwbG90bGliLm9yZy81sbWrAAAACXBIWXMAAA9hAAAPYQGoP6dpAAEAAElEQVR4nOzdeXxU9bn48c+cM0smk32HAAkJawiCsiWxyo4Lam21KiqL4r60XrW22nqr7a32p7XWWkVpQVYFW5fWugEqUiWRTRSICxAS1uz7Nss55/fHzBwyJCwJBBCf9+uV15Uz58ycGcidp9/vs1gMwzAQQgghhDhDKaf6BoQQQgghupMEO0IIIYQ4o0mwI4QQQogzmgQ7QgghhDijSbAjhBBCiDOaBDtCCCGEOKNJsCOEEEKIM5oEO0IIIYQ4o0mwI4QQQogzmgQ74ntjwYIFWCwW88dqtdKrVy9uuOEG9u3bd0zPMWvWLNLT07v3Ro/D559/ztixY4mOjsZisfDnP//5sOcGP4dZs2Z1+Phvf/tb85zi4uJuuV+A/fv388gjj7B58+ZOXbdo0SISExNpaGjonhs7iuC/pw0bNhzxvIcffphzzjkHXdeP+bm9Xi9z5swhNzeX6OhonE4ngwcP5pe//CVVVVXHe+snTHFxccjv1JF+iouLGTduHOPGjTvVty2+hywyLkJ8XyxYsIAbbriBl156iUGDBtHS0sKaNWt4/PHH6dmzJ1u2bMHlch3xOXbu3El9fT1nn332Sbrrzjn77LNpamrimWeeITY2lvT0dFJSUjo812KxEBkZiaZplJaWEhkZaT5mGAaZmZlUVVVRX1/Prl27ui3I27BhA6NGjeKll146bOB1qObmZgYMGMA999zD/fff3y33dTTBf0/r169n5MiRhz2vrq6O9PR0/vSnP3HDDTcc9Xmbm5u5+OKL+eSTT7jlllu45JJLcDqd5Ofn88c//pGIiAhWrlzJwIEDT+Tb6RK3283nn38ecuyOO+6grq6OpUuXhhw/++yz2blzJwBZWVkn7R6FAMAQ4nvipZdeMgBj/fr1IccffvhhAzCWLFly2Gubmpq6+/ZOCKvVatx+++3HdC5gXH/99YbT6TTmzp0b8tiqVasMwLj55psNwNi1a1c33K3f+vXrDcB46aWXjvma559/3ggLCzNqamq67b4Ox+PxGF6v97D/njpy1113GQMGDDB0XT/qubfccosBGMuWLWv32DfffGNER0cbQ4YMMXw+X5fuv6uO9Xdg7NixxpAhQ7r5boToHNnGEt97OTk5AJSUlAD+raqIiAi2bNnClClTiIyMZOLEieZjh65w6LrOs88+y/Dhw3E6ncTExJCTk8O///3vkPOWL19Obm4uLpeLiIgILrjggnb/q/hwtm7dyg9/+ENiY2MJCwtj+PDhLFy40Hw8uKXi8/mYM2eOuXVwNNHR0fzoRz9i/vz5Icfnz5/Pueeey4ABAzq8btWqVUycOJGoqCjCw8M599xz+eCDD0LO2bFjBzfccAP9+/cnPDyc1NRULr30UrZs2WKes3r1akaNGgXADTfcYN73I488csT7njNnDpdeeikxMTEhxy0WC3fddRcvvvgiAwYMwOFwkJWVxbJly9o9x9E+0+D9WSwWFi9ezH333UdqaioOh4MdO3Z0eF8HDhxgxIgR9O/fn+3bt5vHp0+fzrfffstHH310xPdVWlrK/PnzueCCC7j66qvbPT5gwAB+8YtfsG3bNt58800ALr/8ctLS0jrcJhszZgznnHOO+WfDMHj++efNf6uxsbFceeWVFBUVhVw3btw4srOzWbNmDXl5eYSHh3PjjTce8d6PxaHbWMFtsCeffJL/9//+H+np6TidTsaNG8e3336L1+vll7/8JT179jT/rZaXl7d73uP53RLfDxLsiO+94BdXYmKieczj8XDZZZcxYcIE/vWvf/Hoo48e9vpZs2bxs5/9jFGjRrF8+XKWLVvGZZddFpLn8thjjzFt2jSysrJ49dVXWbx4MQ0NDZx33nkUFhYe8f6++eYb8vLy2LZtG3/5y194/fXXycrKYtasWTzxxBMATJ06lfz8fACuvPJK8vPzzT8fzezZsykoKOCrr74CoLa2ltdff53Zs2d3eP6SJUuYMmUKUVFRLFy4kFdffZW4uDguuOCCkIBn//79xMfH84c//IH33nuP5557DqvVypgxY/jmm28AOOecc3jppZcA+PWvf23e90033XTY+927dy9btmxh/PjxHT7+73//m7/85S/89re/5Z///CdpaWlMmzaNf/7zn536TNt68MEH2b17Ny+88AJvvfUWSUlJ7c7ZunUrY8aMweFwkJ+fT//+/c3HRowYQUREBG+//fZh3xfARx99hM/n4/LLLz/sOcHHVq5cCcCNN97I7t27+fDDD0PO+/rrr1m3bl3I1tmtt97KPffcw6RJk3jzzTd5/vnn2bZtG3l5eZSVlYVcf+DAAa6//nquvfZa3nnnHe64444j3vvxeO655/j000957rnn+Pvf/87XX3/NpZdeyuzZs6moqGD+/Pk88cQTrFq1qt2/jeP53RLfI6d6aUmIkyW47VBQUGB4vV6joaHB+M9//mMkJiYakZGRRmlpqWEYhjFz5kwDMObPn9/uOWbOnGmkpaWZf16zZo0BGL/61a8O+7q7d+82rFarcffdd4ccb2hoMFJSUoyrrrrqiPd9zTXXGA6Hw9i9e3fI8YsuusgIDw83amtrzWOAceeddx7x+Q49V9d1o2/fvsb9999vGIZhPPfcc0ZERITR0NBgPPnkkyHbWE1NTUZcXJxx6aWXhjyXpmnGsGHDjNGjRx/29Xw+n+HxeIz+/fsb//M//2Me7+w21vLly82/x47ek9PpNP8ug687aNAgo1+/fuaxY/1MP/roIwMwzj///Hav1XYba+XKlUZUVJRx5ZVXGi0tLR3e97nnnmuMGTPmiO/tD3/4gwEY77333mHPaWlpMQDjoosuMgzDMLxer5GcnGxce+21Iec98MADht1uNyorKw3DMIz8/HwDMJ566qmQ8/bs2WM4nU7jgQceMI+NHTvWAIwPPvjgiPfbkSNtY40dO9YYO3as+eddu3YZgDFs2DBD0zTz+J///GcDMC677LKQ6++55x4DMOrq6gzDOP7fLfH9ISs74nsnJycHm81GZGQkl1xyCSkpKbz77rskJyeHnHfFFVcc9bneffddAO68887DnvP+++/j8/mYMWMGPp/P/AkLC2Ps2LGsXr36iK/x4YcfMnHiRHr37h1yfNasWTQ3Nx/zCs7hBCuyFi9ejM/nY968eVx11VVERES0O3ft2rVUV1czc+bMkPei6zoXXngh69evp6mpCQCfz8djjz1GVlYWdrsdq9WK3W5n+/bt5ipSV+zfvx+gw9UVgIkTJ4b8XaqqytVXX82OHTvYu3cv0PnP9Ej/FhYuXMjFF1/MTTfdxKuvvkpYWFiH5yUlJR1z1d+xCG5TWq1Wrr/+el5//XXq6uoA0DSNxYsX88Mf/pD4+HgA/vOf/2CxWLj++utD/u5SUlIYNmxYu3+HsbGxTJgw4YTd75FcfPHFKMrBr6PBgwcD/hXLtoLHd+/eDRz/75b4/rCe6hsQ4mRbtGgRgwcPxmq1kpycTI8ePdqdEx4eTlRU1FGfq6KiAlVVD1vxBJjbA8HclEO1/X/yHamqqurwHnv27Gk+frxuuOEGHn30UR577DE2bdrEs88+2+F5wfdy5ZVXHva5qqurcblc3HvvvTz33HP84he/YOzYscTGxqIoCjfddBMtLS1dvtfgtYcLKjr6uwgeq6qqolevXp3+TDs6N2jZsmU4nU5uuummI+ZJhYWFHfV99+nTB4Bdu3Yd9pzgY20DtRtvvJGnnnqKZcuWceutt/L+++9z4MCBkC2ssrIyDMNoF9QHZWRkhPz5SO/5RIuLiwv5s91uP+Lx1tZW4Ph/t8T3hwQ74ntn8ODBRywVBo4puRf8eT7B0u3DfTkkJCQAmPkjnRUfH8+BAwfaHQ+ucASf/3j07t2bSZMm8eijjzJw4EDy8vI6PC/4Ws8++6yZ2H2o4JfpkiVLmDFjBo899ljI45WVle0SizsjeA/V1dUdfualpaWHPRZc5ejsZ3qkfw9Lly7l4YcfZuzYsaxYsYLhw4d3eF51dfVR/67Gjx+P1WrlzTff5LbbbuvwnGBi8uTJk81jWVlZjB49mpdeeolbb72Vl156iZ49ezJlyhTznISEBCwWC//9739xOBztnvfQY8f6O3AqHe/vlvj+kGBHiONw0UUX8fjjjzNnzhx++9vfdnjOBRdcgNVqZefOnce0NXaoiRMn8sYbb7B//35z5QH8K1Th4eGHDTo667777sPpdPKTn/zksOece+65xMTEUFhYyF133XXE57NYLO2+QN9++2327dtHv379zGPBc451tWfQoEGAv+fRkCFD2j3+wQcfUFZWZgZdmqaxfPlyMjMz6dWrF3BiP9O4uDhWrVrFJZdcwvjx43n33Xc7vL6oqIjs7OwjPldKSgo33ngjc+fOZfny5e0qsr799lv+3//7fwwZMqRdEvMNN9zA7bffzieffMJbb73Fvffei6qq5uOXXHIJf/jDH9i3bx9XXXXVMb+/09nx/m6J7w8JdoQ4Dueddx7Tp0/n//7v/ygrK+OSSy7B4XDw+eefEx4ezt133016ejq//e1v+dWvfkVRUREXXnghsbGxlJWVsW7dOlwu1xGrvX7zm9/wn//8h/Hjx/O///u/xMXFsXTpUt5++22eeOIJoqOjT8h7mTJlSshKQEciIiJ49tlnmTlzJtXV1Vx55ZUkJSVRUVHBF198QUVFBXPmzAH8X64LFixg0KBBnHXWWWzcuJEnn3zSDDiCMjMzcTqdLF26lMGDBxMREUHPnj1DgpC2xowZg9PppKCggMsuu6zd4wkJCUyYMIGHH34Yl8vF888/z9dffx1Sfn6iP9PIyEjee+89fvzjHzN58mT+/e9/h1SLVVVVsX37du6+++6jPtef/vQnvvnmG66//nrWrFnDpZdeisPhoKCggD/+8Y9ERkby2muvhQQyANOmTePee+9l2rRpuN3udg0azz33XG655RZuuOEGNmzYwPnnn4/L5eLAgQN88sknDB06lNtvv71T7/tUO97fLfE9cqozpIU4WY61CdzMmTMNl8t12MfaVmMZhr8S6emnnzays7MNu91uREdHG7m5ucZbb70Vct6bb75pjB8/3oiKijIcDoeRlpZmXHnllcaqVauOeu9btmwxLr30UiM6Otqw2+3GsGHDOqxeogvVWEdyaDVW0Mcff2xMnTrViIuLM2w2m5GammpMnTrV+Mc//mGeU1NTY8yePdtISkoywsPDjR/84AfGf//733YVOYZhGK+88ooxaNAgw2azGYDxm9/85oj3NX36dCMrK+uw7+n55583MjMzDZvNZgwaNMhYunRpu3OP5TMNVmO1fV9BHf17crvdxhVXXGGEhYUZb7/9tnl83rx5hs1mC6kSOxKPx2M899xzxpgxY4yIiAjD4XAYAwcONB544AGzuqoj1157rQEY55577mHPmT9/vjFmzBjD5XIZTqfTyMzMNGbMmGFs2LDBPOd4GgN2pRrrySefDDnvcJ/74X6Hj+d3S3w/yLgIIcR3TnDEREFBAWPGjDGPWywW7rzzTv7617+ewrtr77zzzqNPnz7tRigIIU4OSVUXQnznjBw5kquuuorf/e53p/pWjmrNmjWsX7/+O3GvQpypJNgRQnwnPfXUU4waNeqUTT0/VlVVVSxatKhdabcQ4uSRbSwhhBBCnNFkZUcIIYQQZzQJdoQQQghxRpNgRwghhBBnNGkqCOi6zv79+4mMjPxOtEgXQgghBBiGQUNDAz179jziLDQJdvDPwzl0+rEQQgghvhv27NnTrjt7WxLs4G/1Dv4P61gmXQshhBDi1Kuvr6d3797m9/jhSLDDwem+UVFREuwIIYQQ3zFHS0GRBGUhhBBCnNEk2BFCCCHEGU2CHSGEEEKc0STYEUIIIcQZTYIdIYQQQpzRJNgRQgghxBlNgh0hhBBCHJVX083/dnu1Do+frqTPjhBCCCEOy6vpKBYLH3xVxsK1JawrrkbTDVTFwui+cczMTWdyVjK6YWBTT881FAl2hBBCCNEhr6azs6KR2Qs2sK+2JeQxTTfI31lF/s4qUmOczJ81ioxE12kZ8Jx+dySEEEKIUy4Y6Fw5J79doHOofbUtXDFnLUUVTafltpYEO0IIIYRoR7FYmL1gA41u3zGd3+j2ceOC9ShHGd1wKkiwI4QQQogQXk1nZWHZUVd0DrWvtoVVX5Wddqs7EuwIIYQQIoRNVVi4trhL1y5YW3za5e2cXncjhBBCiNPCuuLqrl23q2vXdScJdoQQQggRwu3V0HSjS9dquoHbpx39xJNIgh0hhBBChHDYVFSla4nGqmLBYVVP8B0dHwl2hBBCCNHO6PS4rl3Xt2vXdScJdoQQQggRwqvpzMxL79K1s/LSpRpLCCGEEKc3m6owOSuZ1Bhnp67rFetk0uDk064aS8ZFCCGEEKId3TCYP2sUV8xZe9jGghkJLvolRRBut6IbBvdM6o9uGKicXo0FJdgRQgghRDs2VSEj0cVrt+dx44L1ZoNBm2phSlYK03PTyMmIB6DZ4yPc7g8pTrctLACLYRhdqy07g9TX1xMdHU1dXR1RUVGn+naEEEKI00Zw6vnKwjLe3rKfu8b3JzPRxfvbylhScGqnoB/r97cEO0iwI4QQQhxNcMXmcFPQ2zpZU9CP9fv79MogEkIIIcRp67s6BV2CHSGEEEIc1Xd5CroEO0IIIYQ4ou/6FHQJdoQQQghxRN/1KeinTbDz+OOPY7FYuOeee8xjs2bNwmKxhPzk5OSEXOd2u7n77rtJSEjA5XJx2WWXsXfv3pN890IIIcSZ7bs8Bf20CHbWr1/P3LlzOeuss9o9duGFF3LgwAHz55133gl5/J577uGNN95g2bJlfPLJJzQ2NnLJJZegaafXxFUhhBDiu+q7PgX9lAc7jY2NXHfddfztb38jNja23eMOh4OUlBTzJy7u4ICxuro65s2bx1NPPcWkSZM4++yzWbJkCVu2bGHVqlUn820IIYQQZ6zv+hT0Ux7s3HnnnUydOpVJkyZ1+Pjq1atJSkpiwIAB3HzzzZSXl5uPbdy4Ea/Xy5QpU8xjPXv2JDs7m7Vr1x72Nd1uN/X19SE/QgghhDi8Y5mCnpHgYkpWMpcPT2VKVjIZCa7TYgr6KR0XsWzZMjZt2sT69es7fPyiiy7iJz/5CWlpaezatYuHH36YCRMmsHHjRhwOB6Wlpdjt9nYrQsnJyZSWlh72dR9//HEeffTRE/pehBBCiDNVcAp6flFVu8eONj6iosGNT9exKqdufeWUBTt79uzhZz/7GStWrCAsLKzDc66++mrzv7Ozsxk5ciRpaWm8/fbb/PjHPz7scxuGgeUIdf0PPvgg9957r/nn+vp6evfu3YV3IYQQQpz52k5Bb1t+HuyUHBwfMW1uwWHHR3g1/ZRVZZ2yYGfjxo2Ul5czYsQI85imaaxZs4a//vWvuN1uVDV0j69Hjx6kpaWxfft2AFJSUvB4PNTU1ISs7pSXl5OXl3fY13Y4HDgcjhP8joQQQogz16FT0FNjnLx2ex6VjW7GPrm6XQ8eTTfI31lF/s6qkzY+4nBO2ZrSxIkT2bJlC5s3bzZ/Ro4cyXXXXcfmzZvbBToAVVVV7Nmzhx49egAwYsQIbDYbK1euNM85cOAAW7duPWKwI4QQQojOaTsFPS0unPmzRlHZ6OaauQWn/fiIU7ayExkZSXZ2dsgxl8tFfHw82dnZNDY28sgjj3DFFVfQo0cPiouLeeihh0hISOBHP/oRANHR0cyePZv77ruP+Ph44uLiuP/++xk6dOhhE56FEEII0TXBgOej+8dhAOc/8VGnx0eseWB8995kB05pgvKRqKrKli1bWLRoEbW1tfTo0YPx48ezfPlyIiMjzfOefvpprFYrV111FS0tLUycOJEFCxZ0uDIkhBBCiONjUxW8ms4HX5V3eXzEhEFJJ3U7y2IYRte6BJ1BjnVEvBBCCCH8ps0t6LA662hyM+N55eaco594DI71+/uU99kRQgghxHfPd2l8hAQ7QgghhOiU79r4CAl2hBBCCNEp37XxERLsCCGEEKLTjmV8RIfXnYLxERLsCCGEEKJTguMjumJWXvpJ77UjwY4QQgghOqXt+IjO6BXrZNLg5JPeRVmCHSGEEEJ0WnB8RITj2Fr2RTiszJs5Cv0UdLyRYEcIIYQQndZ2fMTRVniCc7RO1Wys07aDshBCCCFOb8GAZ80D41lZWMbC/GLW7To49XxM3zhm5qUzaXAyumF8/6aeCyGEEOK7LxjATBycxIXZKQC4fZpZXu7VdFTFgkrXStVPBNnGEkIIIcRxa7tq07aPzqlazWnr1N+BEEIIIUQ3kmBHCCGEEGc0CXaEEEIIcUaTYEcIIYQQZzQJdoQQQghxRpNgRwghhBBnNAl2hBBCCHFGk2BHCCGEEGc0CXaEEEIIcUaTYEcIIYQQZzQJdoQQQghxRpNgRwghhBBnNAl2hBBCCHFGk2BHCCGEEGc0CXaEEEIIcUaTYEcIIYQQZzQJdoQQQghxRpNgRwghhDgNeDXd/G+3V+vwuOga66m+ASGEEOL7zKvpKBYLH3xVxsK1JawrrkbTDVTFwui+cczMTWdyVjK6YWBTZY2iKyTYEUIIIU4Rr6azs6KR2Qs2sK+2JeQxTTfI31lF/s4qUmOczJ81ioxElwQ8XXDafGKPP/44FouFe+65xzxmGAaPPPIIPXv2xOl0Mm7cOLZt2xZyndvt5u677yYhIQGXy8Vll13G3r17T/LdCyGEEJ0TDHSunJPfLtA51L7aFq6Ys5aiiibZ1uqC0yLYWb9+PXPnzuWss84KOf7EE0/wpz/9ib/+9a+sX7+elJQUJk+eTENDg3nOPffcwxtvvMGyZcv45JNPaGxs5JJLLkHTtENfRgghhDhtKBYLsxdsoNHtO6bzG90+blywHsVi6eY7O/Oc8mCnsbGR6667jr/97W/Exsaaxw3D4M9//jO/+tWv+PGPf0x2djYLFy6kubmZl19+GYC6ujrmzZvHU089xaRJkzj77LNZsmQJW7ZsYdWqVafqLQkhhBBH5NV0VhaWHXVF51D7altY9VWZrO500ikPdu68806mTp3KpEmTQo7v2rWL0tJSpkyZYh5zOByMHTuWtWvXArBx40a8Xm/IOT179iQ7O9s8RwghhDjd2FSFhWuLu3TtgrXFkrfTSac0QXnZsmVs2rSJ9evXt3ustLQUgOTk5JDjycnJlJSUmOfY7faQFaHgOcHrO+J2u3G73eaf6+vru/wehBBCiK5YV1zdtet2de2677NTFhru2bOHn/3sZyxZsoSwsLDDnmc5ZG/SMIx2xw51tHMef/xxoqOjzZ/evXt37uaFEEKI4+D2ami60aVrNd3A7ZO81M44ZcHOxo0bKS8vZ8SIEVitVqxWKx9//DF/+ctfsFqt5orOoSs05eXl5mMpKSl4PB5qamoOe05HHnzwQerq6syfPXv2nOB3J4QQQhyew6aiKl1LNFYVCw6reoLv6Mx2yoKdiRMnsmXLFjZv3mz+jBw5kuuuu47NmzeTkZFBSkoKK1euNK/xeDx8/PHH5OXlATBixAhsNlvIOQcOHGDr1q3mOR1xOBxERUWF/AghhBAn0+j0uK5d17fj66QD8+GdspydyMhIsrOzQ465XC7i4+PN4/fccw+PPfYY/fv3p3///jz22GOEh4dz7bXXAhAdHc3s2bO57777iI+PJy4ujvvvv5+hQ4e2S3gWQgghThcen87MvDTyi6o6fe2s3HQ8Pg17YHVHOjAf3WndQfmBBx6gpaWFO+64g5qaGsaMGcOKFSuIjIw0z3n66aexWq1cddVVtLS0MHHiRBYsWICqyhKfEEKI05PdqjApK5nUGGenys97xTqZmJWEVfEHLdKB+dhYDMPoWobUGaS+vp7o6Gjq6upkS0sIIcRJ8U1pAz5d5+oXC46psWCEw8ryW3OwKgoDUyLxaTo7Ah2Yj3S9TbUwJSuFmXnp5haY26vhsB1cGfquBkDH+v393Xx3QgghxHeY26tx44L1xLscLL81h9QY5xHPT41xsvzWHOJdDm54aR1un3ZMHZhTY5z85+7zeOaa4VQ0uJk2t4DMh95h4MPvkfnQO0z7WwEffFWOphtndG7Pab2NJYQQQpyJHDaV0vpWrpizlvmzRvHxz8exorCMxQUlrNt1MOdmTN84puemMXlwMjsrmvjx859S1uDGYVXZVFJzxC2w1Bgnr92eR2Wjm7FPrv5eb3NJsCOEEEKcAqPT48gvqmLqX/7LlCHJTM9J55WbcwBo8Wg47f5tpvydVfx02ees2FaGTzfIzYwHYElByWGf26ZamD9rFJWNbq6Ze/RtsuCg0dduzzsjAx4JdoQQQoiTrG01lk83eGdLKe9sKSUjwUVmUgQuu5Umj4+d5Y0UVTaFXDsrNx2vpvOvL/Yf9vmnZKWQmehi7JOrOz1odM0D44/rvZ2OJNgRQgghTjK7VWFyVkq7aqyiyqZ2wU1bvWKdTMpKRtf1I3Zgnp6bxorjGDQ6YVDSGbW6c+a8EyGEEOI7RNMN5s0aSYTj2NYdIhxW/j5zJJpuYLMevgNzRoKLnIx4FucffpvrSM7EQaNn1rsRQgghviPsVoXMxAj+eXvuMVVj/fP2XDITI7Bb/V/dh+vA3C8pApBBo23JNpYQQghxithUhYyECNY8MJ6VhaUszG9fjTUzN51JWcn+FR1VMUvEZ+ald9iBOdxupdnjO+5Bo2fS/C0JdoQQQohTKLhSM2FQEhdm9wAICTY8Pg1VsaAbBppu8MFXZXxT2sCd4/t12IG52eMj3G5FVSxdCnjOxEGjEuwIIYQQpwF7mwCjbbBht6rtxkLYVAsXZvdg7owR7Tow7yhvBA6Wth+LjAQX/ZIiCLdb6R135C01AJ+uYxiYuT2ne0dmCXaEEEKI01gw0Gk7FsKrGdy4YD2v3Z7H8ltzuGXRRnOFp6iyiYKiKqbnHnnQaHCMxPTcNHIy/L17gqtCwdc9NGjxajoYoCgWVhSWsjg/dPBobmY8908eyJDUqNMqEJJgRwghhDiNHW4shMOq8OdV33L3hP58/MA4Vm4rY1GgA/Pi/BKeuWb4YQeNBjsmZya6eH9bGdPmFhx1WrpX85e77yhv5NbF/uAqI8HFxEFJhNuthNkUbjk/gz5x4by/rYwlBafPBHYZBIoMAhVCCHF68vh0Pvy6nNuWbASOvBrTdtWkxaNhVS0UVTRxxZy1IYFSbkYcz103gtK6Fm5usyLUkWBQ1DfBhVfT2VXZxPXzPuPczISQe2jx+LCqSrsJ7G23x5o9PnaUN+L26SdsNMWxfn/Lyo4QQghxGmgbrPiTkhXsVoWFa4uBY1uNue38DH7QL4HaZg8ffl3OVaN689rtedyyaAPZqdHMzE3j7LRYdlY0ctUxTFvfV9vC3DU7efLKYSgWhf/91zaW35Ibcg+f76nhX3f+AK+mc83cAtw+jalDexx2e6ygqIq5a3Zyy/mZJ200hazsICs7QgghTh2vpqNYLKwsLOXtLw/wq6lZVDa6WVJQwh+uOIvMh94hJSrMHOoZ3EI6nNQYJ3NnjCDe5SAlOiwkz6bVqxFmUzn/iY+Oubvy8lty6JvoYuu+erJ6RLW7h6lDe/DMNcMZ++RqgJCArKOtrOk5aUzJSqakupn0eNdhmyMeC1nZEUIIIU5zbausyhta+c/d55nDOycNTqbZ40Ox0Omhnle/WMDyW3OIc9mwWCyUVDcR5bThsKq8v630mAOd3Ix4xgRWZ/olah3ew4zcNFYWlgF0asr63BkjaPVq2K1Kt6/unF61YUIIIcT3hMens6PcX2W1r7bFHN556+KNNLp95tbPhdmhx49Fo9vHHUs2YcHCzopGDANqm71EO23HPEYiNcbJ89edY/65Z4yz3T0Eg6Gln+0OCciOFkwFA7KSqsPPATuRJNgRQgghTjKfrqMqFm5aeLDKavYP+rLqq3IzUAj2y7nt/MwuDfWcMDgJRbGwtGA3fRNczP9kF3BsYyRsqoXFs0fT5PHh9mm4fVq7e2gbDMW6bF0KyG5etBHF0vVtrGMlwY4QQghxkhkGIdtJuRnxnJMWayYjg79fzuY9NQxJjT7m1RibamHq0B4suyWHhy4ezMrCMqae1YMVhWW0evWjjpEIXv/2T88jLd7FXz/cgcOq4rCqIfdgUy28dMMomjz+FajrxhzflPXgCIzuIsGOEEIIcRIFq66CwYNNtfDHnwwD2q+6fFZU3eHxjqTGOPnP3efxzDXDcXs1bKrCim2l5gT0tmMkjnZ9jNPGim2lIUNB297DNaP6kJkYwV8/3EG43XraT1mXYEcIIYQ4iYJf7MHgYUpWCinRjg5XXSoa3Li92hFXYzISXNw1PpP37jkPTTdCkoObPZr5Wm3HSBwqNcbJa7fn4dV0ps9bR1JUGIvySyiqbKK4sinkHlJjnDx40SBWFpYdNhhqe29TspK5fHgqU7KSyUhwtTvnZExZl2osIYQQ4iRrG9hMz01j855aRqTFhQzvTI1xcuf4fjhsaruhnjbVwkXZPbhrQj/6BgIIf++cfKKdNq44p5dZZh58rcONkbCplpDk4rxMf/XVuuJqUmOcJEbazXtQLLB49mjCHVYWri2mqLKJHeUN9IoNN+/vaGMoCoqqWJxfworCUryacVKmrEuwI4QQQpxEXp9mbielxYWTkxHPvcs3MyItzhzeGQxAKhrdxLrsIUM9U2OcLLpxNL3jwlEVC1/ureWsXjHMXrABt0/jlVt+YM6iavVqIRPQOxojEawCG/vkahrdPrPbcbDkvcmt4XLYGJ0eR5zLTlpcOHBwJeeDr8q5dWwmqmIhJSrsqI0Pp+ek8cw1w9lZ0cQNL62jrMHd7VPWZRtLCCGEOIlsgS/20elx9EuKAOBfX+w3V13gYAByw0vrKSiqYkbgeGqMkzfuyCM11sm3ZQ385IV8MhMjWBlIDr5mVB9SY8LN1wq3H3wtgBWFpeysaGLujBFEOPzrHdNzQ5OLw2xKSMl7Q6sPr6YzIzeN6blpbNlfH7Iy9dqmvQBcnJ1iboWNfXI1d768ifyiKvO8YJ+dO5ZuYuyTq/HpOq/fcS4XD03pvg87QIIdIYQQ4iTbtq+O6blp5ipKcNVlSlYyqTFObhubaZahv7ZxD1OGpJAWF878WaMId1jZUd7Iz//5BfNnjSTKaWPh2mJsqoUHLhzI1n11NHt81Ld4mTIkJSSICk5LT4hw8I/bcsnNiA9JLg63K9wzqT/gL3n/dEclmUkRGAZMzkomJyOeDwrLQhKdvy1r5POSGn53eXan++xUNbn53Q+zpRpLCCGEOJN4NR2vZjAlK9lcRVEVi7nqsuyW0QztFc3CtcX+ZOCLs9B1gyU3jaFfkoswq8Jv3yrkn7flmT1t1hVXMzM3jcgwG6sCwYjLoTJpcBJvf3nADKIAkqPCiHRY6ZcYwZKbxpjXp8Y4WXXvOBIjw9i2r44hqdFsKK4BwG5VqGhwA/DutlIgNNF50+4aIsNsne6zc8uijUSG2aQaSwghhDiT2FSFob2iKaluZvYP+gL+wMGrGdyxZCMp0f6gZG9tM6/dnke4XeXTnZXEu+xUN3lZs72SuTNGEGZTWfBpsVkpdcO5GYA/GPFqOisLy9hZ0cS00b1x+3TmzRrJuZnxvHLLGEqqm5n4p495fdNe3F7NnL3lclh5f1spn+yoBGBfXQstHn/w4rAptHo1dpQ3hqwWAWSnRptbaZ0hfXaEEEKIM5RuGGBAlNNGk9vHzLx0AK4d0wfVotDs8fH3GaNo8foIs6n8e/N+wh1WEiMd9Et0YbFYeH9bKf2SInDYVPolRZAa66TFo6HrBjZVYeHaEm5csJ6eMU7CbCoJEQ7m3zCKooomfvJCPgfqWsjLTMBhU5k/axT1rQfHSXxb1kCrV6Ox1YfTbuXbsgainXbCAlVZbbfcMhJcjMmID2mI2BnSZ0cIIYQ4A9lUhT7x4TS2+queJgcCh5+M7EVZfSvhdiv9El3sDPTGCfbLAf+MqmBQMqavfyvp2tF9AHDaVQYkRwL+ral9tS3sqW7hv9srCLepWBWFmxb6q7Z+eeEgUqLDAMhMCh0n0dDqD7IaA6s6YVaFtYHVntHpcawoLKWosom/zRjJsN7R5nVdIX12hBBCiDNUMOCxqQr1LR4+vG8sDptKlBPcXg2HTWVSVgoen8Y1o3rj9vkDnq376hiRFkdFo5u+iRG4fRrjByXi8WrYbSpDU6PNpOfcjHiG9opmd1UTimJhZaE/3+btn55HeoKLlYWljO4bz7pdVSHjJIINCP/wo6E0tHrpE+/iF69twWZVmJ6bxu7qZlSLhb7JLh7/8VlHbXx4JNJnRwghhDiD2VQFj0/H5fCPZ1iUX9KuL83M3DQmZ6Wg6QZ2q0LBzmqyekSb3YgdVpU+ceGoiv+5cjPjCbdbCbMpPHPNcMC/GmRVFd7+8gBv3JlHQ4sPu6qwYlsZF2b3YOHaEiLDrCE9eXyaTmpsOMvX7+baMWmsK67m7S8P8MhlQxiZHktNk4eGVv9srF6x4e0aH4K/g3K/pAiz6mxHeSNFlaGTzlXF0u19diTYEUIIIU4Rr6azs6KRmxZuaJfcG+xLk7+zitQYJ/NmjSQzMYImtw+nXaVvostczalr9hLptKEoMKx3DAB3j+9HnMuO26dxoLaV9AQX90weQHWjhxfX7OTpq88OGScRbBZ4cXYKv/9RNgawqrCMjSU1/PicXqREhXHn+H74dJ2qRg9hNpXy+lbu/8cX/Oen54U0ROxMB+XRfduPrzjRTmnOzpw5czjrrLOIiooiKiqK3Nxc3n33XfPxWbNmYbFYQn5ycnJCnsPtdnP33XeTkJCAy+XisssuY+/evSf7rQghhBCd4vHp7Chv5Ccv5B9TX5or5+Szs6KRuyf2AyArJQq7TcWr6ZTWt2JTFayKQmVDK15NZ9a5fbFY/KsmiRF2vD6d9HgXD72xlQcuGIS7g3ESnxVV8bvLs7GqSiDJuZhmj/+8+bNG4dF0VMXCe1tL6RMXzuyFG9i6v55vShuYmZceMky0qtHDtLkFZD70Dln/+z6ZD73DtL8VUN3k4ZlrhvOfu8+jZ3QYs/LSz+xqrF69evGHP/yBDRs2sGHDBiZMmMAPf/hDtm3bZp5z4YUXcuDAAfPnnXfeCXmOe+65hzfeeINly5bxySef0NjYyCWXXIKmaYe+nBBCCHHaUBULNy3c0Km+NLMXbMBuVdE0nQEpkXg1f57NgORINN0fMKiBQMVuVfj6QB0AYTYVLPDf7RU8f905OGwKDpsaMk4C/PlAkWE2cxVmXXE1Q3pEAf4k5soGN2u+reT2cZkhpeaWQJL1G3d2roPym3edy6TByXQ8h/3EOaXBzqWXXsrFF1/MgAEDGDBgAL///e+JiIigoKDAPMfhcJCSkmL+xMUdXO6qq6tj3rx5PPXUU0yaNImzzz6bJUuWsGXLFlatWnUq3pIQQghxVB6fzsrC0q71pSksQzMMBiRFYFMVop12FIsFVVHw+nRinDY0TcemKqz+phK3T6O62YNNVchIcFHX4sEZmJ116DiJ7NRovthTC2AmHU8ZkozHp5O/o5Jz0mIZlBxBmE01S80zElwMSI7E7dOoavR0qoNydZMHt0/D+n0pPdc0jWXLltHU1ERubq55fPXq1SQlJTFgwABuvvlmysvLzcc2btyI1+tlypQp5rGePXuSnZ3N2rVrD/tabreb+vr6kB8hhBDiZLFb/X1wumJBfjF2q2o2+/NqOmX1rQBYFLBYLASXSoJVTtVNHsCfqBzhsOK0Wymvb2XKkBQ+K6piZl662S8nf2cVXp9m9u8ZkBKF3aqwbpe/m3JylL9cPVhqHsy5satK11aqujnQgdMg2NmyZQsRERE4HA5uu+023njjDbKysgC46KKLWLp0KR9++CFPPfUU69evZ8KECbjd/pbVpaWl2O12YmNjQ54zOTmZ0tLSw77m448/TnR0tPnTu3fv7nuDQgghRAeOty9Ng1vD6/Ov4BRVNqFpOoYB9S1eVEXB7dXMLse948Lx+DS27KsjKRCsxEfYmZyVTHFlE5Ozks2gpayh1RxWevXIXmiBfJp9dS24fRq7a5rNVR//OItBuH1ayDDRY7WvtoWVX5Xh8XVv6skpD3YGDhzI5s2bKSgo4Pbbb2fmzJkUFhYCcPXVVzN16lSys7O59NJLeffdd/n22295++23j/ichmH4I9vDePDBB6mrqzN/9uzZc0LfkxBCCHEkJ6IvTVSYDZvV/zW+u6rJzNXxBnJWHTaVeJcDr08nzKpgt/q7KKsWCz5dRzegodXLhUN70NDq5a4J/Wj2+DAMw3zO63PSUFV/4JQWF47DqrKrshmHTSXMprBo9mha3P7Vo+Aw0c5alF+CvZtLz095sGO32+nXrx8jR47k8ccfZ9iwYTzzzDMdntujRw/S0tLYvn07ACkpKXg8HmpqakLOKy8vJzk5+bCv6XA4zAqw4I8QQghxsjgCYxe6ItiXJszu/wp3ezXKA0M6AeIjHHh8Gl5Np8XrAwtUN3sBSIkOY/OeWgzD3+Pn2Q+2E+208fCbW3HZ/X12wh1WvJqObhjmFpPDppIU6QAwE5bvHNeP9HgXSz/bDXS8UpWR4GJKVjKXD09lSlay2Ruore9lB2XDMMxtqkNVVVWxZ88eevToAcCIESOw2WysXLmSq666CoADBw6wdetWnnjiiZN2z0IIIURnBfvSdPq6wHaTphkYho7DptLs1dB0/zaWYrFgD6z4WCxgVRR2lDcQHWbFZlX5tqyBc9L86R/7av25Pu9s9c/Z+tmkAYxKi8OmKvSKC8eCBZ+mY1UVEiL8q0TxEXa8ms703DRWFpbh9ukhK1Wd7bNzxndQfuihh7jooovo3bs3DQ0NLFu2jNWrV/Pee+/R2NjII488whVXXEGPHj0oLi7moYceIiEhgR/96EcAREdHM3v2bO677z7i4+OJi4vj/vvvZ+jQoUyaNOlUvjUhhBDisDw+jZl5aV0KdmblpuPxaSiKxSzZHts/0eygXN7QQs+YcLyaTklVE/2SIumXGGHm4USH29B0HZ9mEGZTafH4A5WxAxPxajoDUyLw+nSwwOd7axjeOwavppORGAEWWFFYxuAekfRNiGDh2mLO659grlSlRIUxf9YoMhNdvL+tjGlzC9p1hJ6ek8Yz1wxnZ0UTN7y0jrIG95ndQbmsrIzp06dz4MABoqOjOeuss3jvvfeYPHkyLS0tbNmyhUWLFlFbW0uPHj0YP348y5cvJzIy0nyOp59+GqvVylVXXUVLSwsTJ05kwYIFqGr3fnBCCCFEV9mtKpOzUkiNcXYqqbdXrJNJWclgGGwqqWFURjxeTWdwSlTgeRW2lzWSFBmGTVUoq3eTFuciNtwO+Le8kiLCUBUFVYFWr4bT7q+6Gt7bv9rTM8aJYYBVVdhQXMOItDgMTSc9wWVOPP/R2an0TYhgXXE1Q1P9g0Avzk7hV1OzqGx0M/bJ1UftCD13xghev+Ncfv9O4Yn4SI/olAY78+bNO+xjTqeT999//6jPERYWxrPPPsuzzz57Im9NCCGE6FZun8a8WSO5ck7+MZVrRzis/H3mSHyaf+tqf51/CwoDosOt5nbTzoomxg5MAqC+1QsWKG90kxhhDyQWH8wVSov3j4i4aEgK4A9+Glt9JATyc6LCrMGXwO314XLYWFdczYXZyebWVZPbh1fT+d3l2eytaeGauQVHfT/BPjvLb83hdz/MxhvoC9RdTnmCshBCCPF949V0vthTS98EF/+8PZfUGOcRz0+NcfLP23PJTIzgnxv9I5Ea3T68Pg2bVUE3DBSLf+WmodXfU8ft1aht8mJTFZrcPqyBHQ9VseD2atS3eLlgSDJeTWdSVrI5PmJRQbF5fWZiBB6vhk1V+OfGfWaA0zvWhcOm0jvOyS8uGohNVYgMs3Hr4o2d6rNzy6KNRIbZujXQAQl2hBBCiJPOpiqM7hvPT1/eTJ+4cNY8MJ4Xrj+H3Mx4s0pLVSzkZcbz4vUjWPPAeDIS/B2TN+6uodnjo67Fa+bhWCwWFMU/AqKqyWuu/tS2+AOf6kb///VqOrEuBw6bSpTTxrDeMVgs/s7JjkBXZYeqouv+6x02BXvgeP7OKjM3p2+Cf0Vo6ewxWAOT21d2sc/OqpPQZ+e0q8YSQgghvg8MDJ78yVlmldKEQUlcmO2vNm5bneTxaeyqaKRfciTNHh+Nrf7Kpt3VzYB/haS2yU2vOH9Zd3JkGMEWPlFhNtxejbLAcFALkBjhMO+hssFDXISdZo+XKKcdj08nNzMeRQmWtetmMnOwY/MPh/Wkb2IEPl0nNTYc3TDMoaGHykhw0S8pgnC7lWaPjx3ljRRVNoWcs2BtMRcEttG6iwQ7QgghxEnm1XQUi4W1OytZuLbErFgaNzCRHw5P5Zw+MfSKcaIFghavruP1+Yd2BoOFxAgHHp9OhMPKmm8qSIwMo8WrkZsZh93q37oa0zcOh02lptlrlqE3tHhxOlR8msHbX+7nxvMy+MOq7Tx48WAUBYb1jsGn6RhArMtuJjM77VY8Pp3rc/oAoOuwvayeIYEE5WCfnc6Wnn8v++wIIYQQZzKvprOzopHZCza02/ZZ/U0Fq7+pAPx5OvNnjSIj0cWApEjUQF5LYoSDz4qqmJSVTLAvYWWTG4dNpcmjMSxQVbV+VzXnDUgEYESfGKyB1ZrFBcXcMb4/VgV/Ix78/XaCwzj31zTTMzYcn+4vNw8mD5/XPwG7VWFY7xg8Pg27VaWy0d8Xr+34iM6Wnu+va+32PjuSsyOEEEKcJMFA58o5+cc0GfyKOWspqmjCE5hP1ej2MTMvncL9dWSnRmMNjHKwBoKWKKcVn65T3+IlKzUKr6bj8WkMCpSmu70am/fUoen+50uJCjMTk91ef97MXz/a4b8Bw9/o16Yq1LV4Ob9/AgD1LT5zvINX1/Fpmpms/NrteXg1nbFPrubOlzeRX1RlNhsMlp7fsXQTY59cjU/Xef2Oc+kd5+z2PjsS7AghhBAniWKxMHtB5yaD37hgPXar6t/GsqlMGpzE+QOSaHL7R0A4bCoG/tyerXvrUC0WnHaVpMgw1nxbjt2qYrFY0AJJy0WVTYHzddLjw3HYVFq9/oClxaMR4bDh9WkYgC8QFG0qqSY1Nhy3V+PzPf4RTa2Baq9gldfS2WOobHRzzdyCYwrkrn6xgKomN0tnj+nSZ9kZEuwIIYQQJ4FXO76KJbdPZ+VXZeyubiYzKYJfvbHVHPqZEhWG3apiUxVWFJbxzpcHAHi/sAyPT6esvsXcBjsrNRprIA9nYGDOVbjdH7A47SqxLhu2wHN98m0lbq9GhN2KYRg4bCrDe8fi9flXg5q9PjRNN5OVu1J6nhobji+wctVdJNgRQgghToLDVSwdiwVri4kIs/H+1lJWfVUGQFWzB5uq4vZp9I7z9+kZkhrN4vwShvWOwe3VuH/yAOxWhU93+MdSeHw6N/0gHQDdgFavz+yzU1TRCPgruIIqGv25QKMy4gnOaI92Ws2S9xF94lBVBd3guAI53ejaBPhjJcGOEEIIcZJ0NBm8rcNNCQ9WLLX6NK4c0Ru3V+PJK4YB4LCqZCZF4A30qrEokJ7gCkwqDwNge0UjHp+GqsCgHtH4tIONAg0DpmQlY1MteDWdQT0i8en+4Z5R4f7Ax6frWCwWPD6dz0v821gen0Z6oN+O/TgDOfuZPBtLCCGE+L5oOxm8rWMt1Xb7NEanxxPttKIqCinRDlo8Ppx2K7XNXuIjHLR4DgZBXk2n2eMjzKoSHWbDblUDk9ENM88mf2cVM/PSafb46B3o0zOsl79yy6rADzITzDL0tTsqOH9gEh9/W8nZfWKxW1WsigWfpmFV1aMGcocjpedCCCHEGSLYfbhtwNOZUm0DOL9/PG6fhk2FL/fWMiItDq+mY7f6N2qcdpUUqwNfoFy8tslLWoKdulYvPl3HMKCyoZUeMf5k47qWQJKzVcEXaB64v7aFPnHhWFWFiDB/YAWwo6KJ8wfCvroWguPWvZqOw2Y9bCB3LDTdkNJzIYQQ4kwxOj3O/O/UmM6VahdVNNE73mUmIi8t2A34c4HC7VaqGz14NZ3Ne2qDsQgxTv82VHKEA6uiYFMVdlU2m5VZj1w2hFavRnFlE1ZFIcym8ubmfYEREBrbyxrNMnXwr0657CqqouDVdGqbD1aEBcdcdJaqWKT0XAghhDgTeDWdGblpgH/rav6sUZ0q1Q723Gnx+HNzvtzn75fj8WmsLCzD5QhUY20rQ1UVvD6diDB/1+OcjINBVkSYNdhLkMwkF2FtcnsABiVH4Q00DVy7oxIL/iDHMPxBjSVwsU1ViA90cYbQQK4zRvft2nWdIcGOEEIIcRJYLDBlSAqpMU6mZKWQmejqdKn2jQvWE273bxvlZsSjKgp2q0pZfYs5yLOkqjnwgrBlfz2KmZTsTzqODLOhKP7hnW6vP1BxOfx9fLyazuCeUWa1VYPHZw4Y3V3tH1MxMDkSr88/M8s/gNRf5TUzL61Ln8us3PRuHwQqwY4QQghxEhi6f2tq7owRzMxLZ0UXS7VXFpahKBb6JrjMPjvTRvvnVQW7IXs8/mqrDwrLsCoKumFgVZVAA0F/cGW3Kjht/tL1ika32VunT1w4WqAaK8J+sAw9zKbi1XR/ErUFNB0+L6nGqii0en1MzvIHcp3RK9bJpKzkbq/GkmBHCCGE6GY+TcdmVdhT3Uz/pEhG941jcX5Jl55rYX4xNlVhZFoMNlXFp+lYFQUtMLah1athDzQJfHdbKQAt3oOrR30CTfy8ms5XB+pxWFVKKv2rQR6fhqZpqIHVHIsFPF7/is8Ph/XEAvRNcGFTFexWhY+/rQTgijlr0XSdebNGEuE4ttqnCIeVv88c2eXE5s6QYEcIIYToZsE8l2c/3G4O7zzeUu0+8f4eN7oBuyobUQPl5MFuyK1ejR3ljXxWVIViseALdDoOs1uxqv5k5c8Cz7WzohGfpmO3qhQHt8EC7Db/is+gHlFYVSUkYXlfXQtur8b28ibufnkzmQkR/PP23KOu8KTGOPnn7bn0TXBhIMGOEEII8Z3m1XQaWr3Ut3r53eXZKBYLrcdZqt3q1YgKs+HxatitCq9u2Gu+1pQhKeyraSEsUCG1dV8dYTYrWMAwYOu+OrTA9tfW/XWBEnSfmbTcOzADq8nto3+Sv/eOx6eZQY6iWNAD21xpceFmJdbW/XU0tHrISHCx5oHxvHD9OeRmxptVWqpiIS8znhevH8GaB8aTkeCiqdXb7ZVYIH12hBBCiG5lC/SraWz1UVrfyoJPi/nDFWe167lzrFTFQphNpb7FS1SgtPyDr8v5+YUDsVhgclYy+2v9qzOj0+PITo1mV0Uj/ZIjAVhVWGaOk3DZrThsKtFOfzjg9fl79qiqguHRyOuXaK74FBRVck6fWHZXN9MvKRKHApmJ/mAoNyOeRy8bQrjDxrdljWzZW8sF2T24MLsHQEgfneomD6+u381ZvWPITIzAG+gJ1J0k2BFCCCG6kVfTaXL72FvTwjVzC0iKdAD+QCS/qKrTzxcs1X7uox08ePFg3F6NjAQX1kDzv/01zfSOc+H2atwxLoMxGfFsbLNltjEwtdxhU0mMtAOQmRiBqijohk5pfSupseGE2VVaPD6zYeFnu6rJyUigcH89/ZL8gVNmUiReTee+KQPoHRfOt2UNXDO3gEa3jwff2MrY/gmMyognOsxGXauX9UVVfLzdn+cT4bCy/NYcBgSeqzvJNpYQQgjRjYIrO8Ey86LKJgqKqpie27VS7Rm5aeTvrOLFNUW0ev1JyRFh/nJ0gL9+tAPwBzN5/RIA0Az/qo3bq/GbS4aYW1L9Ev3BSlqCC5/uX2H56kA9WmAK+ZLPdqMqCm6vRmWDBwADfwDn8en0jAkDA4amRqMqlnal9B9vr+SP73/Dw//ayh/f/8YMdODg1HNFscjUcyGEEOK7zKvprNgWWma+OL+EKVnJXSrVnjw4mcUFxaTGODEC08JTo504bCpur0azRzcDn/J6N61ejVavD5vVX2EV3Hry99SJxAIkBjosA2w7UI+q+gMcJdCL2WFTafL4cHs1xg5IxGIBVYFIhw2bVcEAVmwr7VIp/YrC0m5PUZZgRwghhOhGNlUxy8xtqoWpQ3swIzcNA5g/a1SnSrXnzRzFzoomPvq6nPmzRrGrogmPT2N031gAs/TcYVNp9vh45oPthNlU9te2Av4A5+vSelRFwWKBPnEuczQE+Pv07KpoxhcoY7dYMKep5/SNw2FTiQyzYlUUVEUxK6lsqsKiLpbSL8ov6facHQl2hBBCiG62rria1Bgn/7n7PJ65ZjiVjR5+91Yh6QnhnSrVzkh0sbSgmAmDkslMdHHz4o28v7WMvH6J7K3xJyUHS8/D7VY2lPjzc5w2/8Rzm6qwuyqw+mJgrgx9U9aA16eZycrBqegANqu/meAlw3rg1fw5PUHflNabW2Iy9VwIIYT4nnJ7NVKiwnjt9jwqG92MfXI1Nc1uVvzPWHZXN6NaLHz883GsKCxjcUEJ63YdnHo+pm8c03PTmDw4mV2VTeyuaubeKQP5prTB7MD8i9e/YFJWEk67isenc+3o3maFU2KEg4KiKgakRJrTy0vrW/H6/E0OgyMkKhrc2Hr7A5y0+IPl5sHSc8UCYVYrimKhssFDcmQYmm6weXcdWT1jTvup5xLsCCGEEN3EF5gu3nboZ7TTxqp7x5EcFcb5T3xEWX0rU4YkMz0nnVduzgGgxaPhDKzQ5O+s4qfLPmfFtjKSo8JY88B4xmTEM21uAQBezaCqyR+A2KwKZ6fFogZmX83MS2dxfgl/uWY4uq7j1QxqmjxmT52aJg+JUWFsO1DP2IFJ1DZ7GJEWiycwCDSvXyI1TR5cDit7qpvITIoAwKoqWFV/ZddVo3qbvXa6Wkrf3b12JNgRQgghuok1kIuSmeRi7BOriXbaeO32PJx2lffbJPS+s6WUd7aUkpHgIjMpApfdSpPHx87yRooqm8zn21fbwqqvypgwKMncNrpmVB96RDtp9viTkDUdNE3DblOZnJXM4+98RUl1MxmJETgUuGpUL6yBBOSF+SXcf8FAbBYLNlXh5c92c9eEfuYqkNun4bT5R0MUFFXRK9ZJq1dD13UUReFnE/oTjG+Ot5S+O0nOjhBCCNGNWr0aqwrLKG9oZf6sUdS3eol22jqcjVVU2cTKwjLe3LyPlYVlIYFO0IK1/tlYaXHh2FQLP79gIA2tXmqbvXh8OqrFP+LB4/N3bn7++nO4dfFGWjz+kvCegfwgh01lf10Lbp/GzHPT/c+dv8tcnfFqOl8faCDM7l8X+e/2SjPxWVEUfLpOamw4//p8L17Nv4p0qIwEF1Oykrl8eCpTspLJSHC1O2dWXjpeKT0XQgghvpu8Pp0wm8rCtSVMyUohM9HF/E92Acef0Ns/OYLrx6QR5bQREWblhdU7sVhgYyAp2W5VePjNrcS7HPz5muE899FOPD6drfvqzeqr7J7ROKwqTpuVFo/GT8f3R1UUM+dnWK9owJ939G1ZAwDRga7NhgErC8v4zVvbwPB3bk6NcZoVZ8tuyeHD+8cxd8ZIHvtxNnNnjOTD+8ex7JYcpg7tgU21+KeeD04OFLh3H9nGEkIIIbqJpc3Qz6U3jWFFYRmtXp1mj++4E3rPSo1hUlYSXk1nZWEZPaLDsKkKT6/azqIbY7BZVd7ZWsqm3bXMnzWKeyb1x6oqbCyuZljvGLbtq2N031i8ms6WvXWckxbLFSN6s72sgUE9omjxaNS3eImPsOGwqSiKBa+mk57g8s/ksqksXFtMSpQTm1VhX00zi24chW74J6O/v62MaXMLWFd8MOF6dN84puek8cw1w9lV2YRigdK6FlJjw0/gp97eKV3ZmTNnDmeddRZRUVFERUWRm5vLu+++az5uGAaPPPIIPXv2xOl0Mm7cOLZt2xbyHG63m7vvvpuEhARcLheXXXYZe/fuPdlvRQghhGjHqiq0BgZm5mTEszi/hGaPj3C71RyQ2VnBhN6xAxMYmBJl9vGZMiQZ8AdWXt0wK6T21bZw+XOfUFrnLxkvrvaXqL+wZieDe/ivf/vL/QBEOW18U+pfwXHa/X12gmXoFw1JwaYqxDht2G2q+VoDU/zjHn62fDO94sLx6QZjn1zNnS9voqy+lYmDkrh8eCoTByVRVtfKHUs3MfbJ1WiGQa+4cH66bHPXPtxOOKXBTq9evfjDH/7Ahg0b2LBhAxMmTOCHP/yhGdA88cQT/OlPf+Kvf/0r69evJyUlhcmTJ9PQ0GA+xz333MMbb7zBsmXL+OSTT2hsbOSSSy4xJ7oKIYQQp1KYTWVAYAjnuuJqdpQ3Av6E3q4IJvQOTokyj1U0uhmQEkVLILAKDwz4VBWL2d+nZ0wYbq9GmNXfafm9raXUNnsBuC4nzRwRUVhajyfQgTk+wj/Hq9HtY1JWMs0enzkOIhhMXTAkBbdX4/eXD2VHeSPT/lbA8N4xIdtYj/94aMg21vDeMVwzt4Cd5Y089qOhuH3d+519SoOdSy+9lIsvvpgBAwYwYMAAfv/73xMREUFBQQGGYfDnP/+ZX/3qV/z4xz8mOzubhQsX0tzczMsvvwxAXV0d8+bN46mnnmLSpEmcffbZLFmyhC1btrBq1apT+daEEEIIs/vw0NRoc+vqeGdjzcpLZ1NJDZWNHnyBeVfBxF9nm8AK4OLsFF67PY+UmDAMw5+UPLRXFA6bim7AsnV78Pp00uLCsViCHZSbsNtUGlq9fLGnFq+mo1ggOzWacLuVv3+yC03XzWDqvAEJ5hiKh9/cxqu35vLMtOHUNHmYNreAzIfeYfD/vkfmQ+8w7W8F1DZ7eGbacF69NZdfv7mVzERXt5eenzYJypqmsWzZMpqamsjNzWXXrl2UlpYyZcoU8xyHw8HYsWNZu3YtABs3bsTr9Yac07NnT7Kzs81zOuJ2u6mvrw/5EUIIIU40m1XF7dPIyYwL2bo6ntlYkwYnB6aVG1gD8676JrrM1ZihqdG4vRoen87vLs/Go+mEqQpqoAw+u6c/6Xh0ehxf7K0FC3xb3oiBPxgKVoBFhtnI31mFYRiE261mp+S91S1mafoPh/Uk2mnDq+l8sqOSF6afg6YbjH1iNbcv3UR+UZWZm6TpBvk7q7htySbGPrEa3TB44foRfLqz8syvxtqyZQsRERE4HA5uu+023njjDbKysigtLQUgOTk55Pzk5GTzsdLSUux2O7GxsYc9pyOPP/440dHR5k/v3r1P8LsSQggh/BxWlWG9YoCDW1crCkvZWdHE3BkjOj0bq7SuhcgwGwmRYeZjo9JisdtUCoqqyMmMCyQU+wOWygY3u2v8/Xw8Po2kqDA8Po2Zeem4vRo2VWF/zcEAJjHCwa5K/1bbln112AOrLopiodnjY8qQFHZVNOLVdG78QTpWRcGmKvRPiqC60cNPXsg/6kDQfbUtXDknn5pmD/0SI8782VgDBw5k8+bNFBQUcPvttzNz5kwKCwvNxy2W0AQuwzDaHTvU0c558MEHqaurM3/27NlzfG9CCCGE6EBwxaK8vhWvpjMjsHXl1QxuXLCeeJeD5bfmHNNsrNduz6Nvgovt5Y0UVfj78RQUVVHR0MqgHv78nc+KqszAyjBg7Y5KzkmL5av99fg0HbtVDTQJ9Dcc7BF43ZoWD0Cg63IaxZVNIeXmHp/GqsJynv9oJ5Ozklm4thiLBbJ6RJv3mBLtZPbCDWZOz9E0un3cuGADKdGdW93qilMe7Njtdvr168fIkSN5/PHHGTZsGM888wwpKSkA7VZoysvLzdWelJQUPB4PNTU1hz2nIw6Hw6wAC/4IIYQQJ5zhD3gaW33YVMXsRQP+1Y0r5qzFqih8/PNxPH/dOeRmxptbXapiIS8znjnXn8OaB8aTkehizbcVnNc/kXPSYlm4tpjF+SXEu+z0jHbi8WkM7BGJ26fT5PZiUxWzJ8+Oigazm7Pbp+PV/A0H75rQjxaPRl2zF18gN2dyVgphVhWHTaWkupkmtxe7VeXtL/dzfU4aLV6Nq0b3ob7Zi4GBz6fj8fnL34+2onOoYEdoz5mcoNwRwzBwu9307duXlJQUVq5caT7m8Xj4+OOPycvLA2DEiBHYbLaQcw4cOMDWrVvNc4QQQohTxWb1b/H0S47A7dXabV3tq21h6l/+y0+XfU5suJ1Xbs5h52MX89VvL2TnYxfz8s055GXGU1rXim4YvF9YSnmDv4R8XXE1KwpL8WgGrV6ff7VmcDIOq2Lubuyra6HZ46OiwQ34Ay9V8Y+GePjNrbjsVpx2f1Djn3flL5Uf3icG8OfkuBz+JoJ3TehPZaObHz33KXHhdlxhVjD8eUN2q8LCtcVd+owWrC02t8q6yykNdh566CH++9//UlxczJYtW/jVr37F6tWrue6667BYLNxzzz089thjvPHGG2zdupVZs2YRHh7OtddeC0B0dDSzZ8/mvvvu44MPPuDzzz/n+uuvZ+jQoUyaNOlUvjUhhBDfY20Tbls8Gk0eDYdN5aZF7beufLrBO1tKmfa3Aib8cTU3L9rAg69v4Revfcn2sgZaPDpXz83HYVWpbfayfP0es+w7LyOeMJvKUyu+9b+W158ojOGvrGps9ff0afJoeHwaumFgDeTmvLO1lDuWbgKgsfXg1tPf/1uE027Fq+lcl9PH/358OpmJLm5dvJHt5Y1s3VeHTVGwWA6GEcfbEbo7ndJgp6ysjOnTpzNw4EAmTpzIZ599xnvvvcfkyZMBeOCBB7jnnnu44447GDlyJPv27WPFihVERh4sq3v66ae5/PLLueqqqzj33HMJDw/nrbfeQlW7N0oUQgghDuXVdDTd4IOv/N2Dvymtx2lX+WR7BQC9YsKPuHXl3zbycUF2Mr+/PBvdgB8//ym94/wdhvfWNHNNmynjYzLiAViQX8LemmYiHFazDL1tZdXglEjsVhULFvbXNpvBUn5RFQVFVUzOSqbF48Pj0xg/KAkAm6owvHcMPk0DC6wIbFOd0yeW8wck0OrTaPH60HXdfL6uCHaE7k6ndFzEvHnzjvi4xWLhkUce4ZFHHjnsOWFhYTz77LM8++yzJ/juhBBCiGPn1XR2VjQye8EGM3flHxv28utLsqhv1QLJv+nctmQjU//yX6YMSWZ6Tjqv3JwD+FeAnHb//1DP31nFT5d9zoptZfh0g99cOgSvpnPhkBQSA43+RqfHERlmw+3VSIkKIzbcv93UM8Zp5uckRjj4rKiKq0f5q47tVoXd1S30inOhKhY03WBxfgnPXDMcr6Zht1rJ6hGFrut4NYNmj49Yl//1FueXEG5XePmm0ditKnZgf22zmd8TfL7OCnaE7k4yG0sIIYQ4TsFA58o5+SHVSOUN/iqsC7NTqGhsZdLgJFJjnOyrbeGdLaW8s6WUjAQXmUkRuOxWmjw+dpY3hkw77xXrZGJWEhgwbUwfvi1vpF9SBDNy09hV2YTDpjJ/1ihqmrxYVQWfpmNVFb4ta2BmXjpb99UxMj2OA7Ut9Ihxsj8wNmJ0ehz5RVWsKCxld3UzGYkRgH+hQVEsOBT48OsyLhraE/BvU/364sHY2gQmNU0eesaEhzxfZwU7Qnen0y5BWQghhPiuUSwWZi9oX3Z97Zg0SutaiXBYuXbuZx321imq9JeRv7l5HysLy0ICnWBvnZ3lTfg0naTIMPZUN5mVXcHRE5lJLv6xYQ8Oq0qYTaXZ4yPCYWVyVjLnpMWysrCMHRWNuL0adc0ePD7N7ODs1QzmrikC/KXna3dUmK9vGBZ8bbaprhzZi701zfg0/7HSOrd53cy8LnaEzk3//lVjCSGEEN8lwanjbcuubaqFG85NZ0RaLCnRYawsLKOkurnTvXX+eVsuGYkuZi9cT3OgQ/Lw3rFmZdfs8/rS4tFYVVhGjxgnXk1n855awu1WesY4Katr4ew+/jL1Fo/PLCe3W9WQDs5948Px+jTsVoXnVxexeU8NXk2nT7wTq+Lv0jxuYCKRYTa2lzViVf3HyhpaA/17FCZ1sSP0xKykM7saSwghhPius6mhZdfBwZu/njqYVq8v5PHO9Nb5+OfjCLer2FSFqUN7EOdy4PXpxLvsZmVXUmQYTrvKwrUl5GbGYVMVlhbsNu/lrx/tAPxbUMEk52Dl1f7aFnOVKS3BZW5PrSuu5m9rdmGxwOAe0WZl2fVj/JVZhQfqzOe3B8rVAXaWd74j9IvTR7CzvOnoJx+nLgc7O3fu5Ne//jXTpk2jvLwcgPfee8+cWC6EEEJ8XwTLroOdji0YNLp9ZuJt27LsY+mtE+O089NlnzP56TUA/GRkL//FFvyl5fgru55a8Q3gn3qeFu/PufnXF/s5UNuC26vR7NFp9vhIiwtncI9o6lq8TBmSzDelDRRVNhHvcvD6Hbmc1z8BODjJfEVhKeX1bnTdwKv5mwae1TsGt1ejqKIZj0+j2eOjf3KkuaXV2VWr5bfmEO9ycMNL607Pqecff/wxQ4cO5bPPPuP111+nsdG/Z/jll1/ym9/85oTeoBBCCHE6CwYINtXC/FmjqGvxkBobjlVRKK9309pBWfbheuvcvGgDE/64mml/K+CdLaW4fTpun3+qucfnn2P1wsdFfFZUxcy8dLyaTmubqefBeylvcOOwqbR6NcLtVnMS+msb9zA5K4VXPivhvP6J/OZf2+gT58JhVdC0g5PMvZrBPcs2Y+Dvy2O3KiQEVpRavRp2q0qYVSU7Ndrc0iqtb+3UqpVVUfjx859S1uA+PauxfvnLX/J///d/3HvvvSE9b8aPH88zzzxzwm5OCCGEON0FA4QpWSlkJrpo8vhw2lR0w2DN9gquHZN2xLLsosqmkKTktoJl2Q0tXiKd/tLydcXVLAqUi1c3uQmzqUSEWfH4NPNeXIES9tQY/7DQoanRtHo1/rjiG64e1YdrxvTB7dP409XDaHT7iA6zYbX61z9Gp8exoaSa312ezZ7qZtLi/dtfVU0eEiPDCA88t0/XAYsZzASrsTpbVp+bGX+8fwVH1aVgZ8uWLbz88svtjicmJlJV1fmyMyGEEOK7bHR6HDNy02h0+7BYLFQ2udlQXENWzyjz8aOVZWckuOiXFEG43Uqzx8eO8kaSo/3BSkWjm0injRbPwW2mnRVNXDrMXxae3TPaTPIdnR5HYpQDj0/j7on9qWvxMnZgAmE2FbfPYPq8dSy/NQfVYiEYfimBgCU4rDTOZScz0UVJdTONrRpOO/z0lc0smj2ayVnJrCuqYnifGFq9Gj5Nx2ZVmJ6bRn5RlblqdSxl9QAzctPwanq3Tj7vUrATExPDgQMH6Nu3b8jxzz//nNTU1BNyY0IIIcR3gVfTuWNcJmMy4vHpemAcg41VhWX86erhbNtXZwYCh7Kp/hWh6blp5AS6ITd7/CMeACoa3Pg0nfR4/zaW035wm+mRf2/jlVty2LavjtF9YwHYtr+OO8ZlEu20A6AqCo/8exuPXJoFHAy6viltoEd0GLsqmhjWJ4at++oYkBLJ3upmpgxJITkqjC/31XFWajRvf3mAH56dyrriaqoaPUwZksIXe2qxW1UUxcJzH+7gZ5MGMGVIstlDKOhIq1bgr8aanJVsjrDoLl169muvvZZf/OIXlJaWYrFY0HWdTz/9lPvvv58ZM2ac6HsUQgghTls2VSGvXwJeTeeLPbXm8WaPP+n2hTU7Q8q8g4JVW89cM5yqRg/T5haQ+dA7ZP3v+2Q+9A7T/lbAxpIaLBYLPt0IWbkBiAl0TH5hzU4G94gyE4nz+vmDpmBJ/LL1uylvcOMO9NbJzYgnOzWa+AgHdS3+6eirCstw2lQ+3VGBrhuckxaLQ1VYUVhGcVWj+br/772v0HWD7FT/663YVsZfP9pBfYuXxlZfl6qxGlt9IbPEukOXgp3f//739OnTh9TUVBobG8nKyuL8888nLy+PX//61yf6HoUQQojTmoGBTVUo2FmNO1CpFGzu997W0nbNBINVW15NZ+yTq7nz5U3kF1WZeT2abpC/s4rblmzk/Cc+oqiyEa+m821pPdNz00iNcfK/l2Th9mq8t7WUFo8/eXloajQ+3UDXdbPk3asZPPPBdhyB3jpzpp9j3rdV9W9fvbutFIBRfeP5pqwegCGp0SzOL2FXZQsen8bMvDT+8+UBqpvc2K3+kvjF+SVmU8LIMBuJkZ2rxkqMdBAZZuvWLSzoYrBjs9lYunQp27dv59VXX2XJkiV8/fXXLF68WAZwCiGE+N4JbsNs2VeHw6oSbrealVC6QUhZdlpcOPNnjaKy0c01cwtCtn06sq+2hSvn5FNU0UTPmHCmZCXzxp15eALVU7oBe2r8wz3LG9xYFQUlcD/BkvfgZHGPptPk1swqLm+gbHxHeSO1zR6G9Izm428qcQcaGK4rrqbZ48NuVZmclUJSZBjvF5aZ97auuBqbauHSYT1p9WrUt3ixq8dWjWVXFRpafOhG1waIdkaXgp3f/va3NDc3k5GRwZVXXslVV11F//79aWlp4be//e2JvkchhBDitOf2anxb1mD+OVgJNTo9jn21LVw9dy3RThsf3T+OfkkR3Lp4Y7vxEofT6PZx44L1OO0qmm5Q1ejhsbe/Mp/fMDDLv/fVNJv3E1wp2lPTzP7aFhxWlVc+241NVQizqRQeqMdhU+mXFEFMuD/PZ8u+OhyBVSlNN2gINCF0+zTmzRqJXVXw+Q6OkAhWoU2ft44Ih83MJzpSD6FH/r0Nj6bTJz6821d1oIvBzqOPPmr21mmrubmZRx999LhvSgghhPiuCY5i+KyoilbvwUqo4LbT3OmjSIkKo77V2268xLHYV9vCqq/KUCwWblq4gViXHa+mM+vcdHrF+reNzukTy56aFrxtytCDuUGJkQ5WFpZR1+I1n7O40h8YXTQkBQgN2MLtVnrHOXn66uHUtXj5Yk8tfRNcTMpKxmpVzOefnpvGisIyNu2u4eq5a4lyWnn0h9nUtXi599XN3LrY30Po1sUbuO/VzdS1eHjksiFYFYW1Oyu7PV8HuliNZRgGFoul3fEvvviCuLjun14qhBBCnI5Gp8exdV8do9L9oxse+fc2fnNpFiPTYymvdzN93jpeuSUnZLxEZyxYW8wFQ1JwOVR+NrE/AJMHJ2MYhjntvL7Va45+uDg7hV9NzfIfC+TwDOoRidur8fmeWiZlJdPi8TEpKxmvppkB2+Y9NQzvHcvS2WOobHSzqaSG63LSuGPJJv58zTCzVPyHw3qSkxHPtLkFIQHd5j219Ip18qerhgOhfXY8Po2yejc3LVxPr7hwxg5IOu7P/Wg6FezExsZisViwWCwMGDAgJODRNI3GxkZuu+22E36TQgghxOnMq+m0eDRm5qUTG26jqsnDxpIaXtu0h19eNIiqRg/XzC0gL9BAr+34iM4I5t5ccU4vkiIdqKqCx6fzWVEVef3icXs1SgKrNV8dqOd3l2ezt6aFuWuK+Mu0s/l8Tw1//MkwHDaVpZ+V8PRVw8EC2anRZu7M6PQ4/rZmF89cE01qbDjTnviIP101jIZWLz+d1I8H/vklz157Dtv213F9jn/S+d7aZl67PY/KRjdjn1xtrlp11GfH7dOZO2ME/7gtj5+8uPZ4PvZj1qlg589//jOGYXDjjTfy6KOPEh0dbT5mt9tJT08nNzf3hN+kEEIIcTpTLBaefP8bfnNpljkYc+HaYsYPTMZhVbhp4QYa3T6zYeDhuikfjaYbtHg0Jg5O4uvSegakRAUmle8kMymCnjFONu+pxePTcdoUIsNs3Lr4E6YMSabVqzFxUDLJUQ4Aapq8VDV6SI4Oo6yuheRop9kT6GfLPsej6az5thKHVWFMRjx3v7yJX03N4tEfDgHghY938uerh9Ps8fH3GQcTrtvmIR2uz87VLxaw/NYc/j5jFG6fdnqNi5g5cyYAffv2JS8vD5vN1i03JYQQQnxXeDWdD74qZ9n63dw2NpPUQP7MuuJqlt40hhVt8nOCDQOPND7iSFTFgtOu0i8pklXbShmSGmO+Vv7OKq4Y0Ytwu4rdqpAaG87KwjLKG1q56QcZhNlUM78mJSqM63PS+Ojbcq4Z1YdnPtjOYz8+ixfW7OTpq4Yzpm8c4XYrC9cW0y/JP2D0na2lbNpdy/v3nG+WvJde6CY11klmoouxT67uVML1LYs2+mdkna4JymPHjjUDnZaWFurr60N+hBBCiO+Ltv1s/v5JER7fwUnjORnxLM4vMc/dUX6wQV9XjO578LrRbToua7pBr1gnFQ1uJmUl8+WeGvO+pmSlmKs5ORnxvLvlABmJLiZnJYOBOR29xaOZPYH+fPXZgD+Iarsata+2hc17asyS9/v/8YXZvLArCdcrvyo7KQnKXQp2mpubueuuu0hKSiIiIoLY2NiQHyGEEOL7JJiDs6+mBbtVCZk03jY/p6iyiYKiKqbnpnXpdWblpbO7uhmvTyfCoeL1+Xv59EuKYExGPC9/VsKUrGS27q83Xzu4mvNNqf/YXRP6s6+mhaKKRsYPSjQnmTvtqtkTKDLMak5rb7saZVMtDEo5OO+rrL4Vm6qwqE1A1xmL8ktO39Lzn//853z44Yc8//zzOBwO/v73v/Poo4/Ss2dPFi1adKLvUQghhDhtte1nE1y5Af+k8Y7ycxbnl3Q4PuJoesU6mTQ4GZtiAYs/cApWXQVLx+d8vJOdFU2MHZBIq1cLWV3K31mN16eTmejilsUb+cVrW4gN9NYJTjIfnR6HI1BWHhYoLW+7GjUlK4WYcBsen87MvDSmBF73eBOuu1uXgp233nqL559/niuvvBKr1cp5553Hr3/9ax577DGWLl16ou9RCCGEOG0F+83AwZWb8oZWzhuQYK6ItBWcWN7ZOVLzZo6iodVLUlQYNlXhHxv2AlDf4mVSVjLNHh+tXp0bF6wn3G4lzKaGrC59tqsKLLAikMfz5E/OwqsZNLp9TBmSwjelDczMSzdzdMAf4LRdjQquElU2upmclcK9kweYK0BdoekGbp/WpWs7o0vBTnV1tTnxPCoqiupqf2T2gx/8gDVr1py4uxNCCCGOoG2+R3DEwaHHT4a2OThvf3mABJcjZLunLa9mhIyPOJY5Uq/dnkdGogufrkOgRPyDr8vxajpRThvZqdFmYLWvtoU7lm4CDl1dMsx5Vhdlp9A33oXDpvDH975mclYyNtXC5KxkUmOduH2aOTgUDq5GBVeJ/rTyWwzDQFUs5gpQRzISXEzJSuby4alMyUomI8EV8riqWLq9Egu62FQwIyOD4uJi0tLSyMrK4tVXX2X06NG89dZbxMTEnOBbFEIIIUJ5NR3FYuGDr8pYuLaEdcXVaLr/y3d03zhm5qYzOSsZ3TC6PSfEPyQznfyiKlJjnNw5vh+eQNO9TSU1TM9NI7+oKuSafbUtXDFnLfNnjeLjn49jRWEZiwtKWLfr4PsY0zeOmXnpTBqcTJPbh01VSIgIQ9f9oxpGpsWa78187+lx5BdVkV9UxabdNeRmxptB0AMXDAL8qzzv/vQ8sxfQ0nW7ufG8vmQkRrC7qokbzk03A5DgdtuKwlLK6v2VV+uKq5kamYIBfLq9grEDk8zXBbCpFqZkpTA9N42cQBJ12/LygqIqFueXsKKwlJFdTNTurC4FOzfccANffPEFY8eO5cEHH2Tq1Kk8++yz+Hw+/vSnP53oexRCCCFMXk1nZ0UjsxdsaFcBFJwWnr/TH3jMnzWKjERXtwY8/iGZyaTFhTN3xkgqG92U1rdSWtfKW1/s55lrhpMa42x3r/tqW5j6l/8yZUgy03PSeeXmHCC027BX01EVC3cs2cT/XjqYjKQIFCw4bAo/m9gfr6ajGwYbi2sYmR5rBl021UJKVBjJUQfnc/WOC8cdyOMZkOLf3gpWkT3/0U7+cMVZXDfvM16//VzzHvfXtjB3xgiufrGAv39SxC8uHISmG9z4g77YVIUXPi7CEShpDwZ782eNol+Si6pGT8jfS1BGoou/TBvOjvImSutbzG7M3alLwc7//M//mP89fvx4vv76azZs2EBmZibDhg07YTcnhBBCtBUMdK6ck3/Uni7B1ZPgFlB3faF6NZ0mt48lN42hR3SYORJi2rsFbCipNvNzrn6xoN09+3SDd7aU8s6WUrPbcLzLzt0T+uO0KUQ5/V/T+buq2Lq/nr6JERSW1pGdGkNSlAM1MN28V6yT+laffxsqxsnw3jEkRToormoiIcLBgxcNxKoqWFX4Qf8E8/WDicWtXn+5/J7qFi5/7lPe/dl5uH06OyqayOoRxfJbc1icX0JYYGjo8N6x5vWL80t45prhnNMnlheuP4dwhxXDgPXFNSwpaL/qNj0nzb9iFOvs9kA0qNOvoOs68+fP55JLLiE7O5uhQ4dy11130djYyFlnndUd9yiEEEIA/k7FsxdsOGqgE8wVmTQ4mZc+3YXSwTzHE8WmKjz85lbiXXZWfVVOZJg/QFlXXN2p/JyiyiYK99czPTeNpCgHH39bgVVVzWovn6ZhUxXmf1KMx6fzzYGDfe16xjjZU9VMQ6uXuTNGMDMvnRWFZcyYtw7DMMzmgwATByWFTC2H0GaH+2pb+PWbW4hz2Rg7IJHf/Gsb6fEufv+jocDByq9gLlAw4Xrx7NFEOW0UVzYx9snV3PnyJvKLqszXCK663bF0E2OfXE1JVROabpx+fXYMw+Cyyy7jpptuYt++fQwdOpQhQ4ZQUlLCrFmz+NGPftRd9ymEEOJ77mjN62yqhalDe7Dslhw+vH8cc2eM5PEfZ/OHK85CVSzd+qX6VWkD4Q5/x+FwuzWkQim4wmRVFD7++Tiev+4ccjPjzaReVbGQlxnPnOvP8XcUVhR0wyDc4d/KClZ7pcX7k3u/3FeH3arw0TeVeHw6bp/GpzsqOTstloff3EpSZBij+8axOL+EfbUt/PCvn2IYBh6fhlfTGdQjMmRqObRvdrjqqzJavf6A6Jlpw9lV2cRv/rWV6iYPk7KScXs1MzjyagavfLYbu6qwo7yRa+YWHLXB4L7aFq5+sYCdFY3QtUKuTunUNtaCBQtYs2YNH3zwAePHjw957MMPP+Tyyy9n0aJFzJgx44TepBBCCBHsCNyRYK5IZqKLFYVlPLPqW8ZkxJsJsqFTt3Xs1hO3deL2amaV0briaq4d3cesUGob8BwtP+fz3TXM+6SIHeVNPPmTYUwYmITHp2G3qoxOj6N/clTIa20JBD0AG4prGDswiXe2luJyWPnDFWeZW1Ql1c1sLKlhTEY8zR4fiRFh5r0HE4vblpfnF1WZM7321bbQ4tHMmVc1zV7+cs1w1MDWU/D6a3P6oCgWbl28sdMjI9Y8MN6c2N5dOhXsvPLKKzz00EPtAh2ACRMm8Mtf/pKlS5dKsCOEEKJbdNS8LliaXdno5qoXC3j8x0OZkpXM+9vKmDa3oNsrtRw2lYgwa0iJNxBSoQQd5+dEhdkYkBzB6L5xnN0nlrP7xNLi8ZfQ26wqXk3Hp+ncOS6DOJe/AWDfRBdur0aL52BQsa/OH5RoumHm37RNCv66tJ4xGfG8un431+eko2sGBoRUigVzb1JjnEzPTePLfXWclRodMvNqRWEpJdXNZCRGmENDy+pb6ZvgYsW20i6NjFhRWMqkwcmd/tw7o1N/y19++SUXXnjhYR+/6KKL+OKLL477poQQQohDuTtoXmdTLcyf5Z+4/T/LN/P8defg1fQOc0bS4sKJdFjZVFLD0s9KqGny4DtBW1up0U5zW6ehNbRHTUeC+Tm3nJ/B7B/0ZX9tK9PmFpD50DsM/t/3yHzoHab9rYAPvirHYrEwJuNgUnFWShQOm4rTbsUXKENvbPXhtPtXk9rm3wQ1tmq4vRpPvP+N/z1b/CtlU4Yc7OQczL1ZcMMocjLicahKyBBT8PcImj5vHc1uH17NYEpWMhcP7XHaj4zo1LNXV1eTnHz46Cs5OZmamppjfr7HH3+cUaNGERkZSVJSEpdffjnffPNNyDmzZs3CYrGE/OTk5ISc43a7ufvuu0lISMDlcnHZZZexd+/ezrw1IYQQpzlHB83rpmSlkJno4s6lm/jrtedQ2egOyRkJ5vEsD+TxPHfdOTw0dTAzctOJdtrMrZPjyefx+HRzQOfo9DiaPT4cVvWIIyGCq1GHC8yCyby3LdnI+U98RFFlE16fTlF5I0NTowF/w0DD8H8unsD9j06Pa5d/Y1MtXDO6Nw6bittn8OcPdmAJvOfGVp/ZyTmYTJ0Q4R8aOiQ1OmSIadC+2hYef/drhvaKpqS6mVnnpgOn98iITgU7mqZhtR5+50tVVXy+Y9urA/j444+58847KSgoYOXKlfh8PqZMmUJTU1PIeRdeeCEHDhwwf955552Qx++55x7eeOMNli1bxieffEJjYyOXXHIJmtb9LaiFEEKcPId2Iw6OL8hOjSYz0RWSM5Ia4+Q/d5/HM9cMZ2BKJD5dZ0VgayvzoXcY+LB/BeXeVzezZW8dum50aaVHUSCvX4LZQDAYbAR71Bw6EqLtatSxJvNeMWctRZVNRIXbSEtw4dV0cjLjzBWRoT2j8Wo603PT2g0bDc6zCn5+pXWt/ibMhn8MRWLkwUqxfbUtLMwvxhsY4XC4AGbZ+t3sLG9E1w2cNrXDVbdjdTJGRnQqZ8cwDGbNmoXD4ejwcbfb3akXf++990L+/NJLL5GUlMTGjRs5//zzzeMOh4OUlJQOn6Ouro558+axePFiJk2aBMCSJUvo3bs3q1at4oILLujUPQkhhDg9eTXdbJoH/vLynIx4ps0t4GeT+odsuQRXTupaPFQ3eyivd3Pr4o0hKz4XDu0R0uU3uP0TfK1j3VqxKgq7q5pIjHRwVq9ofv/2VxQUVdHs0cweNbcsOvjawdWotrkwQRkJLvolRRBu9+cA7ShvpKiyiUa3jxsXrDeTeRWLhWG9Ysx7nRjIQQquJh2af7N5Ty1n9YphRm4ab3y+z1zR+qa0AYvFwK76K8XWbK/0d2a2qh0OMT34d2Fww4L1vHZ7Ho1uL8lRzpCE7M44GSMjOrWyM3PmTJKSkoiOju7wJykp6biSk+vq6gCIiwuN3FevXk1SUhIDBgzg5ptvpry83Hxs48aNeL1epkyZYh7r2bMn2dnZrF27tsPXcbvd1NfXh/wIIYQ4vdlUxWyaB5gDKysa3ebMJv95/pWTqkY3isVCeX3oCkrbFZ+qRo+50pP1v++H5Mp0pgfMdfM+I8Jhxe3TmTtjBP/YsIfz+ydwx9JN7UrOg6tRh261tS2Zf+zH2cydMZIP7x/HsltymDq0B+UNraz6qoyKBjc2q0JZvRtd18GAoT2jcFhVs4HhpzsrQ/Jvlhbs9n9+Q5JpaD0YYP31w+1EhdnxaDq/e6uQkWmxVDb6Fy46GmLaVnDFqcntX5U5dNXtWAW3ALtTp1Z2Xnrppe66DwzD4N577+UHP/gB2dnZ5vGLLrqIn/zkJ6SlpbFr1y4efvhhJkyYwMaNG3E4HJSWlmK324mNjQ15vuTkZEpLSzt8rccff5xHH320296LEEKI7qEbBvNnjeKKOWvN1Y+2Zd9wcOXk0bcK+c2lWSErKG0rt8Y+ufqEjJtwezX2VLdQ3eQhKcrBgORIbj4vg5LqZn53+RCufjGfvH7xISXn0+YWmPcTLJk/XPXY9Jw0nrlmODsrmnj2w+1cEGjqt+qrMq4f0webVaGoopGMxAj++uF2fjU1i6U3jeHB17cwb+ZIAP71xX6uHtWbgSmR/PqSwazbVU16QjgXDe1hzuj638uyAAsXPfNfnrvubIb3jm1XUXaofbUtTHl6Dat/Pi5k1a0zZuWld/vIiO7v0XyM7rrrLr788kteeeWVkONXX301U6dOJTs7m0svvZR3332Xb7/9lrfffvuIz2cYBpbDdMx88MEHqaurM3/27Nlzwt6HEEKI7mNTFTISXbx2ex5hNoVwu/WQsu+DeTxTz+rRbgWlS7kyFU2HXeHxaTqOwAiFzKQIXt+0B4sFMhIjSI93kR7v4pVbcvhiTx3T/lbAM6u+BfyB2bEmKQc7Dvt0nV9PzTJfd1RarNnv5umV39Ls9jH1rJ5mA8NXb81hf12L2eBwUX6JmaPTIzqMeJedKVn+oqOpf/kvO8obWVnoLx//25pdeHz6ESvKzM9AN3giMDn9aBPcD9Ur1smkwcmnVzVWd7n77rv597//zUcffUSvXr2OeG6PHj1IS0tj+/btAKSkpODxeNpVgZWXlx+2cszhcBAVFRXyI4QQ4rsjI/Hg+IK2Zd/BPJ5VhWUhW1twcMWns43vblyw/rDjJoK5Lzefl4FX07l2dDoW/NPYF3y6C90w6JcYwX8fGM+6X03kZ5MG4PZqKBY6HXhd/WIBVU1uPIFk3oGBYZ5eTWfqWT15/F1/wAH+4OWnyz7HYVXNBofB0vLaZk8gAMLcdhuUEsnAlCgWrvV/XisKS6lsdHPBkJRjCmDe3VpKcVUT82eNbJeQfTgRDivzZo5CN7q/hfIpDXYMw+Cuu+7i9ddf58MPP6Rv375Hvaaqqoo9e/bQo0cPAEaMGIHNZmPlypXmOQcOHGDr1q3k5eV1270LIYQ4ubyajqYbfPh1GUsLivFqOvUtXkam+9MYRqfHmXk8zZ721USzf9CXVV+Vd6nx3aqvyjpc3fFqOtVNbi4f3hNNN/imrIHzn/iI/3v7K6ae1ZP9tS3sqWlGx2Dbvnoq6ltx2FQuzO5a4HXLoo2oioJVVahr9eHxabR4NSZnJbPm2wp2ljfytxkjCbOpfLGnjmjnwSqsYGl5MEfnL6u+RbFAZmIEL84YEfJ5eTWDaXML8Ph05h1DAOPVDGbMW0ecy8Frt+cdNUAKrmqdtoNAT6Q777yTJUuW8PLLLxMZGUlpaSmlpaW0tPj/ITY2NnL//feTn59PcXExq1ev5tJLLyUhIcGcwxUdHc3s2bO57777+OCDD/j888+5/vrrGTp0qFmdJYQQ4vTTNnhwe7UOj7c9trOikZ+8kE96fATXjklnV2UTj761jXPblH0H83jCbKHVRAOSIzgnLfaw4yaOZsHa4g6/lG2qfyvNpxvmXKjyhlbmzxpFXYuHmHA7zR6Nq14oYHCPKGpavADcdn5mu4Z9x6Jt4LV5Ty12q0q4TUXXDebOGMGdL28izmXn1VtzWDR7NGX1razbVW1uR7Wd03XP5AHkF1VT2+wlOTIsZJ4X+MdMXPf3z0iPdx1TAANQ3+Klb4KLNQ+M54XrR3Q4A+zF6SNY88D4kxboQCcTlE+0OXPmADBu3LiQ4y+99BKzZs1CVVW2bNnCokWLqK2tpUePHowfP57ly5cTGRlpnv/0009jtVq56qqraGlpYeLEiSxYsABV7d5SNiGEEJ3nDZROf/BVGQvXlhx1nEMw0Ln75c9ZPHsMHk1HscBNCzdQ3tDKLednmmXfa76tMAdxBre2NN3ginP8KRLd0fjOriroimGu0kwd2oPMRBcl1c1UNLi5ft5nLL8l19yyWnLTaIb3juX/3v6qS/eyYG0xFwxJoVesf8aVxWJhX20zafEunr32bO5Yuom/Xns2yVFhnP/ERwzvHWOWoe+rbWk3pyslOgxNNwizKe3KxzftrmHK0x/z8s05rHlgPCsLy1iYX8y6XQf/zsb0jWNGbhqTs1JCRnBMHJzEhdn+ZGq3TzPLy72ajqpYUOm+SfSHOqXBjnGUfTqn08n7779/1OcJCwvj2Wef5dlnnz1RtyaEEKIbBAOX2Qs2HFMlVGaSC8Vi4dZFG5k7YySVjW6aPRpb99WZ19+4YD1v3JGHZhjccn4GAOGB4ZrBaqKJg5ParVx0RrDx3aH9YDw+jboWH+uLq837OXSu1LmZCSF9dT4rqmZ479jjDrwyEyLw+HQ+/LqM3/3nK/51Vx69Y8P5x225VDe5WRFINi5vaDVL0q9+0T/Qs+2crjfuyKOhxcv5A5M6rL7aXd3CuCdXM2VIMjefl2FWlLV6NcJs/s9j6766dgFM21Wbtp/byVrNaeu0SFAWQghx5gsGOlfOyT/mSqhmt8bKNh2Sf//2V4zuG9d+jIEFdlc3E+W04vZqTBmSwpa9dczMSyc3I55+SZFmom5XHK7xnd2qkhjpMO8nmCDddq7UoX11vi1rOCGBV32rF7tVMZOKAy13wDBIjAxjUeB4MFcn3nWwU3JQRoKLs/vEMufjopCuy4cKBkc/en4tE/64mpsXbeCXr23h5kUbmPBHfwn/8Yzc6G4S7AghhDgpFIuF2Qs2HHNC7tDUaKKcNhauLTYDhsgw/4ZEcFUkWE5eXu/mjiWbUAIzFCdnJTO4RySTs5KZM/0c8zm7q/Fd8H6CCdLBuVLB4KdtcNbs0U5I4FUXyP/5fE+N/zNocPODP3zI3z8pCrknCM3VadvgcEBypHnu4vySI87zCiqqbGJlYRlvbt7HysIyPJp+UsrHj8fpe2dCCCHOGF5NZ2UnEnJTY5w8f50/SGnbITk11hmyKtJ2EOgL00fgsKoUVTTi03W2lzfS6tVocms0e3xHXLk4mmDju3bvy6eHJEKH261msvW64moz+GkbeKTG+HNtjjfw6h0XTotHY+KgZLOyq8njw2G1drhyFMzV+emyz4kNt/PKzTm8MH2EOdcqWJre0TyvwzmZ5ePHQ4IdIYQQ3c6mKsdcCRVcrWl0+0I6JH++p4Zbzs8IWRUJrvgM6x1N33gXYTaVLXtrsSoKL3+2G4dV4dkPthNut7L0s2NbuTjUkRrf2axKyFiFZo8PR5tKsGB1WNvA4ycj+1DR4D7uwKu83o3TrpqfAcB/7j6P6Tl9DrtyFNyOmva3Aib8cTUL84vNafJH2u7qSGqMk+W35pzUqqquOr3vTgghxBnjWBNyg6s1z320I6RD8k9G9CYp8uCqSNstojvH96e+1cvKwjIuyO7BysJSs4NyMKFXtfi/0I+lb0xQhMPK3Okjj7pyEVylCU48DwZAweGiwcAjI8HFwJRIXj4BgVcwlsnJiOfdLQfMbszXz1sXck+H4/bpXJzdI+Tcw213HVo+Puf6c/j45+OIdFhP+0AHJNgRQghxErg7kZAbXKkIBinBDsk/v2AgKwvLzO2otoNAB6ZEEhNu5/PdNUQ5bazYdrCDstun0+z28chlQ9hd3URsuD1k5SIjwcWUrGQuH57KlKxkcyUpNcbJP2/PNV+nI15ND1mlKapsYvMef0f/0elxZvATDCbO7ZcAwJyPd3Zpy+jF6SPQDYOy+hYSIsMoqvA//10T+pul7flFVUfdsguunh3ahwc63u7a+djFfPXbC9n52MW8fHMOMU47P132OV+XNpzWiclBp7T0XAghxPdDcKvkaAFPcLVm2twCiiqbKCiqMjskB5OV41x2nrlmOOuLq2n2+MjNiDevT4sPBw52UP58Tw3/uvMHNHs1YsPtTP3LJyRHhbF49mj++8B4qprcJAZWi4KrMAAVDW7iXXZafZq/pPowycQ2VTFnTAX72PxtzS6evjqa6blp3LF0kxl45BdVMaRnFG6vRqtX58YF63nt9jyW35rDLYs2HjGfKTXGydwZI4h3OQK9bFRWFpYRZlXoHRseUtoOsDi/JKS3zqGCq2djn1zdrg8PEFKanpHgIjMpApfdSpPHx87yRooqm+gV6+TZaed0OdH6ZJKVHSGEECfFsSTkHprQuzi/hHP7JdDk9prHg4m0N5ybTrjdSt8EFz5Nx+3V6BntxB3o/9Ls8ZnJu3uqm1kZyGt54fpzMPCXaW8ormHa3AIyH3qHrP99n8yH3mHa3wrYWFKNAeiGf1XqcKsXHq+GTzfMGVMRDmu7uVLBKqe0uHAuzE4xA7/ObhlZFYUrX1iLw6oS57KzcG0xPWPCwEK7bsxHSzZuWw5/tHMPrb4qqmz6ziQmB0mwI4QQotsE51m5vRoz89KPev6hCb0rCkvZXd2My2GjxePfCgsm0jpt/i/mlKgwrKqCw6bi0w0cNtXsoDw9N41Pd1Rydp9YlhSUsOjG0UQ5bRRXNnH+Ex9x+9KOJ43ftmQT5z/xESVVTShHWLmw21TsVgUM/4yp5bfmkBQZFjJX6tOdleysaGLJTWOIDAQTbXNkjnXLaOpf/kvvuHDztSsa3QxIicKmKu36Dh2tt07bcviuJCafzLlWJ4JsYwkhhOgWXk2npKqJKKeNCIeVyW22eoIyElz0S4rgnD6xZPWIpFd8eMiYB69m8OqGvfzyokE47Qe3wvbVtvDchzt4aOpgc+sKoLbZAxzsoJyTEc9T73/D2IFJJETa6R0XzrdlDVwzt8Dc8gneQzDQ2hHYpglOGl9+aw4DkiI5kqXrSpiV15cBSZGseWA8K7aV8vi7X/HQxYNZfksuf1rxLc9eO5zt5Y1kJkUwI7CtBce2ZRQ0IzfNv8pkYOYWQcfJ38GVo/mzRvHxz8exorCMxQUlRIfZ2l1zuHMPHQsxPTeNyYOTMTg1nZC7SoIdIYQQJ1ywW7JVsVDX7CUpMozdVf6tkuv+/hnnZiYwMzeN0Rnx+DTd/PIMbhcFxxbYVAszc9NwezUcNjXk+C1jM1AUGNQjCp+uYxiQFOnA49OZMiSZb0rrGZgSxb66Fpo9Pu4Y1w9VsXDr4o24fRpTh/Zgem4aOYGcn7Y5OwVFVSzOL2FFYSm3LNrImgfG49N0rId8weu6jlcz+MmI3hRVNrJlby2XnJXKxMFJXDS0B15NJyPRxV+vPRubVeHtLw/ws8n9mRLY4jo0n6aosikkuGmrV6yTKVkpGIaB1aoQEWbF7dPQdQ6bC3XoHKzgqIeOEsYPd26LR8MZCB7zd1bx02Wf8/TVw4/xX8LpQYIdIYQQJ5xisfCfLw7wP5MH8OT73/DLiwZx3bzPeO22PD75xQTCrAo+3cDr01EUC01uL06blYrGVhIjwpiZl05+URVTslJIinKgKgrVTR5m5qWxu7qZxbNHkxjpwKoo7K5qokeME4sFzu2fSGWjm8lZKazYVkp6vIvGVp+Z27NiWyng70eTmeji/W1lTJtb0G4Y6fScNJ65Zrg/N+ildawoLGXS4OT271NRUAydisZWHKrCD4f3QlUsNLR6UQKl5y67FUtgK+zdbaXcd8FAPIEcn+CsqqMJVmJpuuHfNsNfpRYcYXGk5O9DV46uGNGLO8f36/CaY1llOtzojNPZd2cNSgghxHeCV9P57/YK7hiXyX+3V3Db2Axavf4VCCxQ0dCKFkhsLapspK7Fg9Pm37oqr3NjYJhbXreNzWTtDv92T5zLzqSsZN64Mw+HVTG3UeZ9ugubqmBVFDTdwOPz5wlNykrGYVNp9PiDCZuq8E6bfjRjn1zNnS8fzNnJSHAxcVASyZFhvPn5PqbPW4dP13n9jnN5Z8uBDrdtdN0/wT3OZadHjJNdlY1UNbkpq2+lttmDw6rSFBhcGtwi+6yoihavz8zxOdbmfZmJEbR4fTS5fXg1nVGBKjU49m7MRZVNvLZx7zFd01FiMhx9dMbpyGIcbfT490B9fT3R0dHU1dURFRV1qm9HCCG+8/bXNNMzNpzdVU0YQFq8i29KG9A0nbRArklxZRPhdpWkqDB8usHm3TWMHZiEJzCCobLBTb/kSKbNLeDRy7IYkBJFk9vH7upm1hdXMyM3ndbAaIYwm4pX81/nsKooFn/Q5XLY2F3VRHJUGA6byjeBvjDBnB2bamFKVspht7N2ljcS7bRR3+olI7F9vx2vptPk9mFVFUoqm7BbFTw+HbtVoUeMk/21LQxIjuSp97/hvgsGkvnQO1w4JIVnrhlObYuHMJuVMKty1ByZVp9Oq9dHbLiDNzbt5cqRvdF0gy/21NIrzsmG4hruWLrpmP9+lt2SQ3WTp1PXBL04fQQTBiWdFjk7x/r9fervVAghxBknOcrfu6ZnjJNfvrYFgMwkF1v21eG0qTisCv/YsIe0eBcOq0K008aG4ho03R8oPPzmVnoFKo/WFVfj1fxbXg6rwk0LN2BXFXyaTphNxR7I9bEAEQ4bHk1DVRRcDhs+XSc1Npziyia8Pt2cIdXo9pEa4+Q/d5/HM9cMp6rRw/V//4y7X9nEl3vrzPeRGuskIdJBRmIEHp/W7n3aVIXIMH/Asmz9HvomuFi2fg8ZiS7CrAoLPy0G/NtX4F9NCZZ6Vzd5KK1rwWKBkemxHVZijUyLxWKB0roW6pr9VWouh5WiikZ03SAx0hHS5+dYHevQz0MdaXTG6ey7dbdCCCFOex6fxpb99bh9GisKy8gvqqK6ycOqwjImD0mhqsnNisIyrh2TRlWTh8ID9f7rdJ1gCsk7W0vNknVNN/wVV4F+MuUNrUwanIQBeHw6m/fUYMHfN6eh1YtqUfhiTy0+XUfXYWVhGQ6bEtKPJlg+HdzOeuydr3j4kiyevsof+AR77wx6+D2z986HX1cEKsQO9tzxajpVTR5WFJaZ4ymmntXDPDawRyRur8aO8kazuWCw1DvGaScl2onZ9CegbZM+I/BYj2gnvePC0Q2DKUNSMAz4dGclNlWhxavT2qbPz7H4dGclbp/O/Fmjzrihnx2RYEcIIcQJZbeqbCquxmFVWZxfQkaCiziXnc931xLnspMYGcaqwjIGpESSGOmgZ3QYrV6NMX3jsKkKbq/GDzLjcTmsOGwq4wYmEhFmM/vJTMlKITbcjk1VsFsV3t9WhlX15/A8+8F2XA4rXx2ox6r4H1+xrZT0hAjz+uCohOB4BeCweTzQtvfORs5/4iOKKprMgMemKiQF3k9ORrz5f5Miw1icX8LEQclmE8F2qykW2FPdzPlPrmb0Yx8w4Y+ruXnRBh7455fcvGgDE/7oP37+k6vZW9NCi1ejrK4VTTfITIrgxY+LuGLOWsrqWnFYlc7lAN2Si92qkJHo4rXb887I3jptSTWWEEKc5ryabn7BBEuwOzp26LmnQrA8u7i6GfBvQV2c7a9iigm3medFhB38+okNt6OqCj2j/V+4DptKTubBERA/Gp5q/ve64mqW3jSG3TUt9A3k/pRUNZuPuwLP27YPYHB0RPD6C4ccHJXg9mnMn5VnBj5Hq4wK9qN57fY8+iW6UAOfdfA12r5WRaOb1Fj/e2q7ffW3GSOwqQrl9aGvebiy8+BrLr81B5ui8O6W/fzw7F5mBdkFf17DNaN784sLB4X0+VnUQQ7QzLx0Jg1ODoyc8N97RqKLNQ+MZ2VhGQvzi4/pmu8aCXaEEOI0EwxYvJq/0ueDr8pYuLaEvbXN/H3GKDITXawsLGNxfgnriqtJiwtnQHIkQ3tFk5sRz7DeMafsi8mqKrR6NepbfOYW1BXn9Mbt1Yhw2PD6dLy6zlmp0Xh9OjoGXp9GhGrHaVPx+nRsVoV+iRH4NB3d+P/snXmYFPW5/T/d1XvPvsMwzDDDIsMgCLIruLC4xyXugigqrokxifdnEnO9Nybeq3FJNC4oioCKSYwmxg1wAVmGVRQYZJlhBhiYfe+9q/r3R3V9p7qnh8WoQG6d5+FhqK6urqpu5nv6fc97ToSR/dMIhxXkSITCDBfjizN5/6tDFKQ7kZUIDqskJrBmTxxAICSr9y/6nP4ZLvGzrERiohIuHN6nR65Ub9CbD76yei+/u2y4uB4tnsJhlQiE1evWMrv02Vg3L9jAez86g2SHlcmPfnpUY+cAXYEwty3cxIqfn8XqyqYYl+mwEmFx+T6WrN/PjRMKuemMAUwtzeX84WqieSAsi1Hxrw91cO+SL/j9VSPEsbXPyblDczivLK/Hc0KyouaDceJnYPUGg+wYMGDAwAkCjdys3tPE8PxUDrX7mbtoU4zGpKkrwJTHPqOh08/00jxeu2WcmCLSV3h8/jAmE1jM3z/hcVglUpwW0b4ZXZSujoAHQlgtZqyYSXPZsEb9YixmEyFZwWmTsFpUkjc4L1kY+PVLcyJJZizA4FzVybh8bzMXnNoHiwT+kCy8Z2wWE5LZTIc/HH0tSHdbxc8Dc5JE0CiojsTL4nKl9DjStJbZbMKKWcRT+EPdJGFAlptASI4J5Wzo9NPcFaS8quWwwZ+JUNvmY9kOtU2md5nWEFYizF9dzfzV1RRnuZk4MJOizO7JtzWVzcIn5+nrRiW41u7Pit5H52St5uhhkB0DBgwYOAGgOQ7PXbiJebNO51C7X7Q4XDYz79w1keauINfMKyfVaRWmeF8daGd7bTvD8lOxR6sLLpuFJIeVkKz0cP39rttfwZCMzSpxar80AG45YwDJ0XgCs6m7MmCVTOJ1D7R66ZfmIsNtiz5mpl96t4ak1RskK5pMPjw/FW8wzKrdTeJxLS4iJCscbPNSmJkUVfaqSHF0t8/OH6ZWLtZXtzChOJNxOuITj/w0Jy/PHtOr+eDq+88mL6p10eIptL9BzeyyWyU+/rqeykYPr9x0OjbJTFFWEr96Z9tR31M9Fq6tEc7Gmpt0IhzOifnb9sk5UVuqehhkx4ABAwaOMzSi88Pn1jJlcLZoqygRhf+9fDiXjVJdeS/90xpSnVbeumMi7b4gNS1eTu2Xykfb63n4vR09XIBnTShkRmkewbCCyURMS2x9dQtmE5xXlscdU0oo7ZsqIhcSLVyHe0zzlQE1GLO8qpnRhWkEwzJXnt5P7DOmKJ2QrBCSFbKTbIQVdTHccbCTAVlJ7KzrZECWi3ZfCLfdgsUcIaxEqOvwk+ayEQHGl2TgslmoafFS1dhFv3QXM4blinNYtbuZvmkuBuYkidca2idZRFKcW5qLPySTl+Lg2evV6kaiXKn4Slp8FUZWIliircY2b4iLRvTFGwgzfVge5VXNDMxJEiTstIJ0HvjbVt64bRwNHYFeX/NosH6v+ryddR2iNXasmD2x6FshIvFt1vjP340TiphWemJofQyyY8CAAQPHGWaTiTkLNtIVCAs9SW6Kg2U/mYzVYsYXlFm1p4mGTj//vOdM2n1B0lw2Gjt7X4j3NXspzkpCiaij0tXNHm5buEnsq69aeIJhgmFVl7G0ok5ogWQlQkGGk9fmjCM/3cXyHXViUctLcajPz3Hz8Y56Fq6tobErwPL7prCuqpm7zxmIZDZTnOUmFCUiIwrSUBQ12XxIn1QxYr0u2pJ65pPdPHblCDLdduToAmlRIpT2SSUcjUkYUZAGqFWNj3fUc+vkEkYWpItk8l31nSI24mCbl4IMN6cWpGExqxqe4X1TkCQzL88eQ1cgjN1q7hGZED+t1ZuuRo6StUy3jTMGZlHXoY7EP/zPHfzqoqGku2yEZIUbJxYyICuJ3fVdLC6v4dcXl/Ya7XAkyEoEX1BmbWULN4zvnzBf63DQfHL04+3fBBpBn7NgY8LP39rKZtZWNovP2fGe4jox6ksGDBgw8H8UIVkRmpHiLDfjizMpr2zmjdvGEQH2Nqmp4drIdUm2G4tkprFTXYgTLXRaVUJWFGpavOxt8nD1C+UxROetOyYCEdp8aqTBrvpOJj/6KXe+1j12nZ/m5C9zJ9LhDzP50U+5fbH6WF6Ko3tU+9HPuCP6HM1LZnBeMk2davp4Z1Q7A9DmDYmfI5EIYUUhEJL5fHcTIVnhguF9+MHTq1AiEdHy8odl5IhKljp8Ibr8YTp8IWZOKOTruk78IZmwoo6B+0MySgQRG+G0ai7IHoJhGavFTFOXel4lOW7+9OkeoX3R4/yyPEpyus0He0NTVwBZUUXWktnEzJfWUdno4ZYzB2AymahuVkfUtfdt7qJNtHiCCV/zaCGZTThtEuV7m6hs9ByTt8635ZOjr0QeiWhpk2T6cf3jAYPsGDBgwMBxhFUy8+qaakAVzwL8x/mn0NgZwG4x8/KqvYDa9pg5oZCvatspzHD1uhBbJRML54yl1Rtk/qq9PfbVqhbNXQHMJhMOq4U9DV09iFN8dUN7rLftGhatrWHa0Fx+814FIVlhb7OqGwmEZN5Yv0/9OSxT1+HHFFHHzDVCNn1YHl1BmcrGLpZV1NPiCfLl/jYhv/lg6yGSHVZcdokZw/KwSmYcVoklG/YTCss4rBKeoDoFtr/FS4rTSiAk89A/tmOLCm4/3F5HMCyzvKJetIT0GVH5aU4evnQ4yysajriQv7+1DslsJhJRjQtrWrzcvGADGW4byyrqmTV/PcGwQliJsHyHerw9DV09XvNYoOltdtV1ccvCDeSlOPjr7RO+V58cfSXyaNAVCHPzgg0xmq3vGwbZMWDAgIHjDE2/4bJZCEUjEBo6VJdhf0jNe9JGru2SWYxNJ8I1Y/pTlOnmllc3cuXpBT321aoM+kiDRMRJX43QP9bbdg3batsJhBXuOWcQta0+huenEZYV7FaJbbUd6s8WiU3VrcKjZmxRBs98sgdZibD4lrEMyUth6fY6Mtw2xgzI4M0NBwjJCjPK8pAVhb1NHvwhmdsmFwPQ2BHAGiUzZX1VofbsBevVnCyrRKpTFSh3+EKcXpiOzSLx6poaqpo8YiwcVELwzl2TSHFaBQE9HD7YVocc1b5o+9stZlx2C6+uqaa2zcfdr2/GZul+PP41jxWa3uaDe8/k8/vPITNJjbJYef/ZPH/DaCaUZIqqkWQ2MbEkkxdmjmbl/Wd/K0RHX4k8FtS2+Vi+o/64VXcMsmPAgAEDxxGaFw2oI82RCKzZ08iownQWra0R01XayPWw/FQWra3pcRyrZOKSEX355YVD1XgEi5nxxZk99tU0QfpIg/iFyyqZ+NG5g0Q1Iv75vS12E4ozePuuSdS2eUl3W5HMJpRIREyDuWyS+PntLbUAUU1LER9sO8ShNh8F6a7ovVDN+SobPFx5ej9MqFNVktnM7Jc3cP4fVpLmsqkEJpr+3RUIMy5a+eiX5uKOxWrIpTbB9dhHOzmljxoWqRFMzdW4MMPFy7PH4I0mpB+NgHjSwExB2LT9teqcnsDGH+9fyaU695Qc9rd4Y9pgNosZyWzi3KE5Il9r58Pd+VrnnJKDZDZ9K5oZPbE7VixYU33cdDsG2TFgwICB4wjNiwYg3WXFZjGzfm8roC6QWttjeH4qgWjCd/xCrAVaPnn1CBxWiVfXVPdYdAGhCYqPNNCjMNPJqvvPZkhecsyiZpVM3DSxiPHFmSzUPccqmbhweB/evG08C+eMo6HTz+XPruWyP63BG5QxoRK6Dl+IS0b2JRCSCYRkPtvZSJs3iFUyM600l76pTsKRCA2dAfwhWZj0LS6vwSqZiaDqd5ZV1FHb5mNfi4+Ln15FVyDMGYOy2dvUhcsqcUqfZAJhWUwqrd/bzIToBNc7Ww4InZBGMD/dWU9dh5/Xbx1HSbabBWuqYwz7DoeiTPUe64/nsllinh//b0A4KR+r3uaFmaOpafFSmOlO6J/0ffnk/KuTZMcDBtkxYMCAgaOAvvyukY747d8Umn5jWH4qALXtPrFAam2P8SUZwkdHv3BqWoywolDd1B3RkGiRnR71mImPT9Awqn86H907hVD0OdpjGpn61YVDE27/wzUjsUrmGC1HbZuPC//4OR9sPYTdKjF/dRWTSrIIhBVB8DbXtIrx8NdvG0dhhovPdjbgsErCpO/CU/uwqboFq2TGZbPw6ppuolXb5uPcxz/jULuPnGQHy3bUU9cewG6RmF6ay6j+6fRLdzGiQK383HJGMRaTSbx+fpqTt+88g7wUB1lJdrWS1eo7BgFxBFlWYgirVonr7d+ACALNdNtjsqyKs9xML83l0pH5TC/NpTgah5Gf5uTPcyeQlWSHCMc1iFNP7I4VshIhkCA5/vuAMXpuwIABA4fBd+0lorVx9rV4uWJUPwIhmS5/OMYhV3PgBWK268XI//HXr/jnj87EF1QXI/0iKytqzMJ90waLqokWaaAtXIUZLl6/dRzVzR4WrK4W49EamWr3BfGGwtgUKWZ7c1eA/3q3gp9OHyzaW5rr8I0TChkbdR2eOa4Qs9nEgVYvpc5UxhZlkOSwUNvqoyDDRbrLxvIdDZT2TYlep1qZGF+cyYsrK8Vx4qsKvpDC/3zwNc9cN4oFq6vJTLLxzHWjqI9Wa6oaukhzWQnLEa4d159Ve5qYMiSHC8ry+OWFpTR1BZg5fz1v3DaeV9dUU9/hBw5v2KehutmLAki6/fUC5ET/1qBNKb08ewwr7z+LZk+QnKhxot6huaHTT5bbzoFWL13+MP0zXcd1hFsjdt+E8EhmU0zF6fuEUdkxYMCAgV6gjdjqx6715CDZbuHDbXX88u2t7G/xfqMqj9bGWThnLJ6AKqjVnG+1is+nO+sJhBWC0W/F2na9GLksWhVy2tTFqLq5+xhWycQbt41HMptE1cRukQQZskom3rx9AlbJzJwFG8V4tMNqjpncskoSdqsktrf7gtgsZv7z4lLSXDZeXVMdU+05tSANWYnQ7guS6rKxencjpX1T6QqEufOsEsYOyMQTDLNmTxMum4Wl2+sYWZDO9tp2ppbmsrOuA4CLTu1LWFYSVhXy05z87rIyAL7Y38o95wyi3RciyWGlusnD/NV7sUlmXlm9l5xkB3/fcpCQrPCbS8vERFmyo1tXcywC4n3NHqySme217WL/+Ocf6XgmIAJsqm7l2nnllPzifUp//RElv3ifa18sZ3NNGxGgT6rzuBMdDf/qJNnxwHG9a4888ghjxowhOTmZnJwcLr30Unbu3BmzTyQS4aGHHqJv3744nU7OOusstm/fHrNPIBDgnnvuISsrC7fbzSWXXMKBAwe+z0sxYMDASYRELSn9tlBYTugloulTltw2nk9+dhbzZp3O7y4v43+uOJXi7KSYhfhYWl0RIhRluvmfD74GIDvJzs66Tm6cWATA2UNysVvMmKMZUjdOLMIqmfj5jCEsq6inodPPj88dRDDUTYYG5SQTDCvMmlDI9NI8spLsrNrdCMRGGowtyuD8sjwyo+PS+vHoO6aUxExuaQuttj3dbSMQVvjzxv0AHGjz8tYdE7GYQY5E2Nvk4aF/bBfi2A3VqhbJaTUzMZpqPqxvqtByaO2151dWMr00l60H2gmFFXKS7Vgkc0y7SHs/Fs0ZKzKpzj0ll5JsNx9uPUSS3cIc3UTa13Wd4jWskplkh1VMlMW3/I5WQKw5SGvnq+0f//xEx9MqY8E4ryLtHDRjvtsXb2Lyo5/2Gv3wfUP7/H0TaJNkxwPHleysWLGCu+66i/LycpYtW0Y4HGb69Ol4PN1v6qOPPsoTTzzBM888w4YNG8jLy2PatGl0dnaKfe69917efvttlixZwqpVq+jq6uKiiy5Clo9Pb9CAAQMnJkKymoz98Q415+jMRz+hutlLWFbYWqtmTAGYzKYeXiL6ikVzV1B8C5/2xEp21nUSVhQ+/bqB+97cwu2LNvEfb23l9kWbuO/PW/h4RwOyEun1F73m0/K3L2pp9QS5cWIhZhNMiy6QMycUUtnYJczyppXmcvfZA8WI9PTSPHKS7disEr6gzI0TC5k5oZC9TV1MH5bHnWeVYLOYeX5FFeVVzUwtzcUXlAmE1X3vnTo4ZsqmqsnD1gPtXDdOndy6/LR8QnKEZRX1dPhCXDeuP12BMA0damVkYkkW/pDMS7PG0NIVIC/Vyb4WLxazif+8uJQkuzr6XdvuIxCWWVpRT0NnQFSqNI2SJkr+cJsq4B1XnAEmWLWnOwdLX1W4fmwh/TNcmExqxUqbNCvKcveYSLNbYlPJ9RNl8bqaoxUQu2wWAiFZnK+2f/zz4/99JK+ieJwoxnzQXYn8JpNkU4fm/t+cxvrwww+ZPXs2w4YNY8SIEbzyyivs27ePTZs2AWpV56mnnuKXv/wll19+OWVlZbz66qt4vV5ef/11ANrb25k/fz6PP/44U6dO5bTTTmPx4sVs3bqV5cuXH8/LM2DAwAmE+JbUvhYvf5mrugjXtHg5NT+V+o4AzV0BPAGZj7bX9XAcDskKUx77jLtej3USDssK//WPCtLdNp64eiTPzxzN7y4v4/mZo3niqpGkuaw89I/tvS5WGtHIT3MSAaaV5jEoNxlZibDgpjGML84UwZgOq0Rtq5dbz1Q9ZtZXtzAr6iYMahtramku44szKchwEQjLQvi8vrpFVBmcNgm7Rd23ODt2cmtU/3RO6ZNMdrKdTdUtnFaYjsMqsXR7HSlOK9nJDpIcFuYu2sTw/FSKstw4rBIl2W621rbjiHrbKJFIzFi9O/qaC9fU8IePd2OLEhBNo6SJkpUI3LxgA26bFavUTdK8wTA3Tuz2xHngglOIgKhYaZNm44oze0ykaYQm1WnBbpFiJs3ijf56ExDHY0CWC7tVEuer7Z+T7Djsv68Z0/+wXkWJcCIY82lQIhFenj3me3du/ldw/Jt/OrS3q9+qMjLUD9zevXupq6tj+vTpYh+73c6UKVNYs2YNAJs2bSIUCsXs07dvX8rKysQ+8QgEAnR0dMT8MWDAwImN2DaTknD74Z6rb0lp36y1jClfUObcx1eQn+6k2RMkNRrPAEd2EtbrVvQVH73uosUT5D8vLsVsgn3NibU9Wguors1HODqhtGpPkzqBg9oyCUUrIb9fuhOX3YIvJFOY4WJccSaf7WwkHK1m17erYZN2i8SC1dUAok2ztKKOdl9IvG5Tp7qvpodx2cwsmjOWunZVqHvzGcWEo+ebFNW2hGSFpdvV9tnvrxwhti2rqGfasDw6/SFaPUFyUxxYJTOBKIkxRRfq9dUtonXlsllEi0Zrr40tyqC2zcfjy74W+y9aW4PDYmZaaR6FGS4WzRmLOdoee35FldD3aK2w+Ik0jdAUZrrF4xoS6Wq0aorFbGbFz8/i2etH9TDsK+ubGnO++v1/eeFQfvt+RcJ/P3hRKct3nHzGfBqskpnibDdv3THxe3Vu/ldwwpCdSCTCfffdxxlnnEFZmSo2q6urAyA3Nzdm39zcXPFYXV0dNpuN9PT0XveJxyOPPEJqaqr4U1BQ8G1fjgED/7b4Lkewe3s9RYnQ5g2KbWGdNqbNG0I5TIsorCg9WlKJMqbK8lMpyXbHxDPo9+3NSVjTregrPvG6iztf28yUxz4jKCskOy09vp0Hoi2gpq4A181fx9qqZqySmRdXVvHHT3YTVhRMmLBGKyH/cZ46Au60SsJscGttOxZJUo+1qopgWObz3Y1cP74/obAs2jQhOcKKXY1C8KuSpO7x6Z9OG4LDKrFhbwuhsEJeqqqX8QVVYhUKq47BWlZXXqodf1QHs2V/GxluG0kOCxbJjMlk4ov9rULbkpvswB8lVVVNHrbsVzU8mkZp+rA8oVXKT3Ny99mDBAlbWlFHXUcAWYmIMXVt8Vxf3cLayhYCOn+e+Ik0jdCMKkwX56BHIl2NNj7/oyVfkO6yCcO+3b89n8rfXcC5pWrauqZhid//6WtHMSQvWbQetX+rjso9jSGPBsfTmE8PjfB8X87N/ypOmNHzu+++m6+++opVq1b1eMwU94shEon02BaPw+3zwAMPcN9994l/d3R0GITHgIHDIKwoKIr6S+y7GsHWEIra72s/B8NqfMLG6lYWru35ujdNKmTqKXlEoiXysKIQiai/jEOygi8os3pPU8y3aC1j6tT8VKY89hmBsBx1DO6OZ9AWQ00HEv8tfNaEwhjdypHaEbVtPq5+oZw/zx2P22bBKpkxmdScIXu0BXTVC+W8edsEBmZ3Vx8G5rhRFNhd386w/DRcNgt2i5lgSMZmlThzUBaBkMyuerWNZbdK9E93YrNIFGe5sVkkEaWgjT/XtfuxSGYskloJ0VyNxxZlcNmofiyrqGNcSSaY1CDSgTnJOG0SJpNJBHmur27htVvGsWV/G6ML1Wp8mstKKKp/OjU/FYtk5rXyfYwuzGB7bTvjSzJw6EaXX1y5lyevTmXmhEKskolppbnUtvqYVprLqMI0fEFZkLCQHKGu3U9Ns4fRhensa/UxIMst3qt1e5uZPalItMIks6nH2Pfr62p48uqRSGZzj/Fpva7m6he630+TSQ0WzUyyic+mVVIT1M0m1b1Y07DUtvkIKxHe31rH+1vrKM5yU5KThNtmUZPlQzJjizO56+yBJ6UxXzy0/6fnDs3hvDLVwykQlsV4eUhWkMwmJI5/6+3400Pgnnvu4R//+Aeffvop/fr1E9vz8tSbF1+haWhoENWevLw8gsEgra2tve4TD7vdTkpKSswfAwYM9ERIVgiFVfLQ2wh2j6mRbyii1MTDq/c0UdfuIxhW/72vxcvkRz9NOK0SCClMKskmAvhCMsGwWgHxBMIEwwq1bWoYpN7xV3MR1jKmAD66d3LUMbgmphqg7RvvMlyc5WZccabQrRyt7mJ4fgppLhsOq0RIVthV38kNL60jJCt8vruJZ68fhYkIQd2Y9cCcJGwWMxtr2ghGp8T2NnmwRY8xrjhDhGk2d6ktqR+OVr+85ac7sUa/bW+vbWdWtE1T06yb7ImSxJCscN/UQWS4bSzdXk9Osh2rZKbiYIeY8tL2DUTbZ+OLM1m6Xb2HvqBM31QnVsmMXTLz5YE2AP7+5UHKq5oJyAoj+qUB3dqYbbXtKJEIM4blUZydRFOnn/6Zqs6ouSvIXa9tFvsXZ7kZVZjOXzYewGaR2HGwI6ZitTOqWdK3wvTtqfw0J3edPQjtoxk/Pp1Ip5Of5uTDH0/m91eOoCQ7iWUV9dzz+mZ21nViMsHGmlbxWZx/4+k9NCxVTR6WVdTzzpZallXUs2J3E7vru47aoTkRjqcxX2/4vpyb/xUc1zOJRCLcfffd/O1vf+OTTz5hwIABMY8PGDCAvLw8li1bJrYFg0FWrFjBxIkTARg9ejRWqzVmn0OHDrFt2zaxjwEDBo4dGvkIyAo76zq58vm139nUiKapufL5tZT1TSEryY4JqG7yJHzd4iw3vzh/CEtuG8/Bdh+tXtU1d29TF82eAB3+MGYzZLhsQKw+QxOtDstP5YOth3jrjonYddUKfTUgUeSCdgxNt3Kke6KNq//tzoksnDOODn+I6mYPe5s8XP1COc2eAFbJTEm2m3ZfkPx0F82eoKhoaOLhqUNz1SqNZGZdlXo+kQgMiLrsji3K4Mv9bYRlBbfdQjAs0+wJsnJ3E95AGJNJdVDOT3PS6g0JXVBJThJhWcFkglFRApDssIiFqt0XwmaV2LyvVRVNR1te44vVfTv96rGcNgmb1SzubXlli1jUF62t4dT8VGpavLT7QsyKko83506gptmDElE/K9onxiaZueXVjbR6Q3T4Qtw4sUi8F5omp3xvc0zFSiM2U0tzY/Q3Wnvq7btUgfk188rxBsIJx6fjdTfLfjKZ/HQnu+o7mfzop/z2vR388sJSIVS/el45bV5Vs1WSk3RUGhaH1XwMDs09cTyN+U5mHFeyc9ddd7F48WJef/11kpOTqauro66uDp9P/eVhMpm49957+d3vfsfbb7/Ntm3bmD17Ni6Xi+uuuw6A1NRU5syZw09/+lM+/vhjvvjiC2644QaGDx/O1KlTj+flGTBw0kJrHzV0BnpNxe4Nxzo1ohGda+aV8z9XDCfZaSUoK5jNJua82q2z0YIul/5kMh/9ZDKzJxVT2dgFEXBYLVQ2dGE2mWjoCNDQ4afLH8ZmkXroM7RxYYC7zxlEc1cAyWyK0ZKsq2pm1oTChJELAEWZbqFbORz04+rFWW521Xfy4soqCjNc4p7ePEn9ktc3zUleqgOHVeLnf/kKgAnFmZxWkE4orJCbYhfH/Xx3E2FZwWYxU9ceICQrzJxQyOo9TUSAA61ebBaJnGQHA7PdNHuCDM5NRlEizJs1mgy3SgKJwKSBWXiCYVS+ESEQkumfoRIoX1BmRjRion+6k4nRfQF+NmMI/pDMj6cORrs9obAiRNRba9vFoq61iGRFIRKJMH1YHgvnjKWpK8C8lVWYTSYCYZmcZLsYTQd4646JtPlCTB2aQ366M2Y8fdVudRxdb+inEZv3vjok9DeaIWNzV5Br5pWzeV8rj3zwda/j07VtPi790yrqOvxEUCe1rplXTkOnP6FQfWOUCCuRCP0znIfVsDx3wyh+e9lw4OQ05juZcVzJznPPPUd7eztnnXUWffr0EX/efPNNsc/999/Pvffey5133snpp59ObW0tS5cuJTk5Wezz5JNPcumll3LVVVcxadIkXC4X7777LpJksF8DBr4JJJMJu8VMU2cgoV7lSDiWqRFNPHzxqX0ZmJ2ExaxqIvQ+KPHthP2taurz6+v2UZztxmE1s2TDfgZkufntezs4vShDrU5EHYP136K9wXB0skkRhnnZSXaxX36ak4IMF9OH5fX6LTzNpfrGHE53oR9X/693K0iyW7ht4SauH1cYkyY+ZXA2wbAcJXUmPtpex9qqZtZVNfOz6UNwWs1ggqUV9XT5wwRCMu2+kNDZvLyqCqtkZvqwXOGwq/kFgUqiyiubiQCf72ki023nzrNLsEhmrBYzlY0e7BYpqsVR9UMmk2qs6LRJZLpthBWFdLed6mZ137CikOpU23FZSXZsFjPBsKIKUaMiak1DNLYoQ7SIUhw2Gjr9hBWFokxV9H3l6QVs2d+G2WRix6EO7BaJ19ftE8TikmdWUdno4aZJRTHj6TUtXnbWdRKSI4LYaKTq2rEF7G1S9Tfnl/XBblErRRpxXrJhH5UNXbw4q2frCeCcU3Lpk+rAriP6vQnVl1XUE5YVLGYzj32oTo9NLMlMmD6e5rTx/Io9hGRFtBSPFbMmFB73aayTEce9jZXoz+zZs8U+JpOJhx56iEOHDuH3+1mxYoWY1tLgcDh4+umnaW5uxuv18u677xqCYwMGviFCskKzJ8jqPU2MKkw/YvWiNxzN1Ig2rgzwwPmn4A/LfH2oPcbgTg1rnBjTTshw2VhWUceFp/ah1RtieUUDF57ah6UV9SQ7LOIaNDM6/bfoPQ1d6ii1SV2oLjy1Dxui2osLyvJ4646JyEoERYkw54wBPZ5vlUwMzEk6bCBi/Li6dm5uu8SownRxbcVZbvqkqWLiJIclZuR94doaSvumsP2gej+WV9ST5LBgt0o8dMkwAmEZf0hmzIBMvqhppcsfFlqdkf3VapBWJZk+LFdMd13x3BrCcvd5/3nDPqEh2qwjb1aLum1NZbMwPfzV29uwWyUiEfgiGuK5Zk8TIVlhT0MnQ3K1XCuVjOjbSVqLKBIxYcIUY/q3dHs9Vqk77T3dbRXEos0b4uYFG3BaLdFjd7eu/vTpbob3U9tj82aNxm6RuHnBBjLcdiJEyE628+uLh/Ug7CE5wk0LNpDhtiX00Zk5oZBmTzDmeb0J1Tv8YZQILKuoY3pZHz7aXsdfNu4nGFbYXtsmWk5Tn1jBtS+W8+X+9n/JmG/acTTmO5lh3DEDBgzEwCqZyU62szFq7X+0UyPxic2aDuZIr7W4vEa1/LdbcNkseHQ+KRppcNktop0wbkAGaS5VRDu+OJOsJDtLt9cJIfGo/ulYJXNMDpL2LdoqmfjByL5qVSNaPRpfnElBupNgWOY3l5ZFvXesrK5sItlhxaPTd2htqXNPyekRXaCHvgqQk2wX5zY7ehztnmo6lJCs8OX+tpjHdjd0YrOYWVbRAMQmlZfkuNVqjGRi6tAc/vZFLUl2C267RcQrWC1m7BaJL/e3karTLtW2+Zj+5EoOtql+Pxec2ke8F08s340vKDMoxy22vf1FrSCfyQ4LYUWdSPrqQFvM4zXNHhFnASoZiR/nrm3zcffrm6Oj192mfzXNalr7toPt+EMy14+LJRZqa2k1Hb4Q04flCRL1wbY6NQMsEiErSRUWA4JUZbhsMQRSj958dAbmJDG+OJOcZId4Xm9CdYBJJZnYLGbxeVy0toZJA9VtD7/3NXsaOvGHZKEFc9ks+ILyUTk065Fkt/DCzNFUNnpOOIHyyQCD7BgwYCAhNAv/w02NJMqK+t8fDudP149iwU1jj8qTJ91tpTDDJf5tt0iiajK9NI+BOW6hGwqEZX55oeoxo1/89UZyhZmumO3at+hR/dP55z1ncufZA3s8LzvZgc0ikeywkpVkJ9lh5YUVahXEFI1tGNU/XbSlnltRCfTUXWj34zeXlolWlbagH2hTU831GiKXTRUSWyVzjKAXVF2Q9j7ok8qDYZldhzpUgXRFvWjbNHQGRMVKH6+gtdz0xw4rETr9MttrOxhZkCZMAxu7AjhtEhMGZtEYTf/W39uiTLeaWgmkiOOqj48rzuLL/a1YJTPBqIYoUeyCJqjWm/45ojEXXX7150TEorbNxx8+3s00nSYnJ9nBrPnrSXZa6fSHcFglYeD3m39W8PLqWM+keCTy0Vl+3xTxeDwpTXScs0/JibkPjV0BTumTKn6ubOjCYZX4j/OGcNuZxQzOTcJpk7hl4ZEdmjWoYu7xZLrtzHl1gyFQ/gYwyI4BAwZiEAorMRb+vVUv9OLbFk9QjORKJnX0O6yo00qao/CQBz8UjsIf72hAUVQx7PXjCtl6sEOY3PnD3d4q8e2E6aV5pLuswjwuJCuCCGiLuWQ2iWvok6aa2NU0e3n91nE4bRJmk0q29MeQohWJTn9I6DHWV7dgt6iandpWrxDUXjOvnPoOf49AxPw0J+/96Ez+cO1IMty27jZcuhN/SObVm8ZGE8O7K0LeoCqihlhBLyCIgEYAtKRym0WisSuIVTKzcE2NaNtYJZOoWD2/ooq6dh+BkEzfNGfMiDbA4NwkhuQl8/ulO2nqDGKJuhwXR4lIZYNHCLn7Z7gE+SzKdIl905xW8XgwJJPhtrE2StiaOgPMGJbXIyYhP80ZI/rWxvz9IVUfpA+71IiFnlA/eFEpSiTCDeMLhSan3Rfisj+tQYmoBHFrbTv9M1wsvmUct00uOWy7ERC+ONe+WM45v/+Mlz6vIhiO9VrqTahenOUmP90lPktqVUwlRsGwzPL7pnDOUNUC5Y6zBvLT6YMF2X7+htH86dM9WKXeHZo1UfOKn5+FxWzm8mdXU6D7YmDg6GGQHQMGDMTAGl3gtYUn0dRIYaaTd+85AyUSYcpjn4mRXIjQ4g1yoNXHlEd7dxS+ffEmfvH21ugIcyaba1pFqnVVtNz/gxF9e7QTZk4opKrJg90qkepUx6M1IuCyWXBYzYwtyhDXcMsZxTisEpjUMfa6dj9b9rdhAnEMgN31nVglM0kOC29/USuqL9o3+pdW7cVplXTiVDWmYOrQHOHH8vZdqtbnV29vA9TFOj/NyY/OGYTDKsVUr7R7qrU29KaA2mOaODo+SgFUzYn2GgBhWSE92qrStn+5vw27VcJmMceMaOenOXll9lgA1lY1s7hcvbd2q6ob8gbVaTpJUrelu62CfNqirUm7VaLNFxKP26yxhO36l8oJhhXmzz6ddl8opl108xlFPUz/tGsbmpesEt7o/U8UvnrO45+R6rQKTc6bc8eTm+JQLYAi6nPKollgIR1xPhpUNXlYv7cFmyVWmB4fFKpB+3zYo59Bp03iVxeVRomcfFjCv7/Fx39eXEokAv/5j+0xDs07/jtW1PyjJV9w4R8/52C7/7gmh5/MOGEclA0YMHD8oXcvzk6yC23E2qpmsU9Jtot/3jOZmhbVAycQlvnnPWfS3BXAZjEftaOw3glWb3JXHc2Oun58/+59q1uEbuKR93fwwAVDRcYRdC+Wd0wpIdnR/WstN1Ud1y7MdDHzpfW8cdt4Hnl/h3D8Hd4vDatkZmddJyU5SSzfUc+VowtE9UX7Rn/B8D4iGNQqmSjJVgXK1c1eXpw1GqdVoqUryJXPr2Xq0Fy8wTBmE0KknOSwUHGwg0G5SXx1oF3c06omDzvrOhiSlxIj6N3X4uWn04cAKgHwBsJMH5bHnoZO+qW7aPMGCYRk8lIc/P2uiaQ6bXT4gyTbbYQVNXzzzY37mVHWR+SIba9t59bJxZT2SRHO0rISYX+rT7gx56eqlZe6Dj8f72jgwlP7kuJQ21VjizJo94UIhWWsFokOr5qvpT2uJ2x5KU6uf2kdr986jrfumMjNCzZw4R8/55qxBfzygqHieGurmtlc08r0YXmsq2rmN5eW0eEPk51spyDDyV/mTqSpK8CUxz6LEQZf8dwaXp49hgyXDbvFzJtzx7OnoYvJ0f005+IBmW5+ceFQ8VpHA42A6c8x3om5+3NnEfdueL56X72BEM0e1QJh7qJNPQTNGuFfW9lMfpqTebNGc885g7jiuTXYo349muNyZUNXTLVLSw7/ph49/5dhVHYMGPg/DP03RDmaIbW5ppWGTj8zJxTGCEytkom7zx7IR/dOwWYxi6wpTYyrjX4frSdPVZMHXzCMPyTT7gsLd+BJJZmYgNMK0mPaCfoqS4snyOhoxtG6qmYhWr12XH+2HuwgEJbxBsMsr6inxRNkeXRKC7rFsCFZYXShmqlX1+nHKpnZVdcp/GzGFmWI6oqmIdEqDTPH98duVXUXfdOc9M90C08grQpwXpl6X97fekhMU7lsFpZs2MeMqLkfwJL1+8Xrafd74Zyx1Hf42bC3hd9cWkaTJ8jUoTms39uCwyrxVW07dqvEy7PHkOy0sqexC5fNitVixmlTidonXzfS5g3SL92p+ibJCmcMzKKpK8BLn1eJ/ZIdFmxWCU8gLDxcxhZlUF7VQkhWOKVPsmjZVTd7xZSWZqw4tE+KMBrUE7bN+1qZ/uQK3HaJlfefzZ+uH8VtZxZT1eih068aBVolE3mpDqaV5lLd5CHZYeVnf94CwGtzxvXwtNGgaW1+8uctmDAJQ0ptP825eN7nVT0CPo/mc7muqpnGzoB4XqKgUIi2Ia0SwbDMrIlFqu8TJkH4j8aEUzOWfHn2GPa1eGMcl/VE50RIDj+ZYZAdAwb+D0IL14wlOxGWVdQzf9VeMt02ppfmsq22naomDwtuGsPSeyfzo3MH4Q3KosoB3SO52nj10XryqLlN3W0ozR140sAsLJIZORKJaSdoUyyyEuHtzQcoy0/FYZXYfrCdaaW5rKtqJifZwccV9dgtEi6bhaXb66P6mZoYMWworEAECjOcqqYj2hYaV5zJ0op6yquauXVysaiuQHcqOURoi6aG90tz0dwVjPEE0qoAt08pYfmOBs6PZgZ9sF2NvSnJciNHzf2S7BYWr6sRLsFLK+po6AwID5qvDrSR7LAy86V1VDZ6RIury6+SyUE5bixmM1/tb4sZR9b2e2vTAUYUqNNpp/ZLRTKbuOu1zUJrpO6nXrvDambiwCw217QKg0KrZGZEQZoQeWvXVtfuZ9KgbFo9QUYUpCHpsrX0BHlfi4+zHvuMe97YzODcJPLTXSzZsB+3TWJaaS7XjOlPTrLq33P+8D4sq6gnyWElLCvkp7sOS5zDSgRFUat6+pDXeCQK+DwSttW2i/8D2vMSHUe7H7bo5+218n3HRPhBNeG8beEmSrLdTB+WOOLoREkOP5lh3DUDBv6PISQrKJEIEdRWUkOHH1mJYLNIvLqmmm217fhDCoGwwos3jsZpMVOU5aZfhgvJbCJFN8qrtZaWV9T3OprbGyYNzEQyq7+CtDZUICTT7leJRKunO+V8bFEGsiKLasTjy3aK8dvxAzLp9Ie4fFQ+0E0qIHaSSC+GtVpUQ72GzgB2q0S7P0QwJItreH3dPs4YmEV9h5/Khi780VTy5q4AZpOJQ+1+1u9t4fYpxZTkJAkxMiDSvIf1TWXp9joG56XgC6qjx+VVzVw9tj+rouZ+b84dT06yg8c+2sm06HRRXbtfkKey/FSWVdRT0+Ll5gUbSHKoU0fTh+XhD8n4wwrLKuqYNiyPZRV1rKtqxhsMc+NEtQLx+LKd+EMyHb4QIVkls2X5qfTPcOEPydw4sRCLZFbFtDvqqW72kJdqZ3ppLoGwKv7u8qvVt05/iF9dNJROf4gWTwBFiZDssNDpD+ENqpW5GycWCsfi+bNVwz5NANzqCQlfoyZPkE5/iJ/NGMLSqH9PitPKq2uqmRkNWF12FMS5N+8bPRJNhB0Jp/ZLo8Mfwh9WxPMSHUd7r4NhRVzbNzXh/HhHA3eeNfCETg4/mWHcOQMG/g2gVWiONOodktWKRlWjhzsXb2Z8cSYd/hCdAZVgHGjz8ubcCRxo9RIIhxmQmUROqkPLf+zhBROfV3QkTx69F8+UwdkAdEUXb1/U2Xh5RT2BkMxzKyoJhhXRQpkyWB3xHVuUgTeocMNL6wmGZUrzU3nwnW1kuO0Eon4mexo6xYSM1gaLF8MCvLiyCgCb2SxEtuurW8hwWZHMJuYu2sTyHfU4oqnk+lbdq2uqOWNgVsLr1rKrtPuikbSPttWRk+wQ5n6aaHfiwEzq2n0smjNWmA5qYaMakdJ8YTr9YaaV5uKwqtWEL/a1ierVh9vqcNksTI1WILxBhZnz1+O0qVNgGpnYXNOKwyoxtTSXO84qwWaRWLC6hlnz16vTVmGF124ZiyMqWnZYJR58Zxs5yQ6SHVbK8lOJAE6bhQff2UYkopLlaaV5XDGqALvFHGPYNzg3iVGF6cIPKSfZwdMf7xYeOFqLsbErwPjiTNJcthgC2dtn6WgIdqKAz8NhQnEmYwZk8OA72/AGwpRkJwlSmug4q3Y1RX126o6Z8OuxYG01ZfmpVP7uAr7+TbdA+ZxTcpDMJoPo/Isw7p4BAycxtLDOox31jkRgT2MX9725haeuGcneJg+RCHh8agzBS7NUQe3V88rp9MtEADNqbpFVMrO2sjlmBDfZYekx+h2PwTlJPHD+KXz6s7OEF8//XD6cqaV5BEMyjmhLw2lTF7yugDpBc6jNj2RG+NxMLc2lsdMvWjCb97Xy/la1ivP+tjo6otNBklnVHWkTMlobrKrJQ4snyPRhalBkmzfImAGZVDV2Ca2KL6iKfu8/7xRRWXhr8wHh9Kz/5r60oo72aHxD/HVrAmJtLBtUklYX9a7RzP00j5c0p438dBf9oxNb66tbEnq71Lb5OPfxz/DoWiT66Art+JUN3RWIzftaeWrZLqCbTBxqV/dr6AiQ6bbHnNNlf1pDfbufgnT1XOrbA+IeP750JwCegEx1U5fYPnfRJkLRYNGfR6s1l/2pm8w9d8NoINYbqbat+15oLUZt9D3+uhPhcN438ejNQDBRFWXxLePEdV327BpqW30Myklm5f1n86sLh/Lb9ytijtM/yxVzbUdrwhkPTbD/zKd7+H9vbeXWhRuZ+sQKg+R8SzDuogEDJylCskJNs4dmT+CoRr0bo4GXty/axPzZY7BZzLy+TtUY7I2Oc2uuv5MHZdMn1UlYUQM5k6MTN/FeMINzk2NGv7XtmjfK23dO5L0fn8ktZxazq76DPyzfRXlVM45odcVmlbCYzbR0BcQ1lfZVIwcKM11IZjMWs5mmTj9pLhsb9rbE2Oxvq20nEJIpzHDRJ7pN1aFoXjXdI9fFWW4y3DamRk3pkh0WppXmsqm6lYkDs6hr9+G0ScLNWassZLrtMW7L2jf3kBxhaUVdwtHmZIc1ZixbE7faLbGkMN7j5a+bDoix6968XXwhheU76oUvUZLdKgiXdvz4CkRtmz+GTJjMauWvrt0fbVt2E7baNh/Tn1rJpn2tKgFeVSWO7w8p+IJhUpxW9jR4xPaDbarA+4UVlaLNqSdzucmOGGNEvZGg3m8nyWERjx/OG0d9bxPfn96QyEAwPrtKq6Jo11Xb5mPGUyu5789fsKehi6mluTx97SiG5CUTIcK00lwuGZHfo4r4TSArEbXdWd8lBMp7GroMt+RvCQbZMWDgJISWFB6JcFSTH8VZbtKjeVJl+alkJdljKhVl/VJF9aK2zcfd5wwUpfMt+1sJK0pCL5hxxerfelKh90YZ1jdVTMoUZSZx19kDae4KcsNL61gezcQCeH5lpTrSLJkZ1T+dkKzEiDW1FOzMJDud/hDzZo1mUE4Sd587ELtV4oxBajtJIxWjCtMIhmWmluaKbVoloLJBdRwOhNVrmlGWR1cgTKpTJXSaA7Pmk/Ps9aOAxN/ctcDNeC+itrix7HVVzUwvze01WBRU/ccnXzeIsffevF2skgm3TRK+RF2B7oqW9py6Dn9MJWPmhP6CTHiDYaxm9bmjCtNZXlHfIyw1rERo9QSxWyWVROmOr1Xg6jr8YvukaDtvx6HOmHtkMkFuskO0wjRjRL2RoN5vJz/VKR4/0nh1b/fncNCTy6lPrACIcSPWqih6AhtWIvzzqzpmPLWSGU+u5FfvbOWlz6t4dU0N//WP7bz7ZW2PKuI3gWQ24bRJIlVe22a4JX87MMiOAQMnIcwm0zFNfvxgZJ9oHlENt00eEKMx+HJ/G2kum+rIu7aG4iw3A7Lc7IgGcta2+rBEF0f9aHFxlpuRBSoxmRYlFbdOLhYTS2ElQmVjF/e8/gXPXj+KkKxw7uMrKK9q5tkbRnH2KTkoURK1v8WH1SIRDCuCZI0sSCMYJSRgIhiSGVecyYPvbCPTbeeduybR0qmKmMcPyCQQksXEzMCcZGwWiem6aIH8dKeoevRNc2I1m4Xg+o/Ld+GMOgZvq+2I8cnRxskTfXNfvac5YYJ1dbMnZmx7cF4ylY2ehMGienRGp6zGFmXEeLtoENlcQ7uJoEasxhZlxDxfX8mQTOoCrPno7Gv1iudrgu74c+ofJX1F0daa/px8QZm9Td3nV5Tp6lHd0M71V9F4D4jVS2mkcmxRBlVNHjbXtIp24uHukYZE9+dYkJ1sP+zjiY5b1eRhcfk+Hn5vBw+/t4PF6/bx140HgFjC/02gXXul3udnwDc7loGeMMiOAQMnGRLpR46EYX3TAFWzMaJA9ZZxWNX//kPyksV+66tbmDQwE6tkpiFKJLTqBMSOFmu/iLWx5A+31nHGwCyauwKkOKxYJTO3L9rEM9eNoqkrwE/e3MLLs8fw64tLqW31ccNL6zBHSZTmJ2Iyqa0pbzBMXbtqUqh+y0YIiN/fVsfzn+3BYZWY+fJ6dtZ1MrRvCnarRMWh9hgycrDNx7VjC9jb5OGmSUWi6tHiCWI2m5i/Ss1O8kV1NZpAWu+T86dP94hKRPw39zSXDRMwXeebA+pCHD+2/cDftpLssNLuCyX0fclPc/Lk1SPF4/HeLtr4seZS7Q/J+IJhJpSoRG/ulOKY54NalfhyfztOm4VgWGHsAPW97/KFCUejNjQLAj1hK85yM7RPKv6QzOiiDAJhWZzTzroOnDaJtVEfHvV5ppjqRkFG97k2eVT9UnlVs6i0NXT6mT4sl1A0Qys/zUlxtluMvms+T4dDb943R4vDORHHR4EcDvtbfQTDitCCfdPzmTWhkLWVzTHeOrMnFBE02ljfCgyyY8DASQardOyTH5aoDqE4yy1aUvecMwh/SOaiU/sSio4Zy0qE4iy13TOyII1ASOa0wjTCsiwWJm0E9+5zBgp9RWWjh1vOHIBkNrFkw34yk+x8tF1tmZVku/n137ezaM44clMd7Kzr5Mrn17KvxUso+os8O8kuKkka2fj5W1+K87dF2wvaOV47rlC03EwmhLD31ZvG0uYNEgorBMIyexo9ZLjtRIjgjrZffjCiLwUZLpZV1HHZafniXmiLilbpuH1yCUsr6oVwNP6bu8tmZtGcsdRFR/fjR5LXVTXT5Q/T7gvR5Q/zm0uHMXP+OjyBcIypoPqemoTb8n+/u134uWjEsjDDxcuzu0ffWz3BqF2AmUklWXQGwkwqyerxfI0ghWSF3/yzggklKpk4vSgdSzRqY3BusiBk2jlpLT+HVaIsPxV7tEqWn+YUJojZSXb2NnmYPiyPVm8w5h69NmdcND3eRjhqOPjauhpRact02xhZkIYSiQgTxdpWH1WNXWQn23t43PSGb+KhA91OxL2Jf+Pvx+EwMCcJm8XMtNK87iriNzifaUNzWVReHXuOpbkiO83AvwaD7BgwcBLiWCc/Drb7sFslBmS7RUsqJ9kutBrWqLmfZDZRmOkiFFZIdVjUvCSbBYskQQSRNH3zgg24bRahr7hl4QYy3DaWVdRzxeh8bBYzi9bWMHNCIct21PPI5cMJykpMevmiOWOFG++sCYWs3KUmdWtkI6LA5ppWmrsCDMpNJiSrbZKBOWqIpTaePTg3maZOP2FFNaJTUPO97BaJyYOyuPO1zUQiJlKdVvwhmTlnDBARETnJdnEvbFFx756GLqoauxiWn8qitTWigqDX/wD8dNoQHFaJ619cx/4WrxhR1ha6hWtrouQnQrLDSnaynaeuGckNL63jULuP+TeeLsiR5kI9d9Em/vHlQeHnsrqyicpGD4tvGRcz+m6RzLR6gpgwYTabePbTPZijo/IfbDskfG4W3DRGuBC/tXk/gbBCbqqdSQOz2BHVGw3PTxWEVSNsWggoIASyB9t8zJs1mne/OkggJHPjxCKe+2wPihLhByP7inbmrvpO8tPVwNCmzoConnT4wgTCagxIVaOHoKwKqjUTxdsWbWL2KxuwSmZ8ISXG46Y3fBMPnaN1IlYiEV6ePeaIx9WE0v6QzPXj+4uA0mM5nxdmjqay0cPS7fVi20s3nv6Nxc4GesIgOwYMnGT4JpMfH21TCURpXgrh6Ijw5hrVDO2LmhaxII0tymBAthtMsKOuQ+wHKoHQFpZ2X4g7X9ssjj+mMAOX3cLS7XWMjLbJtDHnXXWdlGS7aeoMxKSXa8GY1c1qdaCxM4A/1G2+N3NCIQvWVJPqVH1drJL6Dfe6sWpm1vrqFqYPU92J//DxbpQIbD3QTnZStxbjYJuP31w6jKtfWMuPlnxBiyfI0D7qtNe44kxxjav3qERLa1PZdZ47AK+vq2H6sNyYb+6XjerHsoo6alq8zHp5PR2+EIWZbjGS3O4PUdnoob7Dr5ry+cLYJDNLfzKZXfVdIsQyP80ZY46n94V57ZZxPLF0FzkpdpbvaODCU/vwVW07hRkuGjoDdPhVo77pw/JYGnW1PntILnaLmT6pDoqzk4SmS9tulcz4wwpJTishWWFCSaYgrNoEl8OqEmJvMCz8jKqaPGS67bx95yQskolppbmkOmxEgIIMV1RUnodkMrH1gHqOSzbsp1+6i801rfx46iDhvxMhgj8qxO30dxsIaiPi9e1+NScqjkDGQ7tX2cl2/nrHhCNWVI7FidgqmSnOdvPWHRMPe1xNKH3jK+spzkrCZCLmvT3S+bw5dzyZbjs3vbKecFTr9Nc7JlCSnSSCVw386zDupAEDJxm+yeTHit1NdPpDDM9PwSKpC15Ni1cdP1+/H6tkZnttO7dPKWZAVhJWycyX+9W20hPLd9MebVM888lusSDui4qVGzr9IrRTqzjpx5zHFWeyek8TowrTY9LLtx5UhcCvrd2HokSYNbFQVJe09kSGy4rJZKKuXdUlhWSFqaU5BEIyI/ql8dPpg/FHx69tkhmrZGJpNA+rzRsUC/Rrt47jy/3t7G/xEpRl4ZasXeNzK6rYsl8ldT8Y0Zf8NGdM8vZdZw9CUeD6ceo399duGSuM/EAda9Y8WUzA6YXpLJ4zjiF5yQzITKKu3U9mkg1ZifDQP7bjtEpkJtkZnKv6t8S3JLVF32GReOb607BbJNG6tEtmcT/TXDaxfaHu3i6tqKeywRPjQqxt13x08lIdEIERBWmAGn2hTXA9fGkZoJK/Lw+08ceP93DmoGzufG0zqU4ry3c0UN3s4b7pg1m1p4kOXwizyYSiRCjJSRLvg6Yrm79qL2V9U8XrRyKqnUEgJIsqnf7aZzy1kv96d7sq7o563DzXizfOry8uJdNtpzgriZX3n83zN4zu1UPnWJ2INcJzuONqlb7+6S5sFjM2yUyGy0Z+mpMV9x/e02fFz8/CYjbzw+fXUJTl5oUb1HPsn+Ey/HW+ZRip5wYMnITQ60fi05yLs9wMzEkS5fU9DV3sb/USkiMURvU4oIproZugPL+ykqeuGike74jGNqyvbuGvmw4wa2IRF57alyueW8MrN41hxf1nse2AmiGU6baJiaVAlIglOSz4gmHGF2fy+Ec7mTIkJya9/PGPdjKyII1rx/UnKCvkJjvENWntiZ9MH8KyijoG5SYTjro/56c6kaSoXqbdT0GGi6Kosduw/FTmr9rLBcP7EFYUzhyUzZXPr+WRy4erC4tk5t0va7l4RH6Pa3xx5V6evDpVEDeHVYpJ3r5mXjnPXj+KDn+Q7Oi5xhv+XfjHz5k+LJeZ44vISVH3iaBONpmjE1EP/WAYy7bXc9+ft+ALyvxwdD/OHZrboyVpMashmfUdfvqlu8T7NCw/VdxP/funv7f3vbmFJ64eybXzysVnYnxxJtdGLQpmPLWSu88p4d6pQ9jX7CHVZWPmhELufG2zuIbfXTacNJeNsUUZvLCykktG9uWxH55KitPKgtXVALxx23heXFnFvhYvL88eQ0m2O+Z90M6h2RMQrU39ffrlBaXkpzt7XHtYibC4fB9L1u/nxgmF3HTGAKaW5nL+8D6A2lrTRrJDsjrBp5GJc4fmcF40jyzhfhzbaLhGOg533JCscMN4lfRMe3Il900bzM1nDMBiVrU/F/Ry3hbJTFGWi1X/cQ4ALZ4gL6+u4qllu9n+3+cd03kaODwMsmPAwEkGrV2gtXrWVjVjlUxML81j5oRCxhdnAt3ldYBd9Z2kOC1EIhHCcgRZiQjRstYS+3BbHQ3nB8hMsiMrEVo9IWGu9viynVw/vpBppbnMW1lFJKKWhQfnJaNEECZ4/pAsWkD5qU7hyVLb7uuRXv7B9jp+OmMIJTlu7lr8BX+8bqTQgqytauahf2znjdvGs7Ouk6lDc7FEFx2tdeewSvxt8wF+PHUw+alO1afHIokpM4vZzL5mj2hj3XFWMXOnDGRY31RAHZ/WX+PSijqaugLRtHU1mFSfvN0VCHPFc2t4efYYnFFSF99G1Hxc3t9aR3GWm5KcJNzR+9In1cGMYXmML8mMWbhDUXNA/bHy05z8/e5JOKwS81ft5eczhggiabdK1Lb7CIXVjDN9S7O3+I54t2GTCZxW9b25fv463r37DCGarm3z8f7WOkyYePKakeIzdtMrG/jnPWeI45x7So74WVYiXPjHz3nk8uFcOrIvVosUcw76ffX3yWmV+O1lw3ttx4aVCPNXVzN/tarPmjgwk6JMlVBVN3lYU9nMB/eeGfMcfUUkkYfON8WRjjuyIA1vUNUl7TjUSUhWmPHkSkpykhiQ6SbFZaXDG2Jvs4fKhi4K0p2MKc4k1WGl3R9iQ1UzK3Y3iePqiZGBfx0G2TFg4CSDNiny0D+2858XlzKqfzqPXD6ckmw3H0XjIrQFSDKbGDsggz9cM5LlFQ3kJNsYVZiBReoWLWstMSWial/+54pTAdjX4tWZySnMmr+exbeM5fVbx6mJ0xH49OtGPtx2iIcuGRbNalJ/OW+vbef0IlW74wuqYZL69HKt4tTiCbKhupn7pg+moSNAfpqTqUNzyE9zirykccWZfHmgjdGFGYRkhfLKZsYVZ/LJ16qjcWNngP5Z7ugCGxaTVTaLxPXz1/GXuRN57dZx/HXTAQJhNcKhocNPTooj5hpDcoRr55Wz9CeTMZtNtPuC5Ke7uPbRT4WPkVaV+NN1pzGjrA+S2dTrQl3V5IkZIwZ4JSqqHpSbxAszTxfvJxLiWNpklslkUtPlW30xRNIbDNPlD2O1dE+oxd/beE2X3m04P83Jy7PHMDDHLTyOfvDMat7/8Zm8PHsMVzy3hq5AmG217ShKJIYE/fGT3fzHeaeox0l3xjgvh5UIm2paufL0gh7n0Jvbcac/LFqXR9KfJbqfJ5LpnhKJiPdB+6JR0+Ltcc4aqpo8MeRGjxPpuv5dYDQFDRg4CaFEItwwvpD9LV5ev3UcIVlhymOJ4yLq2/3kJDt4dU01X0cdbgFqmlVjOX1LTBuzjt8OUN/hR1uPqps84vXe/eoQlzyzmq5AWFScArLCpIFZVDZ04bR1++ioIZ7qQjAwJ4kMt42vD6kC5mBYYdmOeiGCznDbRBusvLIFXzCMVTKzao8WvFjPuOJMXl9XQ/90Z/ScLWKySlvINR3Kry4YitlkYuXuJpKiRCr+GmtavPzvh19jlcy0e0MJk7fDSoTX1+2Led6xoKrJQ4e/pwmkdixtMksLyYwPMHXZLDELqP4a9Mnuek2Xtl3vf9MZCAuiV9Pi5fw/rFSFvrdPYFT/dN6cO4GaqDmilmBe2+oT7b0fnTMoxnk5P83Jz2cMEeeoP4fe3I7/VWPAE8l0T6s89mYIeSw4ka7r3wUG2TFg4CSEJpzMTXFQ3eQ5bFyEvoXx0fY6oTE4rX86Hb4Ql53WV4x/B6J+O42dAaaW5rKuqpkbJxZhlUy8cdt4JJNq7a+9npaB9fR1p+GwqhWn9746xKn5qdS0eMVCnJ1kF203bSE4PzpJpQmYS3KSWLC6Wkwi3XX2QNEG21rbLn7Wgi+1NslzKyqpafGK61q9p0l4u0hmk6jGPPvZHqySmYHZbpSIaqR37ZiCHgZyB1rV+9g/091r8vaK3U34gjI3TvyGhnZxZnHBqGkfqELiLw+0ifdMP/quiaizk+x8ub9VjHtr71N1s0qC4kmcds9fmzNOePU0dgRi9tnX4uPip1dhMplYctt4Wr1BrnhuLde9uI6iTHUqSXNofm3OOBq7up+vVaPsVonOqA5Kfw69Lf7fpTHg8YD2Wfp3u65/Bxhkx4CBkxTWaDbSnFc39hoXUZzlZtyADBG4uGJ3E5FId5L4R9sOMXFgtmiNLZwzFrMJYer2z68OMXVoDteM6U9Osl14uXQFwjEZWENyk9lV10l1s0c4FsvREFFNh/PeV4eYMSyPQFihvKqZc0tzReWmslFdpDVNhycQJjcq8PUFuzO59MGX/TPUiAJ/SGHm/PVEIhGskpl3thyM+ZYNajWmIlrV6pvmJMmuOjyPKkzvYSCn95jpzceoOMuN0yYxrTTvmxnaxZnFadEWE4ozRSVL3/bRptPe2lRLMKyaO26sbsVkUt2bq5s8TCvNZdyATIJhpYcnUFWTR/jfaF49C9fWiGNpqG3z8adPd2M2wy3Rz9Xmfa1Mf3IFbrvE4lvG0eELkZ/u4qZXNojXmF6ax8AcNw6LmUc/3NnjHA63+H9XxoDHA/rP0r/Tdf07wLibBgycpNAHd+qhVVuW3DaeT352FnPOLBaBi9rzAiEFRYkwLD9VOCpr5m42i8SBVi/+sCKIy/3nDSECwstF8ysJywo1LV72Nnm46oVyZs1fLxyL01w22n1BOvwhppXmcs+5A/GFZObNGs1fNu5neN8UUa0BlcjkpTh4646J+EIy179UTiAaFlnT4uVQmy8m+DLdbY0JbNS+CWsVn/jFVSUCsqiaBEIynf4wwbAswkWT7Kq2xG49vI+RVi3zh2TR4jkaaGZx/lDPCICDbT7+94fDgZ7p8tp02rVjC2juCjBjWB6j+qeL9/G84X3o9If42YwhbDvYHpsJFl1sIxFiYkYuPLWP2Fe/IF83rpCl22M/V/tafJz12Gfc88ZmzCbE505b0OecMYBmT5ClFfUs2bCPpug56s+ht8X/uzQGPB7QzAg1Q8h/l+s62WGQHQMGTlJYJXOPNou+2tLcFeTaed3pzmOLMpgyKAu33cIv396qRkNkJ9HpU9Ot6zv87G1U2w3Xz1+HNxCmODsJi6R6omhBofpog5dX76UwwyWqPZo/TCRiIsNlIyfZQbpbjQxo7gpy2Z9Wk+m2M+eMAdRGvXN8QZlIRPUP0o57w/x1PHzpcFo8QXHuK3Y1Aj0TxScUZ/Ly7DG0ekL4ddNl8Yvr5MFZ2CwS5ZUthGVV7LtiVwM2iyTCRd+cO160ag7nY6QJbmfOX8+ALPdRG9r99Y4JDMhyc8NL5cKZGCAYVqhq8pDiUF2e49PlNfO8DLedzkCIsKxwWmE6v3x7K4oSIdVp5emPd5PqtPLE0l2CGGluvmV9UxiSlyw8eZZXqOJubV9tQdZG1BPFkISVCF8f6iTJYRWfu6UVdexr8TKqMJ2cZAeL1tYIoXcw6pasnUNvi7/eRPFojfiO1hjweEBrMb952wQe+NvWf5vrOtlh3FEDBk5i6Nss+hwkvVhZcySeNaGQcdGx9He/OsR1L60DINmh+u2c1j+ddl9ICHs1k7x+6a6Y19NHG1x5ekGPMFJ92vbXhzqxmM1YJDO3vLqR3Q1dXPHcGiSzmb7RcXGnTWJfi9rGKslRjzupJIuSbDcvrKgiGFZ1EC+v3ktIVhhZkBZ1QlYTxe+bPpiSbDfPfKqGg2rC2I+/7hY7l/VNoThbrcY0dPrV+AsgFK3cvL+tTgiZF80ZS3NXrJ4lHprg9ssDbVw7bx0F6a6o8VwvBnJRs7iCdBfXvLCWr2o7sEejMmQlQsXBds4YlMXzK6pwxKXL6++rRiQt0eO/+9Uhnvx4d/RxPwBrq5oFMYoQITvZzrM3jIqetxzzt7avtiBrwtje2nfxI+whOcK8lVU9Po81LV6uf0nV+phNJrKTVTfo3hZ/7dosZrNwoP62jAGPBzTC85fbJ/B1XQfJdsu/xXWdzDBGzw0YOEmh92bRV1s0Txht+/TSPDLcNsYUZfD3LbXieZoW4527JmE2g1WS6NJN6Gjmcw9eNJTrxxUiK6o/j+bEa7eYhVFdPPR+M2/fOZG6dr8gRHpTuQfOP4WCDHe0naTwydcqcXr8qhEsrajnvOF57KrvZFppLr/5Z0U0XTqPv27czw9PL0AymyjLT00Y2HlaQTo3L9jAW3dMFIt9ICSLiTJfUGZY3xRxP/Tnde+5g0lxWoXHTDz0gtu1Vc2M/s0yfjpjMFeMKuC8sp4GcppZ3OMf7cIfVrh4RB9CskJlYxdzFmykodPPP+85kytG5YvjLlpbwx+uGSnGvvX37lcXDuWasf2RlQh17f4eo94aeXh59hgyXDYCYSXGU6m3fX97WVnMOHk8Eo2Q+0Nq6Kr2+dCgfb5ev1WNQ7BJZv58+3hW7mpiYLYaq7G0op5F5TWs39tCbZuPS55ZxZ1nlXDduP69GvF9E2PA4wGNtEwamCV+njo056S/rpMVBoU0YOAkhV6voq+2aERH39La09BFbauXMwdlxTxvX4uPX/xtG1ZJHdXWHIX1wt7Ve5qxRMXQA3OSRJsj/lu+HsVZbqaX5nLbmcWc1j9dRBlo0MjQOY+vwBcMc9lpanjoq2tqRCtFa7X8zwdfU93sYdGcsbjtFmQlwvB+qQTCahK7TTLHBHZqoZSzJhRS2+bj6nlrSLJbCIXV1pUnGBZaoEE5yTH3w2QCEyZavUFMJnqkk2uoavLwxb5WZkUrL/6wwm/f+5pRv1nGjfPX8cyne/jzhgM88+kebpy/jlG/WcZv3/saf1jBKpl4+NLhVDZ28cPn1sbkYSU7rLT7QjHp8vFtn7ASYU1lsxj77m3cXF9hOxD1E9L26W3flz6vihknj0eiEXJvMCwCYeOfp9f67G3yYDGbOXNQFv0z1TDTqUNzeOPW8VT+7gJ2PnweOx8+nx9PHSzcveHbNQY8HtCfs16UfrJf18kGo7JjwMBJDK2yoA+ShO6WVlNXgCmPfSZExe/efUbM8wChD7FbJfY2eQRR0B7XqhjQPS6+vrqFi0/tG/MtP5GLc29TTfp9rRYzEwdmif00t119q2XW/PXCvXd/i5fi7CTavEHyUp0xx1+0toY/XjMSKToVoxkupjqsSNEFJT/VKVyeTdEIh7FFGTGRBx9tr+dnf/6SRy4/lfmzT+eHz62lKxCOOe/T+qcLkz59G2/F7qZezeIAbp9SQpLdwpwFsVN0WoXlL7dPYMawPJEu/9YdE3lz7nhuW7hJvI6+shTvw6N/bzVS+fWhTj752Vk6r57E+7654QBzpwxMGEMS/7qJPh+JnpfIVVrvKOwNhRmQ5WbOGcXiOcbib+DbhvGJMmDgJIDecyMYbRk0dvqZNaGwh6jUZTPz5lzVJ0Xvv1Pb5uPiZ1bhD8X6w1Q1eahpVhesTLcdE+o4s1bRCIQVvIEw7b4QF5yaJ9oc+m/5iYTRJb94n/94a2uPtod+X39IxmI20+oJiOMmcgHW3Hv9IVkkjKe5bISivkDa8ZdW1NEQTU+vae42XLxh/vrotcjC2TkQllm6vY7yqmZum1zcQ+/0zpaDQnfy1h0TGdU/PeYab3hpHXsauo5p2ibNZeXuswcmnKLT3qNzH/+MQ+0+5t94Ou2+UEIti17To/fh6W28O36f3vY9kj9Mose1bQ2d/iP6ylQ1qeGk8z6v4vcf7WTe51UsLt9Hv3SX4Stj4DvFcSU7K1eu5OKLL6Zv376YTCbeeeedmMdnz56NyWSK+TN+/PiYfQKBAPfccw9ZWVm43W4uueQSDhw48D1ehYETCTGkQDfeKytKzGMB3WPh4/xLtrfz0kzyZCXCxzvquef1zdS1+9lV38XkRz/loX9UMK00N0ZUmp/mZPl9Z9En1Sl8UvSobfPxxrqaHv4wS7c3EJIVxhVnYJHMKEqEebNGk+ayqlogTxB3tO2jtTm0b/QXlOUlFEbHEyLoKaLWnIifWLbryG2ZqHtvXYefy55dQ3NXEKvFHNN2CckR/vDxbhxWCUwIw8W1Vc3srFNFwZMGZrGv2YPdIrFwbQ2vr9vHpIFZQu+kJyGa7iTFaeHNueNRIhFxjav2NB3zFNFH907GbpV6NSsE8IUUrn6hnDSXjTfnqr/vtHZUussm2j6j+qeLNps2eRY/bq5H/D697Xskf5hEjy9aWyO8mQxfGQMnIo7rp8vj8TBixAieeeaZXvc577zzOHTokPjz/vvvxzx+77338vbbb7NkyRJWrVpFV1cXF110EbLc08fCwL8vNFLwydf1/GH5LsqrmrFFWxWqU62Jj3eouVGnPPgB9/35S8qj5XaLZI4hRt81+dHIjZ7IaJWQIQ9+SMkv3ueeNzYTDKsC1smPfso9b3zB3ecMilmQt9W2Ewgr/PjcQXiDYeFR47Zb1EylXhyV/7LxAMGw6g+T5rJy4fA+TCvNwSqZGZClhiyGFYWS7CTevfsMSrLdvPx5FeboFw5Q2xVVTR7WVTXzm0vLEhIFiG17xIuoa9t8JDss+IIy5VUtYr9EbZn4Y9W2+Zj9ynrxOvqpKU2oXJjpijFcXLJ+P6D62WhxEWr7S80Q0+ud9DjU7qfTF2ZXfSdXPr+2x+TZsUwRZbhtuteNhV7ndP24/vx1035SnVZW/Pws/njtabR6Q9wwfx3n/P4z5i7ayPxVVXiD4RhPF/24eXy1Se/Vs7ep932P5HuT6PGlFXXsafDgDyuGr4yBExKmSOTE+JSZTCbefvttLr30UrFt9uzZtLW19aj4aGhvbyc7O5tFixZx9dVXA3Dw4EEKCgp4//33mTFjxlG9dkdHB6mpqbS3t5OSkvKvXoqB7xnaVMsv/rZNBGKu3NXEkLwkclIc7Gno4pZXNwrdiqbLWFpRz+76TsZFXWtBndBx2jSSpGCz9P59ICQr4tuoFjwJiGTq+H1CsoLZZOLz3Y0Mz0/lULufuYs29SAIVsnEP+85k5CsiMmqS0b04YmrRzLl0W79zVt3TKTdFyQ31UGa08bOuk5MJhicm8y10WqG/ph6PY1GuIJhBbvFrPrZmMBtk7BZJDbsbWF0UTpE4NOdjeQk2zmlTzIrdzWS5rLR4gly52ubefDCocyeNIDJj37aK7lactt4WjxB3vvqEH+4ZmSMhujPcyeQn+6k5Bfv89ot48RxtedkuLtfS38s/b+Ls91srG4V2wA2PziN9XubuX1x9zarZGLTr6axeV8rIwvScFolhjz4YY9jxuPC4X1izjsRLGYT04flMnN8ERNKen6W9J8DX1Bm6K8/jHlfNFsA/X76z1GrJ0h6lCjFT/EAVDV6eOBvW3n2+lF0+IOkuWw0dgZidD7QXVnT9mnzJt5X26/Z0/MYvT2en+bk7TsnkuK0UtnYlfB58cd4efYYY9zawL+Eo12/T/hP2GeffUZOTg6DBw/m1ltvpaGhQTy2adMmQqEQ06dPF9v69u1LWVkZa9asOR6na+BbgL6tEwrLCbfrt1U2dnHP61/w7PWjCMkKV71QTmnfFFJdKgHQvo3rWyhXvVBOSXYSd509MEZjcup/fcQ9b2xm+8F2QXT0GUaBkCwqMqv3NLGv2UNYVlhW0dCjOnPti+V8vKMBWYmI8zzn95/RJ9XJoXZ/r3lW8ZNV+WlOHr50OMsrGkQelVYhueK5tdyxSF2kS3LcvLxqL9DTf0fTmihKhEBIpqbZQ6c/zP5WLzPnrycnxcEb6/Zht0hYJTNjizN45uM92K0SG/Y2M6owHZfNwqtramLaGGX5qb3qTzToXXY1EbX2XniCaiVFG7WOd9uNb7XEt1De++oQWW57zLbiLDcZbhuvromdAAvJER77aCdnDsrm+RVVPabLekO8+DsRNBHutS+Wc87vP+PWhRt54G9b2byvNYbAAMLNOiZuIy+ZsKKwdHvPKt+1L5azbm8LYVmhttXXY4on3tPFYZHIcNnIT3Oy4v7YalNtm48rX1iDwyKR6baTk+wgw91z37oOf3fF6v6zevgH1XX4+d37FeSnOaP+QqPpn+niiudVb6ZBOcmsvP9snjN8ZQycIDihp7HOP/98rrzySgoLC9m7dy8PPvgg55xzDps2bcJut1NXV4fNZiM9PT3mebm5udTV1fV63EAgQCAQEP/u6Oj4zq7BwNFDq3xsr23HKpkZlp+K1SIJDYdVMhOSFUwmsJjVX5Bmk4m5Czcxb9bpwnn3zdsmEJQVHBazIAx6gvCTN7ewaM64mEklIKbqs3JXE8l2D33TnCyraGBxeQ0H2rz8Za464fTrv2/n2etH0dQV4NoE3/hlJcLaymY2Vrfw4b2TCYYVrnx+LVMGZ1OS7WbKY5/1mmelX1zz05y8c9ckUpzdrrUaGdKOsbaqmRZPkPV7m/GHlBhBcGGmk7fvPIP6Dj/XvbiOV28eS1WTB4vZxME2H9fMK+eiU1Xfj+dWVHJeWR/6pjmQlQh3njMQgJt1UzLrq1swm6Cy0cOCm8YwKFpFOhz0LrvXzivv0c566cbTmTmhkB8v+UK0R65/aV2PtszVL5THtFDuXbKFu84eiDfagtT2OdxI/JIN+5g9qYirTu8HxE6XJYIm/k50jcVZbgbmJAlB9Z6GLqqaPOIPQH2nnzdu7dYZBkMyNqvEBWV5/PLCUtp9QVq8QRo6AgmrfNrnaG1lM/lpTl6cdTo5KfYeBCGRp4vLJmExq1NpibxdwrKC227BYjaLv3vb95xTchL6B2n+MOcOzeG8sjzxuM1iJiyr+VjnG74yBk4AnNCU+uqrr+bCCy+krKyMiy++mA8++IBdu3bx3nvvHfZ5kUhEaAsS4ZFHHiE1NVX8KSgo+LZP3cAxIiQr1DR7qG72UJafSnWzV3zDLf31R+Ib7rKKekyYCIYVkQ1Vlp8qKiGa825TZyDm27hGEO56bTPPXDeqh8YkvupT2jeFDn9YiFE31rTw0qzuKINHLh/eq05Fj+mleRRmuIRY+EhVAv1klUYKvNHqh7Ygxx9DX8nQC4ILM1y8/6PJNHT6ufbFcp66ZiQ2i5nX1+1jQJZ6vwJhmR+fOwh/NFDz5gUbkJUIKQ4rdslMICyTl2qP5mnJ0SqV6gmTlWSPOa9EcNnM/L/zTiE3pXvf+MqVVq3RRq0z3d1uu3oX4Dfnjo/Z5+27JtHUFeCyP63GGwhTkp3Em3PHU9o3pVdjvJAcYdb89bhsFjp8IaaW5h5VBpZ2jfG5Y/Nmnc7vLi9j3qzT+eRnZ7HktvFcOLwPVkn9/aPphzTYrJLQOWnp4w0dR/4cgaoPuuqFtVQ1enqdXErk6aLfpq8KWaJVIf0+ve17JH+YRM/TH7+35xkw8H3hpPrE9enTh8LCQnbvVu3R8/LyCAaDtLa2xuzX0NBAbm5ur8d54IEHaG9vF3/279//nZ63gcNDIzrJDiu+oNxjogegMMNFst3C0u31/PLtrdR3+EQ2lH7xnzmhkNV7mhhVmB7TmtD20RMjvcuwPpMpEZHRL9AaoepN0KqH/twOlzukQb+4aq+5YE21WJATHUP/HC3X6YKyPP5+9yQcVok5CzYyqSSLrCQ7H22vE0GQtW0+ppfmkZNsFxNNtW0+fvDMakKywpb9bZhNJrbsbxMJ63oTurc318a4OMdjVP90NvxyGrMnDaCm2SsISDxZ01dr9KPWf547nopDPdsyv7xwKO9vPYjTKjF30SZ2N3SJaItBOcncffbAwxrjaaLirkCYsvzUw2Zg5ac7xXn3Nl6vJ+MtniB/uGYk/7znTPqnOzlvWF5MGxSguStAssMq0seP5nOkoSsQ5uYFGzAf5sucAQMGeuKkIjvNzc3s37+fPn3Usujo0aOxWq0sW7ZM7HPo0CG2bdvGxIkTez2O3W4nJSUl5o+B4wdtyqexM5Zg9PYt+n+uOJWCDHVqqLErIBZ/jQhsrFbJr/ZtXE8QElVWjobIxBOqI2k44l8XelYJEkFvxy9ep9UnFuREx9CeYzbBQ5cMo90X4jeXlmEymYSe5tbJA7BZzMKVWDunmRMKWbVHNcDTJpokswm7VaK8sgmrZOa18n3itbR9RvVPZ+bE/jEESI9R/dN547Zx7GvxcuXza+mT6sTRi0YmPggSuketnVZJuO06rd1tmZkTimK0Qlq0xdubD8RMjPUGzc+msdPf6775aU5+dM4gHFaJgozEuWMa0dPaTXe+tpkpj32GyRTho59M4Q/XjOSTr7v1XOVVzZw+ICMmffxIn6NE5758R73hS2PAwDHguJKdrq4utmzZwpYtWwDYu3cvW7ZsYd++fXR1dfGzn/2MtWvXUl1dzWeffcbFF19MVlYWl112GQCpqanMmTOHn/70p3z88cd88cUX3HDDDQwfPpypU6cexyszcLQIyQpbD7THJGdD4vRu/bfo5z7bgz8kUxwdlV5f3SKIQG27L6Y1oW3XEyM9jkRk9KTlaKozGuKJSaJcoXhobSg9KdCPXMcfwyqZGNonGZfNwnllKmn7cOshkh1WUqM6n+IsNyML0qPH73Y01q7l+RVVMUZx2nn/4DRV1/L3Lw+yrqqZQFg1I3TZ1LDMkBwR56WH9nhVo4drXyznkcuH0xgN1uxNIxM/wp1o1PqlVXvZVqtWmxIlvptMcP7wPiyrqD+sMZ4GX0jhiufW4g2EuXFiUcxjWrVPO+/Xohqvo2k3AaQ6bVQ3e5jy2GfcvribGH20rY6cZIdIHz+az1EiLFhTbbSCDBg4BhxXgfLGjRs5++yzxb/vu+8+AG688Uaee+45tm7dysKFC2lra6NPnz6cffbZvPnmmyQnJ4vnPPnkk1gsFq666ip8Ph/nnnsuCxYsQJKkHq9n4MSDOk1iOmLUgR55KQ4uGZGPwyqR5Ohe/LWWQ5e/W7eid+TVEyMNegFqb2JUPWnRogx680nRC1aLMt0xxESvp+mN8GjERk8KZCXC5ppWbpxYxN82HxDHyEtxCEE1wO2TS1haUU9Rlpsv97cxqjA9Ln4h1pVYf1360EmXzSK0Or6g2sLZVtvOmKIMppXm8Z8XDcNplVAi6nnFh2X+dNoQHFaJW17dKCplUx77jMevGsG5h9HI6IM4Z44vEsJe/Qj32spmIhEFkHq8BzeMKxRC7gy3rUeIZiLUtvl45IOveeiSYTH76kXgr9w0hpLsJK599NMjtpsESeqMDWTVUNfhj74XiWM0jhbxWiADBgwcHseV7Jx11lkczubno48+OuIxHA4HTz/9NE8//fS3eWoGvkcMy0/l4fd2AL2nd2vQiJAm2h2ap1Y1CjK6Ww7aJIyW0xMIq068emKk4WiIjL6akqiyEp8HpZGasKxgkcyC3FQ3x56XHvrjhKJTLILEpTkpznYzoiBNVDO0aR6NEM6bOZph+anMX7WXJ64eyWvlNQzrmyLOOZAgAFJ/LXrdzAsrqoRWZ3RhhkgWX/51PZNKsvjBafk0ewJsqG4V3jl6onDZqH4sq6iLSS+vbfPF5Fb1RvgS5Si5bRY8wTCVDV3UtHip/N0FCbVC14wtEO+fNjGmTWgdjqQs2bCPmeMLeXHW6Vz1wtoeQvJIhCOO12uIn5SLh93SM3X8m0BWIjHTTQYMGDg8jDqogeMKzUdHIxiJ0rs1aESo3RfEbbfQ7gtx9Rh1gXttzjjRcshOsos2Rn6ak5/PGAKoAZDxYtTDERkN+oqMw2o+bB7UmY9+wv4WH2FZEYRsbFEG+WlOnr52FMGwEpNLBT1bds9+uoeyvim4bBYcVjMvzx5DbauPqsYufnXRUDZWt8S4FgMUZbkAcFjV/9JKJCL0NA6rWZjT6V2J9del183cN21QjFbnByP6Mq44k1dWVfP40p04rBLZyQ4Wra3p4aY7ZVCWmAyLb/ktraijpsUrXv9I0HKU3tlSy7KKeqqaPCIaI14rVJzlZkheiqhExeuADhdhEJIj/L+/baU4W83AmhA1mdTalkPykg8b76DHkfRcvUVhHCsks8kgOgYMHAMMsmPguELz0dEIxuEWC40IWSQzjZ0B/v5FLW67larGLvLTXdz0ygZBcrRx5rfvmog3KLO5plUEQGoLrV7vos9kil+A9BlQP50+RPwcL1jd16L68ECEFm+QfS0+Nte0cqsuZPI3/6xg6tBuA7z4rKi7Xt/M3zbXCj3MHVNKKMl2c9uiTcx+RV28h+Qlk+ywitHxl2ePodUTwh+SueccdYx8RrQNpj/n7bXtMQGQei0QdOtmrNEW8N+/PEh5VTPXj+8PqIRUGzfX/h1PKs4tzRWPxWuWQnKEmfPXJ9TIHC1mTywSwlw9YdJeSzPs01/PkaIcnrthFH+eO57aVh/F2W4W3zKu12s4HI5Gz9VbFMaxQiN9BgwYODoYZMfAcYdGMI60WMycUMhXtd1i5iF5ySyrqCckR0SbQSM5Xx/qIBBWaO5Sk7/nr9rLpIFZQmOiVVPmnDEAiM1k0i9AKiFKoc0b5DeXltHQ4afTH+qRB6VVneK9UxasqeYMXcjkkg37RCVEhGzGHWferNOpafHgDYa5blw3+att83Hna5uxW8ziejUC+Myne3BYJTFGnum2qeTq0jJaPAG8wTAhORLjShwIKz2EvLVtPp5YthNftE20aG0NIwvSBCFNdlgJhWONC/Wk4oZx/UWLKVGlTNPITPsXAyNDshJDmFw2Cz5dJU3/eolCNHf893lU/u4CXr91PGlOGz9a8gX/+Y/tWKMttsNdQ284GmJ0NAnlRwM96TNgwMCRYZAdA8cV+m/ph1ssNCJkl8wsrajHbjEzrjiTpdvrYtoMWltlwc1jsVvNwsxP256dbBcVn5CscNdrX0SnjIrEQqQtQIWZTj79mToZ5LBKwhvFbZNEZUVrtWmko6d3SmzIpL4SooVsJjrOzQs28uLKKrKT7YL85ac5mX/j6dgs3anZWiVs/d4WQrLC6j1N4m+rZCbZYcUimWnqClKWn0JNizfGlfgvG/f3SKru9IdxRttESyvqaOgMCELa6Q9htZh7VMA0UrGsol60mHqrlC3ZsI/Khi5enHX6Nw6MtErmGMLkDYZx2iwJCURvUQ63LtzIOb//jGtfLOf9rXVCLwUc8RoS4WiJ0dEklB8ORkq4AQPHDuN/i4HjCpNJJTwzJxQedrHQiNCw/FQWra0R/46faukmEzaRJaXfbpXMyJEIzV1Bfv6XL3nqmpE0dgaYOjQnJpNpRmkeH907BX9IptkTIBBWhDdKkyfYQ7CqkY5475TrxhX2SCDXKiGpTivLdzQkPE5tm4+v6zrFtWmVI5ddEtviK2FWycw7Ww5ilcw8t6KKVk9QjPXPjMYvyIpCZlK3K/GcMwawr8UbQzziK1yhcDchXacTVse3YMJKhNfX7ROPJaqUae/FTQs2kOG2HVFPA92tvvgcJSUS4eXZY0iyW8RrratqPiyBSKQDgsQE4nDXkAhHS4zi08eNlHADBr57GGTHwHGBFqb58Y562r1BZgzLixH/xkObKAJ1odeIUaKpFrvFjMtu6SEqrW3z8adP92Axm7l90Sbmzx6DzWLm+hfXidbS6somapq9PH3dSPY2eYhEoM0bItVpFd4oOcmOmGNrpCPesO9wbTm7xRyTd5Vof7tOzzS9NI+BOW6suhaLvhIWT/4auwKku21irL+mxcvNCzaQ5rLhC4bpl+4i022nODuJgnQXg3KT+OvtE8hPc8ZUuKaX5tE3zcnWA+3cOLGIFbubaPEEaez0J2zBaI/fOLGwR6Us/r04Gj3N4QIjtQDMt+6YKFpyg/OSYwTTR4Mku4WXZp0e8xnS2mSHu4Z4HC0x0oh3fBTGNyV9BgwYODKM/zEGvndoCeCTH/2UuYs2c8VzawmGFW6brAZOJlosvMEwdh2xOdxUy+HaYRee2oePttdRlp8q4hM0IpDptvP6LeNIcVqQzN0ZUlqSuEYk4o/dW5XpcOeR6LH4bfpKwcwJhTR7glQ1eUSLJdEkmcMq4Qt2my1qlTANZqBvmouDbT66AiEAdjd0cvUL5ZhMJkE81u1tjkkqf35Fpah+vb35AJlxSeN6vL35ANNK82IqZYn2Oxo9zTmn5CCZTb0u7hrhWXn/2TgsEtNKc3ngb1uPagoLVALx5tzxlOQkiZR77bjT4hLYj3SsYyFGGtmLREy9JpSDkRJuwMC3BeN/jYHvFRrR+eFza0X7pqbFy/UvraNvmpMOXyjhYtE9xaIu/oebaumtHaavnGjxCRoR0BafNJeNNJctJkNKSxJ3WCUCYbnHsXurMiU7LL0GUiY6x/ht2jX+YERfUVH6y8YD4nr1ZEjzEvKHVAO+JEdsJUxrgzlsFnbXdxKJgGQ2s6ehi6teKGfzvtYY4vHjcwcTAZExph8xf25FJb6QTCCsJKygPL5sJ/6QzPzZp7O6sumwlZZEepr/enc7ta0+QrJyVAu7Jioelp9CJAKPXD6cmfPXHdUU1oqfn0VRpjvhcbU22ZGuQY+jJUYQS/YqGz0iCkMjfTsfPnrSZ8CAgcPD+J9j4HuF2WRizoKNPTx0Nu9rZfqTKwjJCjOG5fVYLKqaPGzZr2ZejS3KOOxUS2/aCX1shBafoK+s1Lb5aOj0Y5ViM6T0VSS7Repx7N6qTINzk3sNpEx0jvHbqpo8bK5p5Ybx3df20qq9ok2kb5vkpTgAKMxU/XbyU50xlTCtDeawmFmyYT/F2erPenF0PPF4ff0+cY/0wupXbx7LfW9+iUUyiaRx/fvlDSrMnL+eAVlultw2/qgrLVVNHioOdnDTpAHkpNiPeWG3RlO2i7PdPHPdKG5duPGwVaOcZAf1HQFsFnPC19KO9eZtE476GjQvofmzj058HVYirNzVRJLd0oPcGSnhBgx8ezD+Bxn43hCSlcM60e5r8XHG/37CoXYf82/suVi8uHIvwbAiiE1vUy29aSfiYyPiKyu9ZUjFV5Hij91blWlccUbC8+jtHOO3WSUTeakORhakxVSUtDZRIKwI4jOjLI+GTj/Th+USkhXhKRTfBtNE1NrPvb0XVU0evqhp63XE/E/Xn8am6lYikQiDc5JZef/ZPKeroGze18r1L62jf4aLv9w+ga/rOki2W76xPudYoJGUT392FpeMyOePn+xm6hMruHXhRn75zlYeX7qTz3c3MrIg7YikSjvW0V7DM9eNoijTTUl2Em/dMdHQ4RgwcILguMZFGPi/hUThjfHwhRSufqGct+6YyJtzx3Pbwk3UtvkoznKjRFStjlb5STTVcvUL5THaCX0sg1Y50Vo88TlV3dqb2JZUfBWpONsdc+xEVab6Dj8jC9LZXtve4zz0z0l0HG3b9NI8cpLt1Hf66ZOqLpqS2cTjy3Zyzdj+LJozlgy3jamluVjMZv6wfBd3nzOQsBJh0sAstte2Myw/VbTBAJZX1PPE1SMBjhhCmSjLKz6/ymlTf4WEZJmppbmcP7wPQEyUgSwrTCzJxBb999ShOVyQYL+QrCCZTUh8M1dhPTTicO7QHM4ry/uXXks71qSBWeLno7kGTUu0rKKeV9dWs36vmnMmmU2MG5DBjROLmDo0FyUSMYiOAQPfMYz/YSch9GZimi4jfvuJiqNxotVXEFbefxbrf3kun0T9btJcNmQlwvzZp2O3SGKqBYiZakmkndAqJ1qLB3pqfRJlSEFsFSnTbetx7Pgqk+Zw+/zKyl41HInOUb9NG0O/780vxeOqVkdtExVkqM+rb1djMp5bUUldewC7RaKy0UOK00owrAgHZOhdZJ0IvVXIEulsfv6Xrfzp0938Y8sBPv26gRW7Gvnrpv0ASJJZEB0g5ufvulXzbbaF9M85mmvQtETnDs0xdDgGDBxnGP/LThKEZCVmXPvaeeWU/OJ9hjz4ISW/eJ9rXyzn4x0N0VygE5P0JApv7A0WCZLsEmDCJpkJKwpLt6vXfd1L5RRlqiPHuSkOAiGZwkw3mW47JdlJrLz/bC4Z2YeDbb4YUalWORkTbfFoVRcNvWVIQbcW4/rx/alq9OCPE+fGV5nuPmcg3mCYD7fV9RC3WiUTFw7vw6wJhURAeMVox6lq8vDqTWOFZmhfixdvMExjZ0Cc7+Z9rfzp00oCIZmXVlXhD8n4Qwo/+4tKjJ75ZDdWyYwSiXBaQbpog/Umsk6Eo5ku0vvWPLV8Dz9a8iU3LdjAbQs3qW7LJ+hn8fuEocMxYOD4w/jfdoJDIziRCGJc+/bFm1lb1SwWK1mJsLaymdsXb2Lyo59S1eg5IReZ+PDG3jCqfzof3TsFX9TQ70CrjymPqrlRa6ua2VitiplTnRbenDue3FQHe5u66PSH2Nvk4T//vo0Uh43+mW4G5ybz1zsmUJjh4sLhfchw25g0KJvNNa0EZEVUUfLTnL1mSAHkJDtIdVgoyUrCZIJgOMzgHPXY+WnOGO8UiJDusuKyWVAixGRHjeqfzj/vOZM/XjuSAVnuGK+Y/DQnOckOJJNJBHt+sb81GikRJMNtjakEVRzswG6VONTmF0LotVXNbK5p5cJT+3LFc2uobfUhRyJCWN2byLo3HMt0kR6Gy68BAwZOJBi/iU5ghGSFmmZPwnHt3qC1gE5UwnMkw7XCDBev3TJOGPppGVPx123CRLJDbdNUNnRhNpk40OrjyufXsnjdPma9vI6qxi72NnVhl8wsu28Kf7z2NKqaugiEZXJT7Zyan0pNi5cXZ41mwU1jqO/w8+X+th4ZUoUZLjG2XdXURSQCSXYbNS0eJJ03Tf9MF3e/sZm+aS4cVou4Xu09cVgk3pw7nn7pTiIRsFvNBKPuxP3Snaz4+Vks/clk/GGZhWtqCIRkzj0ll5JsNzNfWseehtiKUm/C6Pmr9jJ1aA4AM55ayUKdTqo3kXVviE81PxoYLr8GDBg40WCQnRMUGsFx2yxYpe6Mp6NBVyDMzQs2YDb960LPbxPx4Y3xsEom3rhtPDZLt6GffjRaQ36ak7/fPQmnVcJuNSfIo1IzpvpnuPh/b23DabOwu6GTyY9+yvtfHRKjxoGwgsUEg3KTKc5O4td/387AnCSG90uNyZBafMs4MbZ984KNPP3JbiSziRtf3sD5f4g1xXvj1vHsb/Uy+dFPWb+3WVxvQ6cfE2oV7kCrlzZfELtFIigr7KzrZMqjn1LX4Wdfi5d7l2zhslH52K2S0O1oxofeQFiMe2uuwfFVKD1BcVglfvPeDjbva1VjMaL7NvTigNzzPYtNNTemiwwYMHAywvhtdILCbDLxWvk+MqMuv0eq6MSjts3H8h3132t150jC6fjwxnhML80TrsbxGVMaNHM8k8lEsyfI8oqGhPvOmlDIx1838Mjlw2nqCnD1C+UAPHzpcJZXNHDlc2sxAX3SnPhDMst31PPI5cMJKxE6/aGYDKnMJBstnpB4jevHFYoRepNJrTKZTT0NE7fXtovrPb+sD/0yXKIK5bBaaOgMCK+bccWZ5KU4uH3RJp65bhSNXaroWB8fUdvm47Jn1dbUoOi4t91iZvqw2PH7RARl/ud7RRusN5F1b4iPdnj+htGGy68BAwZOKhi/kU5AaH40V4zOj3H5PVYsWFP9vSw6iYTTZQ99xL1vfsH+Fm/MvrKixAhy9dBcjeMzpvTQUsFTnVayk+0ir0q/b3GWm3HFmXx9qEOkiqc6rbxz1ySRR1WWn4rdasZsVtth2r6pTisPvqNqfjp8QdJcNlw2i0gf14796ppq8tOc/POeM/nDNSOxWsw9DBMnDsym0x9i3qzR/OjcQUhmU4yhX1NnQBAorYJTlp9KSbabm17ZwM66DqCn8eGMp1Zy35+/YE9DF2X5qUQicMP4wphQyXiCctGIPtS2+vCHFa4dW5BQZH041Lb5uPqFtdR3BDjnlGxjusiAAQMnFYzfSicgrJKZpdvrErr8HgvW7/1mzzsW6HOuNOF0XoqDD388mUevGEHfNCfLKrpJ0Nm/X0Gq08qf41oivRn6xWPmhEK+PNAm/p1oX23se1xxJksr6mno9PPy7DF4g2Gxr2ay9+X+NrGvdtz3t9Vx52uq9iYzOtauPW9IXjIAB9q8vHXHREKywpTHPsNts8QYJhZnuRmSl8yD72wjJ9lBYaaLpdGKVbMnyOo9TSKKQR9joU89X1vZknCCLaxE+OdXdcx4aiUznlzJH5bvom+aA0yx4/f6OII0pyrYtlvMFGcnESGCPxRO6ICcCGqG1ARyUuzf6+i4AQMGDHwbMH47naDQFvGjGRHuDbISIRCWj7zjN0Qi4XR+mpO375xIfrqTXfWqTubO17qnx7SKgxSXWzQ4VyURvSWZQ3e21deHOgmHFQIhuce+VsnEfdMGEwzJgkBo1aAFa6rxBsMUZrhE1lR5ZQu+YJjxxZmUV7bgDYbJS3Hw7PWj2Nvk4eH3KmJGtaeV5qrj3rPG0NSliqftFjND8pJjDBMnDcwCVOL0arTCtixascpJdrCxWo2+0CeWN3YFYqpU6/Y2H3GCrarJwzOfVnLeU5+jKPQIlRwzIIOPttdz7YvlTH1iBa+s3ossRxiQmUS6y04gLIuW2HNGCKUBAwb+TWE4KH8P0GfeBMOy+GYcCMnC10W/j7aIJ3L5PRZIZlPMN+9ves7685QVBSWifouPb9toehpXdFLomnnlCUXVWsVh5vhCrhpTwBu3jldfM9zT0E9/3Rop6PCHsFjMWACXzRyz7/TSPDLdNqToua+vbuG1W8ap1ZJWHy6bRRArgK217cIFeGttOy6bJTrqrRKZiSWZ4h5qzrd2q0RJtpspj31GVyDMZafli9fSUJTpElWZdJcNiDX0q2339Ugs12IstONUNnab+sU7MPd2T6cPy2XW+CLGl2QyrTS3V5dfq2QmLCu4ogL4sKz06oD8bTobGzBgwMDxgEF2vkOEZAWzycTqPU0UZ7mjLZ0GFpfXsL662zp+7IAMbpxQxLRS1TrebpVUPxSdy++RFrtE0No53+ScP95Rz6travhifyvnnpLLnDMHMDw/NfpYHQXpLmpavDGiYC1sMhIh4RQVqIRoemkeMycUiggDXzCM02bBaulp6Ke/bo0UtHpCYtvdZw+M2XfmhEJ2NXQxtE8KvqAsqjjXziunvsMPwPD8VAJhlYjsqu+MnoMsfi7JcTPlUZXIaOPdoKaP56e7CMkKy3UtKz2x6YZJV5WJdBPY6Ot2+bujGPQxFvoq1aCcZIJhhVkJ4iYSQXM2fn9rHcVZbn5/1QhO7ZeKxWxO2G6y6Ko0lriKjdGeMmDAwL8TDLLzHUFr8fzib9t49vpRNHUFuPaxz3pMF5lNaush3WVVF8boQJO24PeWraRHcZabgTlJFGW6SXNZafOG8IXCXDu2P2FFwWI+6FAzLQAANONJREFUusVKO+c5CzZS2+ZTR7zvOoOSbDeBsMKu+k5uW7gJu8XMJz87i4ff2xHzfE0Hs7G6NeH0WH6ak5dnj6Ek2y3ckNdXt2A2qdNTD140rIehX6Jsq30tXsKyAibITXWyuaZV5FGNL87k8Y92MignCadNElUcjVyWVzUzviRDLOY1LV521nUwJC+FmhYvLZ4g6/c2i/OvavLQ4gkiK92xC1bJzMIY8XQ3sdGISnVzd1WmutnbTWCjr1vV5BGP62Ms9FWqmRMK2Xawe6LrWCbygrLCiH5pR2UcaMCAAQP/7jDIzncAjTRcM6+cN2+bIFoiifxitMW/KxAmGFb45OsG0lxWseDbLGYxIqxf7LQKyawJhYwrzjxsq8xi7j6v3r6l6/U3XYGw8Etp7gpQ0+LFF5TFNUwvzQVi2zaangYSB0yK43kCTNGRPv098IdkYej38D8rePDiYeK6rZJJiGhdNgmLZFYrLDvqeffLg/zhmpFURwnEB9vr+OkM1Q15eH5qTLVk0doa/nDNSHFeY4syWLJ+P/95yTB+MKIvGW4br66JnezKcNtEyGYoLGO1SDHX3uoNimNp5KzVGyIkq1WZxz7aKc5bQ3aSXRC633+0k5CsiBiLsUUZgrjd8NI6HryoVIScHo3XUpLdwryZo1EiEaP1ZMCAAQMYAuXvBJqWZVJJlhh9TkR03rpjIhChxRvEG5SxWdRUcH2opObyqx8R1o88D8lLJqwofL6riX3NHsKywrKKhmPOztLrbzTtTVNXgJdX76UwwxVzDVo7KZGeBnpOUVklEwvnjKXVG+TqF8pjiI7+HnQFwsLQb86ZxchKhHmzRjMoJ4l/3nMmv7xwKE2dAaYPy+PL/a0iRX1pRR01zV5um1yMPySzp6GLdVXN+EMyE0oyY6IRNMO9dl9IGOstXldDhy/EDeMLe5y/dl0vraoiJEewWtQKjXbt+WlObpxYJIgNqC7Qj/1wBCFZYfqwPAJh1Thw+rC8GEM/7X0eOyADq2Rm4sAsUaXSXndtVfMxm/q9OXc8GW670X4yYMCAgSiM34bfMjSPHL13Sm/GeM1dAcwmEw0dAUEk1le39AiVlBWFrKTubCU9QTjQ6uOq58sp7ZtChz/MlMe6M6SONjtLf87Q7WUzd9Emrjq9IOYx6G4n6VskLpul14DJa8b0pyjTHeMC7bKZeXPueFq9QXEP9jZ66PSHMBEhJ8XOmsomspPsvHvPGYRkhXMfX0FQVphWmsv2g7EeNG6HBZPJJDKiFq6twSqZGFGQBnRHI2iGe5FIhCy3nRnD8shJdvDYRzsZWZDW4/w1Yjd5UA6W6PVqr6G9j/UdfmqavUwflkdhhku4QD/6wU5B2OavqmJanKHfttp2Khu7Q0MrGz1kJ9vVSl66U5xLvGfOs71MTT13wyhW/PwsLGYzlz+7+judxDNgwICBkwkG2fmWoVUb9N4p8dDIhBZz8Nv3djA4NxlfUI5WXrpDJSNESHPZaPcFcVglltwWSxBumL9OuAQnypCKR6LsLO2cNWgkrX+Gi3HFmXH6FITGRJ+t5A2GEwZMWiUTP58xJIYw5ac5WX7fWfRJdYpYiN++t4MxAzJ4Yuku+qW7sFskXvp8L52BMHubPFwzr5yy/FRyku0caPVy1pAcIQqeXppHhsvGqt2N4ryWVtSpWVIhmQ5fKCYaobbNxxXPriGkKPhDMvNmjebdrw5S3+nvcf4asZs5oZDVe5rEPRtblBFDCv/48W5kJcLiW8YJF+jX1tewv8VLSXYSsycWcaDVyw261PRnbxjF3a9vxm2z4LJZuGXhBqySGX9Y4aZJRTHnovfM0aIpKn93ATv+u9vUL81p40dLvuDCP35OfWfgG0/iGTBgwMC/Gwyy8x1A753SmzHesop6EXOQ7FDbU06bFLO4XfHcGiIRExkuGznJDooyXUhmU0xu1OFaZb0hUXaWdp4aSftg6yGevX5UwmuoavLEZDEBMVNLehJ0w7hC4VoM3a2rJLsl4T24fnwhh9rVqal0t5XCDJeoCM2cUMjK3U04rRLZSTYhCtacl59fUSXOSyOMnoDq2zNjWF5MC+iUPilIJhMz568n023ntVvG8duo4Fp//tp1jS/OZGO12jrTWlb6yt0H2w6xv8VLbopduF6H5AizXl5Phy9E/0w3+WlOCjJcmEwIQ7+nrhnJg3/fBkC/NBdXPLeG+nY/fVKdPc5Fm7a69sVyzvn9Z9y6cCMP/G0rty7cyDm//4xrXyzn/a11hJXIN5rEM2DAgIF/Vxhk51uGVm1IpGuxSiZumljE+OJMYTC3aG0NLpsFX9TdV7+46b/Nf32oEyVCDEE4XKvsSNCys8KKEjM2rZG0u88ZRFcg3KupoaY30QiERoDiAyavGVsAqIRJa/t4g2FSnNaYqAetDaY3/7tp4gCW72igts3H4NwkxhdnMjDbTUNngOdWVALqOLjeaVp/XlqW1P4WL7ISiYmp0O7b5n2tokX01NUjY7Q32nVpsQ217T4CIVlkfOkrdyE5wq/e2SaE4RpB1OdZmQBvIExhpjvG0O8P15xGY6efWRMLRRzEf727HX9I7jU4tarJw7KKet7ZUsuyinox3aVhdlRHZMCAAQMGDLLzrUOrNsTrWjRR8a8uHArExhw4rGacNkuPagl0f5v/xdtbRYyEtsgerlV2NFiwplr1YNG59OpJx58+3dOjraNBn6ytEYhFa2tiAibVyIQU0Z7T2j7O6FRS/D0wm0wx5n+jCtNFBtUrs8cC0DfNydxFm6hq9BIIy2IcXCNl8eelkYff/HM7hZku3rpjIhOKM3sEbF74x8+Zv6oqYVipFtvQ5Q9jjzo213cExLlr0KpT8QRRO/49S75gd4MHq2RGMptwWiVsFjORSIR0t43ppWr1KaxEWFy+j/v/+uVhg1N7Q790J1OH5hoCZQMGDBiIwvht+B1A750ytihDtG5CssLD7+/AGwzTJ82BPyRjNsFtk4sBWFfV3GsStVZx0ROEw7XKEqE4y8300lwuHZnP9NJcGjsDMeesHj8sSIeWraWvNmkoSHfx7pe19M9w8ZfbJ5Cf5uzWyUQDJsvyU4Hu9tzMCYV8VdtOTrI9JhYiL8XB/TNOwSqp7R99S0zLoFIiavSFVsXSNEIjC9JinKYTJX6HlQiLyvdx7uMrsEomFt8yrsd9CysRdhzqEkJhPYnTYhu06onLZuHl1VUxU1nadv256JGoBXX/X7fyq3e28tA/tvP7D3fS5g3y0o2ni9f9YFsdexq6jjqsE9Sx8/k3jkGJfLOIEQMGDBj4d8RxJTsrV67k4osvpm/fvphMJt55552YxyORCA899BB9+/bF6XRy1llnsX379ph9AoEA99xzD1lZWbjdbi655BIOHDjwPV5FLEKywo0Ti6hq8rD1QDuzJxXFxA/Utasi2FvOKMZhlTivLI/+GS4217QyOC+5x0KrQWuL6bOgErXK4mGVTFw4vA9LbhvPJz87i3mzTud3l5cxb9bpLL9vCsGwLM4ZEG2aRWtremhzrJKJS0b0ZelPJvPRTybzsxmn4LBKDMxJYuX9Z/P0taN45tPdeAOqHuU/zhuCP0rOfjCiL+OLM7FLZrbsb4uJhXh59hg6A6or8vrqFqqaPHT5w/h1GVSvrqnGbpFENUYjRC1dwRinaaDX6aW6Dj/Tn1zJ4vKaHkQFusXItyyMJUs761Rn5ewkO1v2q5lWLqtFTGXpnx9/Lomgb0EtLt/H4nX7eH5lFZc8s5qcZDtv3TGR/DRnQuJ2OGik2siwMmDAgIFYHNffiB6PhxEjRvDMM88kfPzRRx/liSee4JlnnmHDhg3k5eUxbdo0Ojs7xT733nsvb7/9NkuWLGHVqlV0dXVx0UUXIcvHZ+xWa4PMKM3jlD7JTBuaGyMgzktxAJCbqqZp3z65hKUV9cxftZdpQ3N54G9bEy5u2kKsz41KNAKuR36ak4/uncwfrh1JiycovHdKf/0RJb94n3ve2Iw3KCOZTKJdoi3WWtXjva8OMWNYHqP6p/Phjyfz+ytHUJKdhCcQJqwoLN1ez00vb+DHS74g1Wnl6WtHkZPiwGyCnBQHDptEeVWzaDcNy0/ltfJ9QLfJXkmOqtPR2l3FWW6SHCqZ0O5dIKzEnJdGxCqj1RbNaVpDb9NLWx+awY0Ti3oQFegmUJpQWCNLP5sxhO0H25k1oZAXV+4lGFY4XWcAGP/8+HM5WtS2+dh2sJ0BWW5W3n82z98wmv6ZLq58oftcjLBOAwYMGDh2HFcH5fPPP5/zzz8/4WORSISnnnqKX/7yl1x++eUAvPrqq+Tm5vL6668zd+5c2tvbmT9/PosWLWLq1KkALF68mIKCApYvX86MGTO+t2vRQ4lE+ON1I9nT0EW/dCer93THD8woy8MbDLNyVxN5qXZGFqTz8Hs72FjTQmWjh99cOoyZ89fxzHWqZ8rSinoWldfoWijdlQN9q0wfq2CVTFwzpj8PXHAK+1q8THm0Z0xFXoqDX15QyoFWH3e9tpp5s05n3qzRLFpbI0hHfpqTu84eiD8k8/qtautnb1MX6W4bDR0B5i7aFHPcf351iOIsN2MGZPD/zjuFdn+Qoswk1lU1c/c5A0Wg6N+/PMhVYwqYWprbHc/Q6hPtLq09p8+g6oxWevTVGM0NeeuB9qgmKNZpOj4rqiQnCbfNQpJD4uFLh/e4b/pK1p2vbRbBmjPHFzGsbyqn5KXwPx98TVNXgDMGZQsDQO0Y2vN7c70+EvqlOzljYLYgMucOzeG8sjxADea0SGYjrNOAAQMGvgFO2K+Ae/fupa6ujunTp4ttdrudKVOmsGbNGgA2bdpEKBSK2adv376UlZWJfY4HrJIZi9nMf79bQbKje+xaExS7bBZeXVPNhr1qS2R9dUtMy+Kpa0Zy68KNMVWJ5fdNIRCWhQvvzAmFBMIK3kA4ZmJHE0I/eFEpNc1efvjc2oSmhovmjKXZo7bWalq83LxgAznJDu46eyBOm4TDahbGhw0dfmQlQmVDl/D36c3TZ3+rl5snDeBgm49QOEK7L8QpfVKoaw9gjya5y0pETE1p8QwxGqd0p2inaR4/WgtPX43RxMhpLitl+Sk9nKb1iG8dJRKDQ+yUmV5nM/2JFRxs9/HcDaOZs2ADwbBCbqq9h8Zq0dqahK7XR0IirY2+QqORmkTb4rcbMGDAgIFYnLC/Ievq6gDIzc2N2Z6bmyseq6urw2azkZ6e3us+iRAIBOjo6Ij5820iGFZYVlEnpnO01kt8pILdao4Z+9ZrTT756RQuOrUvf/xkN1OfWMF/vPUVnoDMtNJcPtyqtpYWzhmLNySLFpSm2XDaJMwmYhyLoVu/8/6PzqQw081tCzcRCMtcMqIvr9w0hjSXlbxUtc12x5QSYXzYP9OF3WIWJoiH8/SJN0z8cOshpg7N5ZEPdhCWFTH5tbSiLmaiSauKzJpYyC1nFPdopyUyMtQIombEp3eaPpK+RWvPxe+XaMoMYFdDF9e8UE6G28bvrxrBvUu2kOm2E4iKsbV9tecfy7nkpzn56x0TjBaUAQMGDHxHOOF/s5pMsWX5SCTSY1s8jrTPI488QmpqqvhTUFDwrZyrBjXjqqaHgNhlsxAMy4LgjBuQETP2DYm1Jsvvm8LDl5bR0OmnutnDnDOLiUQiFGW62d/spdMf4sVZo1lwkyrmrWv39/De0edpFWS4WFZRDxCjw1lWoepvOnwhrhvXn6VRT59mT1D83Junjzbp9eOpg2K8gIqy3HT6Q/z43EFYogv52KIMQnKEl1bFTjRpVZXcFFXPpLXTILGRoXa/NCO+AVlJdPpDOKzSEWMVHrpkWA/vHeCwomA9Gf3T9aextrIZXzDM4Nxk/hqdSNOen+Lodr0+0rmsvP9sirOSDKJjwIABA98RTtjfrnl5qlYhvkLT0NAgqj15eXkEg0FaW1t73ScRHnjgAdrb28Wf/fv3f8tnr1Yk4gXE3mAYm0XCHp1gGpKXAvSc3DGZwGI2k5lkIyQrMSnqC1ZXk5Nip90XYs2eJk4rTOfBd7bRN81JcXYSv31vB2MHZMR47+gDN9t9Khl476uDvH3nRPLTneyq72Tyo59y52ubOdjuI8VpJTvZwfKo8WGO7mf9cRNNeg3OTRaGicsr6hlXnMmD72wjJyrM1hOW2lZfTGtqaUUdnoDM8h0N7KzriHGUhp5Ghhr0Rnyq07SbrbXt9M9wJYxVmHpKLpFIBJvFTHG2W0w/6Y/XWxZVbZuPS55ZxZ8+3UNZfgpZyQ6sknqceFFxJGKiMMPF1gNHdy4GDBgwYOC7wQn7G3bAgAHk5eWxbNkysS0YDLJixQomTpwIwOjRo7FarTH7HDp0iG3btol9EsFut5OSkhLz59uEVrmJb710+rtbP+cPU8lcSFZiqhX5ac6YasvW2nZMJvjF37bx5m0T+M+LS7FbJDKT7MIH5/1tdexv8bGsop7CTBfQ3f6xSiZeuWkMLR41dNQfUqfU7j5nEC67hT0NXTH6myF5yeJcNE8f/c/acfWVouYuddLr9kWbYvZ1WM3i/FbuaiQQkmMIS/z9KUh3iWiJJev3xzwGvbeYAGHEN+o3y3j4nxU4rJLw+QnJsjAyDMkKVotZVJniiUoiUjOmKF0QlZ0Pn8fOh8/nx1MHk+ayide3WVRidu7QHN64dTyf338ORVkuLJKZsn6pR3UuBgwYMGDgu8Fx/S3b1dXFli1b2LJlC6CKkrds2cK+ffswmUzce++9/O53v+Ptt99m27ZtzJ49G5fLxXXXXQdAamoqc+bM4ac//Skff/wxX3zxBTfccAPDhw8X01nHA1prSt96sUomHrpkGJ5AmJCsMLU0l0BYRol0TxHlpzlFtWVPg1ptIQKrdjfx7PWjCMkKv3pnm3id2nbVXG9sUQbD+6Xy3lcHeeCCU2J0QNeM6U9JdhJvrFc1NClOC6GwwsAcNw6LOUZ/k5/m5NcXlRIKK/iCMn3SHATDalim3t9Hb5KopazXd/g55xQ1nFMzTLznnEH4QzJ5KQ7OOSUbu1Xi46/rBWFp6AzEVHr0JomL19XQ4QvFiK+PxncmrER4ZU015//hc66dV67GNOhamolaRZqjsUZUDkdqjiQKPpKo2CoZomIDBgwY+L5xXH/bbty4kdNOO43TTjsNgPvuu4/TTjuNX//61wDcf//93Hvvvdx5552cfvrp1NbWsnTpUpKTu6sPTz75JJdeeilXXXUVkyZNwuVy8e677yJJ33/ic0hWBMnQKhJaJUMlHW5ejkYSlOWnYrdI2C0SlY0eoblx2y3sbfJw1QvluO0SowrTKc5yC1NCf0ghEJbxBsN0+dU22e+vHAGo1RqtTSaZTeSnOXng/FNYVlHPRaf2oSsQxiJJYELocPRJ5G/dMZFgtNrgtEncckYxNosZh1US/j7alFZTl5q4PrIgTbSxrhidj90qCcPEnGQ7DqvEy7PHIJnVj9ppBekxhOW9rw4JsqfXOIXkCI99tLNHXMLhWkwQ6zuz+JZx5KTYsZiP7mNuTDoZMGDAwL8njutv8bPOOotIJNLjz4IFCwBVnPzQQw9x6NAh/H4/K1asoKysLOYYDoeDp59+mubmZrxeL+++++7/b+/ew6Ku0/6Bv+fEMMwMw3E4CIKAJojGeggwEy1SU3ft0TLNUNdyM8vyqX7ttmuLbdtqdbVm7bMeyjw9289DlutaqbSiucohQwoBMQEBEQE5Mxzm9Hn+GL5fZ5jhMDIzBt2v6/K6lpnv6XNfu9+593O4Pw6fcNwf3LyaqW+no16jxbLJpt4Kbujl5Zl34URBNX6s0UBvMMJoVi/mbyd/RLCXDJH+CrhLRPwqqgXjQwDc2g+K25hTKhbBw03M194JVJk2lYxSyyHp+tFPjPDF3ifvgYdUjBP5NxAf4QuluxgSoQASkRBqpTs//4bboPNmayee/UcO/1wBKim/mSRX34dbpfXHf+Zj/28SsXmRqWBheZ2GH77izjt75SYAIEoth1gk4DfZrGxsx2Pbz0Elk2D9r8agtVOPD5dOgJExizlO+74tx9U6DXYsn2gxbNVTwUDzuTDT7zLVq6FEhRBCCP0SOACX6HA1bT7PuYYHuzZ11BkY1h/Jh0omwd6MMiyJHw4DY2jTGdDcrkOHzoA544JRWquB1mBEmllvywPRaov9oABY7Bvlr5CiXqPF9xWNEAoEfG9NZkkdXpwxCmE+pvk7bVrTlhB1Gi2+v9bIn8/Nv+GWiz+99ztcvN6Meo0WbVo9Mq7chEQkRH5lE5JjApBZUofF8cPxjdmwWtI7p/DFD1UI9pJB6S5BU7uOP2/L6RLUa7RobNPh64IalN7UYEZXNebtKZMQ6OmO3IpGVDd3YGSAEmuTRwK41SumMzAs3ZENL5kbDjydaNHDY2uvqbePX0JlQzt0BiO/+zghhBBCyY4DCAUCPLnrVk2bd9OK0KEz8D0SXL2d2tZOxEf4QioWQS4V4au8KriJhEiOVuMXYd5wl4gsChBGqZUW+0EBpiXY9Rotals6sCopAj5yNxzPr7bordmbUYbYYBUuXm9Gm1aP4T4e/PcXK5uh0xstlsSnJIbxCVWEnxw+cjd4uImR3VX0cP/5CswcE4iskjqole6I8r81rFbZ2I6UxDA+iVLJJPx5ta2d8JG7wVchxe5zV/G3k1dgMDJ8sjKeT5QWbDmHme+dwdIdWZCIhdAajHyvGHBr2EokFPS4XUKgyh3zxw/Dujkx8FdKqTeHEEKIBfpVGCBdt94YAGjTGpGyIxsj/OT49JlEDPOWoU2rR4SfHPqupeQn8k01aNIKq1Hd3Am9wXLvp+4FCDlcMvJJVjmmRPkBAMrq2iyOLb3ZCjexENmldfBwE8NbLuG/T44OgEQs5IeLuKrOXEJlfl9uAvSS+DC06wyYP34YAMthNe78zOJ6dHat9OLOi/CTWzzX14U3oDcYcbVOY1WBOaOkHtPfOYU9567yvWL8c5gNW3n1MGylVpqWttMSbkIIId3RL8MASURCvjfGXE55AxZvz0KotwfWzYmBh5sYI/zlEIuEkIiEfA2aXWev4vML1yAWCS2K6Hm4idGpN1jtB8UlI1tOF+NmqxadXSultGa9NfPiTEnJA9GmWkOe7hLo9KaJzVzBPsA0XMQtNecSKu6+5hOgI/3lWLojG0p3idWwGvc8eZVNkHat2OLOU7iLoTMY+TZMvysAbmKhRS+YOb2R4a1jl3ClptVqebmtYatXP8vDyj3nMff9M1BIxRZbLRBCCCEcSnYcwLznxVxOeQMmvJGGQzmmmjExgbfq+ZjXrRF2LY02L6LHTUTuvh+U+YolIxikEhE83IRwM+uteSBaDa3eiOE+Hsgpa8DoICUkYiGEAgE/p6empQMpiWGIH+FrsVS9+wRorucqp7wBH50ptRpW457ncnUL/zc3cTo2yBMSkZBvg/lwWU/6s7zcfJ+rguvNeHdhHG21QAghpEf06zBAnd16Xrrr0Bvxyqd5yCypw12BCuj1Rr43hktaGtt00HYNAXGTc80nIpsX1uOqMs+KDYS/wtRL89z0KP77eXcHI0qthEAAnCioxo7/lOLuEC8Apl4obk6Pr9wNM2ICcN9IP4stK8zvO26YymIzzqZ2HQDL5I57nrL6NuRWmObq+CukyCypwz0Rt5573t3BVhWYe2LP8vJvXplOiQ4hhJBe9W9LZtIjLlHoLeEBTPV23l8UB5FICDHA160RCQW4WqeBm0TEF9jLKKnjCxJG+Mv5z4BbyciqqZE4UVCNKLUCkf4K5JQ1IMRHhiUJwwHcSmzOl9WjuFaDUG8ZPKTirp4k4EqNBiE+MkR2DUPdE+5jdV/uWlxy09KhtxpWM6+C/OE3pdj0mAopiWGm9i6OQ4fOgNyKRqtr9YWbpzNjTABSEsLx/1cmAAA69Qa+Bo7OYIRIKIAIve+VRggh5OeN/u+wA3Tf28qWEwU3UFZ/ayIxV7fmnnAfPmHIKqmz2Pvpix+q4CeXWnxWclOD3IoGjBmmwt6MMjAGpHX14PjK3RAX6sVPFM6+Ws8PCzHc6oXiPtPpTZOiu2+wyfX8xIV6WazaatPqrYbVzKtEnyi4gZutnZg5JhAXK5two6kT7hIR/pFVZnWt/ug+T0dnMFCxP0IIIXajX4sB0hmMFlsa9HwcQ8qObLR16lHb0okZYwL5JKHkpgZZJXUYHeTJb6UQHaTEfz84Cu06Azr0RosJu1klpt6R2tZO3BWoxO5zV3Gi4Aau1GigNZjm8ZhPdq5sbMdfvii0GK6qbGzH5n//iI5u+1UBsLiWeZG/7ntZcbjz1Up3LN6eCa3eiG1LJ2Dd4TwAQINGhxtNnRbXsldZfZvFVguEEEJIf1GyM0ASkdBqS4OeVDa2Y8NXl+Ard0NyjNpiq4Q9GWV4YLQar36WB3+FFIefvRc1LR14+H/Ooq1Tj0h/BT9h93J1Czp0Bn5pt3kPTlvXKqfuO4Zzw2DmiQq367j5flUKqdjqWtw55r045sw36KzTaLHkoyyE+8rxu4eikXetCU8khOHlg99b3d8e94y4vfMIIYQQSnYGSGcwoqVDZ3Mnblv2fVuOktpWaHVGLEkYjtKbpiThbPFNFNdqsHFBLNwlIoiFpiXaP9a04r/+fg6VDe0YqVbim1em4/H44XCXiKBwF1sMDZl26j6L1k7TRGLzxMJWosL11HTfr2qYl4y/VkuH5Wac3XuBTDGwXEFV3dyBGZtOQy4VYUywJx6MCUB5fRtyyhr61Qtmy/LJ4fzWFYQQQog9KNkZIIlIiNcOX+x1qbQ5tdIdQiEgEQsR7isHA4O/Uop/PBWP1w5fRKi3qbfmeP4Nfol2ZWM7Zr73DV48cAFXaloxrmt11TCVzGpoqLKxHb//LA9ag9GqB6Z7omKeANlaATXc1wOvHb6I5Bi1xRCXeS+Q+X3Nz//dQ9H43aE8/PeBXLRr9fh4+ST8I6sMydHqfvWCmQvxlpmKIdIcHUIIIbdBwBhVYmtuboZKpUJTUxM8PT37PqGbyN9/iUBPd3y8fBIi/eU4UVCNvZllyC6th8HIIBIKED/CBymJYXgwOgCdeiOu3tRg7f5c/O3x8Yj0l6O1U9+1rYQAIqEAi7dn8kNP3UX4yfHh0om43tiG+0aprY6ViAQ4/f+mI8DTHVPfTueTJolIgKNr7oPeaMRj2zLR2qnHnLFB2LwoDknvnEJlYzvEQgG/Aiox0hcAoNUbUHqzDQu2nENrp57fIb1O04nf7PnOom6OrfM79QYIBQKU1GogFgnQoTPw9++LQirGoWcm0/JyQgghVvr7+03JDgaW7HTqDLjrtWMAbP/Qt2sNkHWtvMoorkP+9SYsnxxulVwsTQjHhHBv5F1rwvgwb0T+/steVy5xScoP15pwo7kDq812KweAMB8PHFs7FWX1GjyyJYNPLLonKjUtHVYJECfCT45ItQIhXjKseWAkqpra+eRmmJesz+TumWmRmBzpBwYGsVAIncEIocCU7JTVabCyW6LUHXcPSnQIIYTYQsmOHRzRs9M9MeESBbmbGBqtHsU1rSi5qcG+3ySgXqO1Sk4i/OQ4+fI0/M/JK/j1lHDE/PF4r/fkemk83EQIUrnzyZO58cO98cnKeJTVtWHFrm/577snKl9drMIfZsfY7KnhmJ/zdWENdmdcRU5ZAx6IVlv14pjXwbGVpHBzb4QCAdIKqrE746pVorRscjiSowNgZIwSHUIIITZRsmOHgSY7vQ05meMSGlvHz4gJwPalE7Fq73fYmjKhz54d4FYvjcJdjLI6jc2hoeE+MnyyMgFBKplFYiEAMCs2EKuSIhE7TAXANFwlEgp7TECWTw7HA9EBMBiNcOtKaMyTG73BCLGdiYl5QtSfRIkQQgjh9Pf3myooDxBXZ6c/yQ63aaatKsLd95jiKhr3hpsUvGfFPRgVoMSnqxLx5O7zFj0z5fXtmPbOKcwYE4CV90X0WIlYIhLyCcwD0WrMig20eZxIKIBIeKvejXmRP3sTHcCyMCAVDCSEEOIM9IsyQPbU2THfxLM78z2mbNWy6Qm3Uuv1f+Uj2EuGb16Zjq1PTLDYS4oBaGzToaalEwYjg95g7DWxoASEEELIUEI9Ow5gZAwfL5/Er1bqCZfQ2NpLy7w68d6MMmxeFMfXu+mL3sjwv5nlOPPjTZx8aVqfPTOgvaQIIYT8jND/VXcAiUiICH85Dj0zudcenp62WwCs95iyVcumNwqpGNtTJlpN6KWeGUIIIT939OvnIFzCY2sYSSQUYHKkL3770Ohe99Iy32Oqe0Xj3nATlWmJNiGEEGKNVmNh4KuxuutrhZHByCyK/XG6F/1TyST9KlQ4IyYQBiODm5gSHUIIIT8ftPTcDo5OdvqiMxhRUquxOcene9G/6uaOXgsVNrfr4OEmuq2VUIQQQshgRsmOHVyd7AC3Eh7zYn+cnqoTh/l4YGSAAuNCvJAY6Yu7Q7yo6B4hhJCfLUp27HAnkh0A/PYJtor4TY7wxUszR2FMkAoSMRXdI4QQQrqjooKDAJes9LZUnFZWEUIIIQNDv5g/AZTQEEIIIc5Dv6aEEEIIGdIo2SGEEELIkEbJDiGEEEKGNEp2CCGEEDKkUbJDCCGEkCGNkh1CCCGEDGlUZwcAV1exubn5Dj8JIYQQQvqL+93uqz4yJTsAWlpaAAChoaF3+EkIIYQQYq+WlhaoVKoev6ftIgAYjUZcv34dSqUSAoFgwNdrbm5GaGgoKioqXLr9xGBF8bIPxcs+FC/7ULzsQ/Gyj6PjxRhDS0sLgoODIRT2PDOHenYACIVChISEOPy6np6e9F9+O1C87EPxsg/Fyz4UL/tQvOzjyHj11qPDoQnKhBBCCBnSKNkhhBBCyJBGyY4TSKVSpKamQiqV3ulHGRQoXvaheNmH4mUfipd9KF72uVPxognKhBBCCBnSqGeHEEIIIUMaJTuEEEIIGdIo2SGEEELIkEbJDiGEEEKGNEp2bNiwYQMmTZoEpVIJtVqNhx9+GEVFRRbHMMawfv16BAcHQyaTYdq0acjPz7c4prOzE2vWrIGfnx/kcjl+9atf4dq1axbHNDQ0ICUlBSqVCiqVCikpKWhsbHR2Ex3KlfEyPzYuLg4CgQC5ubnOappTuDJely9fxrx58+Dn5wdPT0/ce++9SE9Pd3obHclR8dq+fTumTZsGT09PCAQCq/+dXb16FU8++SRGjBgBmUyGyMhIpKamQqvVOruJDuWqeHG++OILxMfHQyaTwc/PD/Pnz3dW05zCEfGqr6/HmjVrcNddd8HDwwPDhw/H888/j6amJovr0PvepL/x4jjkfc+IlZkzZ7KdO3eyixcvstzcXDZnzhw2fPhw1trayh+zceNGplQq2aFDh1heXh577LHHWFBQEGtubuaPWbVqFRs2bBhLS0tjOTk5bPr06ezuu+9mer2eP2bWrFksNjaWnTt3jp07d47FxsayuXPnurS9A+XKeHGef/559tBDDzEA7MKFC65opsO4Ml5RUVFs9uzZ7Pvvv2eXL19mq1evZh4eHqyqqsqlbR4IR8Vr06ZNbMOGDWzDhg0MAGtoaLC4z1dffcWWL1/Ojh8/zoqLi9k///lPplar2UsvveSqpjqEq+LFGGOffvop8/b2Zlu2bGFFRUXs0qVL7ODBg65opsM4Il55eXls/vz57MiRI+zKlSvs3//+Nxs5ciRbsGCBxb3ofW9fvDiOeN9TstMPNTU1DAA7ffo0Y4wxo9HIAgMD2caNG/ljOjo6mEqlYlu3bmWMMdbY2MgkEgnbt28ff0xlZSUTCoXs2LFjjDHGCgoKGACWmZnJH5ORkcEAsEuXLrmiaU7hrHhxvvzySzZ69GiWn58/KJOd7pwVr9raWgaAffPNN/wxzc3NDAD7+uuvXdE0p7ideJlLT0/v8ce7u7fffpuNGDHCYc9+JzgrXjqdjg0bNox99NFHTn1+VxtovDgHDhxgbm5uTKfTMcbofW9vvDiOet/TMFY/cF1rPj4+AIDS0lLcuHEDM2bM4I+RSqVISkrCuXPnAADfffcddDqdxTHBwcGIjY3lj8nIyIBKpUJ8fDx/TEJCAlQqFX/MYOSseAFAdXU1Vq5cib1798LDw8MVzXE6Z8XL19cX0dHR2LNnDzQaDfR6PbZt24aAgABMmDDBVc1zuNuJ10Duxd1nsHJWvHJyclBZWQmhUIhf/OIXCAoKwkMPPWQ1HDbYOCpeTU1N8PT0hFhs2oKS3vf2xQtw7Puekp0+MMbw4osvYsqUKYiNjQUA3LhxAwAQEBBgcWxAQAD/3Y0bN+Dm5gZvb+9ej1Gr1Vb3VKvV/DGDjTPjxRjD8uXLsWrVKkycONHZTXEJZ8ZLIBAgLS0NFy5cgFKphLu7OzZt2oRjx47By8vLyS1zjtuN1+0oLi7GBx98gFWrVt3+A99hzoxXSUkJAGD9+vVYt24djh49Cm9vbyQlJaG+vt5BLXAtR8Wrrq4Ob7zxBp5++mn+M3rf2xcvR7/vadfzPjz33HP44Ycf8J///MfqO4FAYPE3Y8zqs+66H2Pr+P5c56fKmfH64IMP0NzcjFdffdVxD3yHOTNejDGsXr0aarUaZ86cgUwmw0cffYS5c+fi22+/RVBQkOMa4iKOjldPrl+/jlmzZuHRRx/FU089dVvX+ClwZryMRiMA4A9/+AMWLFgAANi5cydCQkJw8OBBix+uwcIR8WpubsacOXMQExOD1NTUXq/R23UGA2fGy9Hve+rZ6cWaNWtw5MgRpKenIyQkhP88MDAQAKyy1JqaGj6bDQwMhFarRUNDQ6/HVFdXW923trbWKiseDJwdr5MnTyIzMxNSqRRisRhRUVEAgIkTJ2LZsmVOa5ezuCJeR48exb59+3Dvvfdi/Pjx+Pvf/w6ZTIbdu3c7s2lOMZB42eP69euYPn06EhMTsX379oE99B3k7HhxyXJMTAz/mVQqRUREBMrLywfy6HeEI+LV0tKCWbNmQaFQ4PPPP4dEIrG4Dr3v+x8vh7/vb2umzxBnNBrZs88+y4KDg9nly5dtfh8YGMjeeust/rPOzk6bE0j379/PH3P9+nWbE5SzsrL4YzIzMwfdhDVXxausrIzl5eXx/44fP84AsE8//ZRVVFQ4uZWO46p4HTlyhAmFQtbS0mJx/VGjRrE333zTGU1zCkfEy1xvE5SvXbvGRo4cyRYtWmRzFeBg4Kp4NTU1MalUajFBWavVMrVazbZt2+a4BjmZo+LV1NTEEhISWFJSEtNoNFbXofe9ffFy9Puekh0bnnnmGaZSqdipU6dYVVUV/6+trY0/ZuPGjUylUrHPPvuM5eXlscWLF9tcGhwSEsK+/vprlpOTw+6//36bS8/HjRvHMjIyWEZGBhs7duygW4royniZKy0tHZSrsVwVr9raWubr68vmz5/PcnNzWVFREXv55ZeZRCJhubm5Lm/37XJUvKqqqtiFCxfYhx9+yK9Su3DhAqurq2OMmVazRUVFsfvvv59du3bN4l6DiavixRhjL7zwAhs2bBg7fvw4u3TpEnvyySeZWq1m9fX1Lm3zQDgiXs3NzSw+Pp6NHTuWXblyxeI69L6//XiZG+j7npIdGwDY/Ldz507+GKPRyFJTU1lgYCCTSqVs6tSpLC8vz+I67e3t7LnnnmM+Pj5MJpOxuXPnsvLycotj6urq2JIlS5hSqWRKpZItWbKkX0tif0pcGS9zgzXZcWW8vv32WzZjxgzm4+PDlEolS0hIYF9++aUrmukwjopXampqr9fZuXNnj/caTFwVL8ZMPTkvvfQSU6vVTKlUsuTkZHbx4kUXtdQxHBEvrvfL1r/S0lL+OHrfm/Q3XuYG+r4XdD08IYQQQsiQRBOUCSGEEDKkUbJDCCGEkCGNkh1CCCGEDGmU7BBCCCFkSKNkhxBCCCFDGiU7hBBCCBnSKNkhhBBCyJBGyQ4hxCWmTZuGtWvX3unHcKnubQ4PD8d77713x56HkJ8rSnYIIXZZvnw5BAIBBAIBJBIJIiIi8PLLL0Oj0fR63meffYY33njDRU/pfLaSt82bN0MqleKTTz4BMPTaTMhgJb7TD0AIGXxmzZqFnTt3QqfT4cyZM3jqqaeg0WiwZcsWq2N1Oh0kEgl8fHzuwJMOHPf8fUlNTcU777yDzz//HLNnzwaAQdtmQoYa6tkhhNhNKpUiMDAQoaGhePzxx7FkyRIcPnwYALB+/XrExcXh448/RkREBKRSKRhjVj0hnZ2deOWVVxAaGgqpVIqRI0dix44d/PcFBQWYPXs2FAoFAgICkJKSgps3b/b4TLt27YKXlxcOHz6MUaNGwd3dHQ8++CAqKiosjvvXv/6FCRMmwN3dHREREXj99deh1+v57wUCAbZu3Yp58+ZBLpfjz3/+c6+xYIxhzZo12Lx5M06cOMEnOkDfQ3fl5eWYN28eFAoFPD09sXDhQlRXV/d6P0KI/SjZIYQMmEwmg06n4/++cuUKDhw4gEOHDiE3N9fmOUuXLsW+ffvw/vvvo7CwEFu3boVCoQAAVFVVISkpCXFxcTh//jyOHTuG6upqLFy4sNfnaGtrw5tvvondu3fj7NmzaG5uxqJFi/jvjx8/jieeeALPP/88CgoKsG3bNuzatQtvvvmmxXVSU1Mxb9485OXlYcWKFT3eT6/XIyUlBQcPHsTp06cxZcqUvkLFY4zh4YcfRn19PU6fPo20tDQUFxfjscce6/c1CCH9dFvbhxJCfraWLVvG5s2bx/+dlZXFfH192cKFCxljpt2yJRIJq6mpsTgvKSmJvfDCC4wxxoqKihgAlpaWZvMer732GpsxY4bFZxUVFQwAKyoqsnkOt2t5ZmYm/1lhYSEDwLKyshhjjN13333sL3/5i8V5e/fuZUFBQfzfANjatWt7icCt9ri5uTE3NzdWWFjY4zFcmxljLCwsjG3atIkxxtiJEyeYSCSy2Kk+Pz+fAWDZ2dl93p8Q0n/Us0MIsdvRo0ehUCjg7u6OxMRETJ06FR988AH/fVhYGPz9/Xs8Pzc3FyKRCElJSTa//+6775Ceng6FQsH/Gz16NACguLi4x+uKxWJMnDiR/3v06NHw8vJCYWEhf90//elPFtdduXIlqqqq0NbWxp9nfo3eTJkyBQqFAuvWrbMYCuuPwsJChIaGIjQ0lP8sJibG4nkJIY5BE5QJIXabPn06tmzZAolEguDgYKsJvHK5vNfzZTJZr98bjUb88pe/xFtvvWX1XVBQUK/nCgSCHj8zGo14/fXXMX/+fKtj3N3d+f/c1/Nzxo4di3fffRfJyclYuHAh9u/f36/JzIBpGMvWs/b0OSHk9lGyQwixm1wuR1RU1G2fP3bsWBiNRpw+fRrJyclW348fPx6HDh1CeHg4xOL+v6b0ej3Onz+Pe+65BwBQVFSExsZGvldo/PjxKCoqGtCzdxcXF4eTJ08iOTkZjz76KA4ePNivhCcmJgbl5eWoqKjge3cKCgrQ1NSE6Ohohz0fIYQmKBNC7oDw8HAsW7YMK1aswOHDh1FaWopTp07hwIEDAIBnn30W9fX1WLx4MbKzs1FSUoITJ05gxYoVMBgMPV5XIpFgzZo1yMrKQk5ODn79618jISGBT37++Mc/Ys+ePVi/fj3y8/NRWFiI/fv3Y926dQNqz7hx45Ceno6MjAw88sgj0Gq1fZ6TnJyMcePGYcmSJcjJyUF2djaWLl2KpKSkfg+jEUL6h5IdQsgdsWXLFjzyyCNYvXo1Ro8ejZUrV/KFCYODg3H27FkYDAbMnDkTsbGxeOGFF6BSqSAU9vza8vDwwG9/+1s8/vjjSExMhEwmw759+/jvZ86ciaNHjyItLQ2TJk1CQkIC/vrXvyIsLGzA7RkzZgzS09ORnZ2NBQsW9JnwCAQCHD58GN7e3pg6dSqSk5MRERGB/fv3D/hZCCGWBIwxdqcfghBCBmrXrl1Yu3YtGhsb7/SjEEJ+YqhnhxBCCCFDGiU7hBBCCBnSaBiLEEIIIUMa9ewQQgghZEijZIcQQgghQxolO4QQQggZ0ijZIYQQQsiQRskOIYQQQoY0SnYIIYQQMqRRskMIIYSQIY2SHUIIIYQMaZTsEEIIIWRI+z9+5yCVYPSabQAAAABJRU5ErkJggg==",
>>>>>>> fb681e7556e9a04bfc8e077a23870755307ab983
      "text/plain": [
       "<Figure size 640x480 with 1 Axes>"
      ]
     },
     "metadata": {},
     "output_type": "display_data"
    }
   ],
   "source": [
    "# @title Pork Data\n",
    "\n",
    "# Filter rows where commodity is pork\n",
    "pork = data[(data['commodity'] == 'Meat (pork)')].copy()\n",
    "\n",
    "# Add a 'day' column with the constant value 15\n",
    "pork['day'] = 15\n",
    "\n",
    "# Create the 'date' column\n",
    "pork['date'] = pd.to_datetime(pork[['year', 'month', 'day']])\n",
    "\n",
    "# Create the scatter plot\n",
    "sns.scatterplot(x=pork['date'], y=pork['price'], s=140)\n",
    "\n",
    "plt.xlabel('Price per Kilo')\n",
    "plt.ylabel('Date')\n",
    "plt.title('Price of Meat (pork) Over Time')\n",
    "plt.show()"
   ]
  },
  {
   "cell_type": "markdown",
   "id": "92ea3d1d",
   "metadata": {},
   "source": [
    "Let us perform regression on the dataset to test!"
   ]
  },
  {
   "cell_type": "code",
<<<<<<< HEAD
   "execution_count": 83,
=======
   "execution_count": 268,
>>>>>>> fb681e7556e9a04bfc8e077a23870755307ab983
   "id": "eebfaca1",
   "metadata": {},
   "outputs": [
    {
     "data": {
      "text/html": [
       "<div>\n",
       "<style scoped>\n",
       "    .dataframe tbody tr th:only-of-type {\n",
       "        vertical-align: middle;\n",
       "    }\n",
       "\n",
       "    .dataframe tbody tr th {\n",
       "        vertical-align: top;\n",
       "    }\n",
       "\n",
       "    .dataframe thead th {\n",
       "        text-align: right;\n",
       "    }\n",
       "</style>\n",
       "<table border=\"1\" class=\"dataframe\">\n",
       "  <thead>\n",
       "    <tr style=\"text-align: right;\">\n",
       "      <th></th>\n",
       "      <th>price</th>\n",
       "      <th>region</th>\n",
       "      <th>year</th>\n",
       "      <th>month</th>\n",
       "      <th>priceflag_actual</th>\n",
       "      <th>priceflag_aggregate</th>\n",
       "      <th>pricetype_Farm Gate</th>\n",
       "      <th>pricetype_Retail</th>\n",
       "      <th>pricetype_Wholesale</th>\n",
       "      <th>day</th>\n",
       "    </tr>\n",
       "  </thead>\n",
       "  <tbody>\n",
       "    <tr>\n",
       "      <th>33</th>\n",
       "      <td>77.00</td>\n",
       "      <td>5</td>\n",
       "      <td>2000</td>\n",
       "      <td>2</td>\n",
       "      <td>True</td>\n",
       "      <td>False</td>\n",
       "      <td>False</td>\n",
       "      <td>True</td>\n",
       "      <td>False</td>\n",
       "      <td>15</td>\n",
       "    </tr>\n",
       "    <tr>\n",
       "      <th>48</th>\n",
       "      <td>86.29</td>\n",
       "      <td>14</td>\n",
       "      <td>2000</td>\n",
       "      <td>2</td>\n",
       "      <td>True</td>\n",
       "      <td>False</td>\n",
       "      <td>False</td>\n",
       "      <td>True</td>\n",
       "      <td>False</td>\n",
       "      <td>15</td>\n",
       "    </tr>\n",
       "    <tr>\n",
       "      <th>80</th>\n",
       "      <td>108.71</td>\n",
       "      <td>2</td>\n",
       "      <td>2000</td>\n",
       "      <td>4</td>\n",
       "      <td>True</td>\n",
       "      <td>False</td>\n",
       "      <td>False</td>\n",
       "      <td>True</td>\n",
       "      <td>False</td>\n",
       "      <td>15</td>\n",
       "    </tr>\n",
       "    <tr>\n",
       "      <th>105</th>\n",
       "      <td>97.14</td>\n",
       "      <td>5</td>\n",
       "      <td>2000</td>\n",
       "      <td>5</td>\n",
       "      <td>True</td>\n",
       "      <td>False</td>\n",
       "      <td>False</td>\n",
       "      <td>True</td>\n",
       "      <td>False</td>\n",
       "      <td>15</td>\n",
       "    </tr>\n",
       "    <tr>\n",
       "      <th>114</th>\n",
       "      <td>97.64</td>\n",
       "      <td>11</td>\n",
       "      <td>2000</td>\n",
       "      <td>5</td>\n",
       "      <td>True</td>\n",
       "      <td>False</td>\n",
       "      <td>False</td>\n",
       "      <td>True</td>\n",
       "      <td>False</td>\n",
       "      <td>15</td>\n",
       "    </tr>\n",
       "    <tr>\n",
       "      <th>...</th>\n",
       "      <td>...</td>\n",
       "      <td>...</td>\n",
       "      <td>...</td>\n",
       "      <td>...</td>\n",
       "      <td>...</td>\n",
       "      <td>...</td>\n",
       "      <td>...</td>\n",
       "      <td>...</td>\n",
       "      <td>...</td>\n",
       "      <td>...</td>\n",
       "    </tr>\n",
       "    <tr>\n",
       "      <th>121169</th>\n",
       "      <td>306.33</td>\n",
       "      <td>4</td>\n",
       "      <td>2021</td>\n",
       "      <td>2</td>\n",
       "      <td>False</td>\n",
       "      <td>True</td>\n",
       "      <td>False</td>\n",
       "      <td>True</td>\n",
       "      <td>False</td>\n",
       "      <td>15</td>\n",
       "    </tr>\n",
       "    <tr>\n",
       "      <th>121198</th>\n",
       "      <td>392.00</td>\n",
       "      <td>5</td>\n",
       "      <td>2021</td>\n",
       "      <td>2</td>\n",
       "      <td>False</td>\n",
       "      <td>True</td>\n",
       "      <td>False</td>\n",
       "      <td>True</td>\n",
       "      <td>False</td>\n",
       "      <td>15</td>\n",
       "    </tr>\n",
       "    <tr>\n",
       "      <th>121224</th>\n",
       "      <td>400.00</td>\n",
       "      <td>6</td>\n",
       "      <td>2021</td>\n",
       "      <td>2</td>\n",
       "      <td>False</td>\n",
       "      <td>True</td>\n",
       "      <td>False</td>\n",
       "      <td>True</td>\n",
       "      <td>False</td>\n",
       "      <td>15</td>\n",
       "    </tr>\n",
       "    <tr>\n",
       "      <th>121366</th>\n",
       "      <td>242.33</td>\n",
       "      <td>11</td>\n",
       "      <td>2021</td>\n",
       "      <td>2</td>\n",
       "      <td>False</td>\n",
       "      <td>True</td>\n",
       "      <td>False</td>\n",
       "      <td>True</td>\n",
       "      <td>False</td>\n",
       "      <td>15</td>\n",
       "    </tr>\n",
       "    <tr>\n",
       "      <th>121492</th>\n",
       "      <td>320.67</td>\n",
       "      <td>16</td>\n",
       "      <td>2021</td>\n",
       "      <td>2</td>\n",
       "      <td>False</td>\n",
       "      <td>True</td>\n",
       "      <td>False</td>\n",
       "      <td>True</td>\n",
       "      <td>False</td>\n",
       "      <td>15</td>\n",
       "    </tr>\n",
       "  </tbody>\n",
       "</table>\n",
       "<p>1980 rows × 10 columns</p>\n",
       "</div>"
      ],
      "text/plain": [
       "         price  region  year  month  priceflag_actual  priceflag_aggregate  \\\n",
       "33       77.00       5  2000      2              True                False   \n",
       "48       86.29      14  2000      2              True                False   \n",
       "80      108.71       2  2000      4              True                False   \n",
       "105      97.14       5  2000      5              True                False   \n",
       "114      97.64      11  2000      5              True                False   \n",
       "...        ...     ...   ...    ...               ...                  ...   \n",
       "121169  306.33       4  2021      2             False                 True   \n",
       "121198  392.00       5  2021      2             False                 True   \n",
       "121224  400.00       6  2021      2             False                 True   \n",
       "121366  242.33      11  2021      2             False                 True   \n",
       "121492  320.67      16  2021      2             False                 True   \n",
       "\n",
       "        pricetype_Farm Gate  pricetype_Retail  pricetype_Wholesale  day  \n",
       "33                    False              True                False   15  \n",
       "48                    False              True                False   15  \n",
       "80                    False              True                False   15  \n",
       "105                   False              True                False   15  \n",
       "114                   False              True                False   15  \n",
       "...                     ...               ...                  ...  ...  \n",
       "121169                False              True                False   15  \n",
       "121198                False              True                False   15  \n",
       "121224                False              True                False   15  \n",
       "121366                False              True                False   15  \n",
       "121492                False              True                False   15  \n",
       "\n",
       "[1980 rows x 10 columns]"
      ]
     },
<<<<<<< HEAD
     "execution_count": 83,
=======
     "execution_count": 268,
>>>>>>> fb681e7556e9a04bfc8e077a23870755307ab983
     "metadata": {},
     "output_type": "execute_result"
    }
   ],
   "source": [
    "pork.drop(['commodity', 'date'], axis=1, inplace=True)\n",
    "pork"
   ]
  },
  {
   "cell_type": "code",
<<<<<<< HEAD
   "execution_count": 84,
=======
   "execution_count": 269,
>>>>>>> fb681e7556e9a04bfc8e077a23870755307ab983
   "id": "18369124",
   "metadata": {},
   "outputs": [
    {
     "data": {
      "text/html": [
       "<div>\n",
       "<style scoped>\n",
       "    .dataframe tbody tr th:only-of-type {\n",
       "        vertical-align: middle;\n",
       "    }\n",
       "\n",
       "    .dataframe tbody tr th {\n",
       "        vertical-align: top;\n",
       "    }\n",
       "\n",
       "    .dataframe thead th {\n",
       "        text-align: right;\n",
       "    }\n",
       "</style>\n",
       "<table border=\"1\" class=\"dataframe\">\n",
       "  <thead>\n",
       "    <tr style=\"text-align: right;\">\n",
       "      <th></th>\n",
       "      <th>Actual</th>\n",
       "      <th>Predicted</th>\n",
       "    </tr>\n",
       "  </thead>\n",
       "  <tbody>\n",
       "    <tr>\n",
       "      <th>0</th>\n",
       "      <td>260.86</td>\n",
       "      <td>282.494522</td>\n",
       "    </tr>\n",
       "    <tr>\n",
       "      <th>1</th>\n",
       "      <td>340.00</td>\n",
       "      <td>293.167281</td>\n",
       "    </tr>\n",
       "    <tr>\n",
       "      <th>2</th>\n",
       "      <td>215.79</td>\n",
       "      <td>232.597299</td>\n",
       "    </tr>\n",
       "    <tr>\n",
       "      <th>3</th>\n",
       "      <td>95.11</td>\n",
       "      <td>90.361325</td>\n",
       "    </tr>\n",
       "    <tr>\n",
       "      <th>4</th>\n",
       "      <td>183.28</td>\n",
       "      <td>176.604377</td>\n",
       "    </tr>\n",
       "    <tr>\n",
       "      <th>...</th>\n",
       "      <td>...</td>\n",
       "      <td>...</td>\n",
       "    </tr>\n",
       "    <tr>\n",
       "      <th>589</th>\n",
       "      <td>310.00</td>\n",
       "      <td>284.514146</td>\n",
       "    </tr>\n",
       "    <tr>\n",
       "      <th>590</th>\n",
       "      <td>181.82</td>\n",
       "      <td>190.153813</td>\n",
       "    </tr>\n",
       "    <tr>\n",
       "      <th>591</th>\n",
       "      <td>336.25</td>\n",
       "      <td>294.999286</td>\n",
       "    </tr>\n",
       "    <tr>\n",
       "      <th>592</th>\n",
       "      <td>180.80</td>\n",
       "      <td>260.450594</td>\n",
       "    </tr>\n",
       "    <tr>\n",
       "      <th>593</th>\n",
       "      <td>212.48</td>\n",
       "      <td>239.608021</td>\n",
       "    </tr>\n",
       "  </tbody>\n",
       "</table>\n",
       "<p>594 rows × 2 columns</p>\n",
       "</div>"
      ],
      "text/plain": [
       "     Actual   Predicted\n",
       "0    260.86  282.494522\n",
       "1    340.00  293.167281\n",
       "2    215.79  232.597299\n",
       "3     95.11   90.361325\n",
       "4    183.28  176.604377\n",
       "..      ...         ...\n",
       "589  310.00  284.514146\n",
       "590  181.82  190.153813\n",
       "591  336.25  294.999286\n",
       "592  180.80  260.450594\n",
       "593  212.48  239.608021\n",
       "\n",
       "[594 rows x 2 columns]"
      ]
     },
     "metadata": {},
     "output_type": "display_data"
    },
    {
     "name": "stdout",
     "output_type": "stream",
     "text": [
<<<<<<< HEAD
      "MAE: 30.379895836898655\n",
      "MSE: 1411.27075371834\n",
      "RMSE: 37.56688373712065\n",
      "r2: 0.7587449139097634\n"
=======
      "MAE: 30.379895836898875\n",
      "MSE: 1411.2707537183496\n",
      "RMSE: 37.566883737120776\n",
      "r2: 0.7587449139097617\n"
>>>>>>> fb681e7556e9a04bfc8e077a23870755307ab983
     ]
    }
   ],
   "source": [
    "# Split\n",
    "X = pork.drop(['price'], axis=1).values\n",
    "y = pork['price'].values\n",
    "X_train, X_test, y_train, y_test = train_test_split(X, y, test_size=0.30, random_state=1)\n",
    "\n",
    "# Train\n",
    "regressor = LinearRegression()\n",
    "regressor.fit(X_train, y_train)\n",
    "\n",
    "# Predict\n",
    "y_pred = regressor.predict(X_test)\n",
    "comparison_df = pd.DataFrame({\"Actual\":y_test,\"Predicted\":y_pred})\n",
    "\n",
    "mse = mean_squared_error(y_test, y_pred)\n",
    "\n",
    "display(comparison_df)\n",
    "print('MAE:', mean_absolute_error(y_test,y_pred))\n",
    "print('MSE:', mse)\n",
    "print(\"RMSE:\",np.sqrt(mse))\n",
    "print(\"r2:\", r2_score(y_test,y_pred))"
   ]
  },
  {
   "cell_type": "markdown",
   "id": "fa35c4e2",
   "metadata": {},
   "source": [
    "Great, it seems that linear regression was effective for pork. Let's try it for the whole dataset."
   ]
  },
  {
   "cell_type": "markdown",
   "id": "4b610437",
   "metadata": {},
   "source": [
    "# Model Training"
   ]
  },
  {
   "cell_type": "code",
<<<<<<< HEAD
   "execution_count": 85,
=======
   "execution_count": 270,
>>>>>>> fb681e7556e9a04bfc8e077a23870755307ab983
   "id": "50598ae2",
   "metadata": {},
   "outputs": [
    {
     "data": {
      "text/html": [
       "<div>\n",
       "<style scoped>\n",
       "    .dataframe tbody tr th:only-of-type {\n",
       "        vertical-align: middle;\n",
       "    }\n",
       "\n",
       "    .dataframe tbody tr th {\n",
       "        vertical-align: top;\n",
       "    }\n",
       "\n",
       "    .dataframe thead th {\n",
       "        text-align: right;\n",
       "    }\n",
       "</style>\n",
       "<table border=\"1\" class=\"dataframe\">\n",
       "  <thead>\n",
       "    <tr style=\"text-align: right;\">\n",
       "      <th></th>\n",
       "      <th>Actual</th>\n",
       "      <th>Predicted</th>\n",
       "    </tr>\n",
       "  </thead>\n",
       "  <tbody>\n",
       "    <tr>\n",
       "      <th>0</th>\n",
       "      <td>83.18</td>\n",
<<<<<<< HEAD
       "      <td>79.531250</td>\n",
=======
       "      <td>79.556641</td>\n",
>>>>>>> fb681e7556e9a04bfc8e077a23870755307ab983
       "    </tr>\n",
       "    <tr>\n",
       "      <th>1</th>\n",
       "      <td>35.00</td>\n",
<<<<<<< HEAD
       "      <td>28.441406</td>\n",
=======
       "      <td>28.458984</td>\n",
>>>>>>> fb681e7556e9a04bfc8e077a23870755307ab983
       "    </tr>\n",
       "    <tr>\n",
       "      <th>2</th>\n",
       "      <td>29.89</td>\n",
<<<<<<< HEAD
       "      <td>30.480469</td>\n",
=======
       "      <td>30.492188</td>\n",
>>>>>>> fb681e7556e9a04bfc8e077a23870755307ab983
       "    </tr>\n",
       "    <tr>\n",
       "      <th>3</th>\n",
       "      <td>93.87</td>\n",
<<<<<<< HEAD
       "      <td>88.558594</td>\n",
=======
       "      <td>88.591797</td>\n",
>>>>>>> fb681e7556e9a04bfc8e077a23870755307ab983
       "    </tr>\n",
       "    <tr>\n",
       "      <th>4</th>\n",
       "      <td>48.92</td>\n",
<<<<<<< HEAD
       "      <td>61.773438</td>\n",
=======
       "      <td>61.775391</td>\n",
>>>>>>> fb681e7556e9a04bfc8e077a23870755307ab983
       "    </tr>\n",
       "    <tr>\n",
       "      <th>...</th>\n",
       "      <td>...</td>\n",
       "      <td>...</td>\n",
       "    </tr>\n",
       "    <tr>\n",
       "      <th>36449</th>\n",
       "      <td>200.00</td>\n",
<<<<<<< HEAD
       "      <td>134.046875</td>\n",
=======
       "      <td>134.056641</td>\n",
>>>>>>> fb681e7556e9a04bfc8e077a23870755307ab983
       "    </tr>\n",
       "    <tr>\n",
       "      <th>36450</th>\n",
       "      <td>195.00</td>\n",
<<<<<<< HEAD
       "      <td>186.199219</td>\n",
=======
       "      <td>186.232422</td>\n",
>>>>>>> fb681e7556e9a04bfc8e077a23870755307ab983
       "    </tr>\n",
       "    <tr>\n",
       "      <th>36451</th>\n",
       "      <td>226.25</td>\n",
<<<<<<< HEAD
       "      <td>270.455078</td>\n",
=======
       "      <td>270.449219</td>\n",
>>>>>>> fb681e7556e9a04bfc8e077a23870755307ab983
       "    </tr>\n",
       "    <tr>\n",
       "      <th>36452</th>\n",
       "      <td>208.75</td>\n",
<<<<<<< HEAD
       "      <td>142.533203</td>\n",
=======
       "      <td>142.531250</td>\n",
>>>>>>> fb681e7556e9a04bfc8e077a23870755307ab983
       "    </tr>\n",
       "    <tr>\n",
       "      <th>36453</th>\n",
       "      <td>15.00</td>\n",
<<<<<<< HEAD
       "      <td>-23.531250</td>\n",
=======
       "      <td>-23.609375</td>\n",
>>>>>>> fb681e7556e9a04bfc8e077a23870755307ab983
       "    </tr>\n",
       "  </tbody>\n",
       "</table>\n",
       "<p>36454 rows × 2 columns</p>\n",
       "</div>"
      ],
      "text/plain": [
       "       Actual   Predicted\n",
<<<<<<< HEAD
       "0       83.18   79.531250\n",
       "1       35.00   28.441406\n",
       "2       29.89   30.480469\n",
       "3       93.87   88.558594\n",
       "4       48.92   61.773438\n",
       "...       ...         ...\n",
       "36449  200.00  134.046875\n",
       "36450  195.00  186.199219\n",
       "36451  226.25  270.455078\n",
       "36452  208.75  142.533203\n",
       "36453   15.00  -23.531250\n",
=======
       "0       83.18   79.556641\n",
       "1       35.00   28.458984\n",
       "2       29.89   30.492188\n",
       "3       93.87   88.591797\n",
       "4       48.92   61.775391\n",
       "...       ...         ...\n",
       "36449  200.00  134.056641\n",
       "36450  195.00  186.232422\n",
       "36451  226.25  270.449219\n",
       "36452  208.75  142.531250\n",
       "36453   15.00  -23.609375\n",
>>>>>>> fb681e7556e9a04bfc8e077a23870755307ab983
       "\n",
       "[36454 rows x 2 columns]"
      ]
     },
     "metadata": {},
     "output_type": "display_data"
    },
    {
     "name": "stdout",
     "output_type": "stream",
     "text": [
<<<<<<< HEAD
      "MAE: 23.86030111150354\n",
      "MSE: 1590.3111584183046\n",
      "RMSE: 39.87870557601268\n",
      "r2: 0.8715033443013612\n"
=======
      "MAE: 23.859940916548936\n",
      "MSE: 1590.3221369468124\n",
      "RMSE: 39.87884322478289\n",
      "r2: 0.8715024572396122\n"
>>>>>>> fb681e7556e9a04bfc8e077a23870755307ab983
     ]
    }
   ],
   "source": [
    "# Split\n",
    "X = data_encoded.drop(['price'], axis=1).values\n",
    "y = data_encoded['price'].values\n",
    "X_train, X_test, y_train, y_test = train_test_split(X, y, test_size=0.30, random_state=1)\n",
    "\n",
    "# Train\n",
    "regressor = LinearRegression()\n",
    "regressor.fit(X_train, y_train)\n",
    "\n",
    "# Predict\n",
    "y_pred = regressor.predict(X_test)\n",
    "comparison_df = pd.DataFrame({\"Actual\":y_test,\"Predicted\":y_pred})\n",
    "\n",
    "mse = mean_squared_error(y_test, y_pred)\n",
    "\n",
    "display(comparison_df)\n",
    "print('MAE:', mean_absolute_error(y_test,y_pred))\n",
    "print('MSE:', mse)\n",
    "print(\"RMSE:\",np.sqrt(mse))\n",
    "print(\"r2:\", r2_score(y_test,y_pred))"
   ]
  },
  {
   "cell_type": "code",
<<<<<<< HEAD
   "execution_count": 86,
=======
   "execution_count": 271,
>>>>>>> fb681e7556e9a04bfc8e077a23870755307ab983
   "id": "50aa09a2",
   "metadata": {},
   "outputs": [
    {
     "data": {
      "text/plain": [
       "['app/commodity-predict.pkl']"
      ]
     },
<<<<<<< HEAD
     "execution_count": 86,
=======
     "execution_count": 271,
>>>>>>> fb681e7556e9a04bfc8e077a23870755307ab983
     "metadata": {},
     "output_type": "execute_result"
    }
   ],
   "source": [
    "# Save the model\n",
    "jb.dump(regressor, 'commodity-predict.pkl')\n",
    "jb.dump(regressor, 'app/commodity-predict.pkl')"
   ]
  },
  {
   "cell_type": "markdown",
   "id": "fa7d0b6f",
   "metadata": {},
   "source": [
    "# Sample prediction"
   ]
  },
  {
   "cell_type": "code",
<<<<<<< HEAD
   "execution_count": 87,
=======
   "execution_count": 272,
>>>>>>> fb681e7556e9a04bfc8e077a23870755307ab983
   "id": "4a13d7cb",
   "metadata": {},
   "outputs": [
    {
     "name": "stdout",
     "output_type": "stream",
     "text": [
<<<<<<< HEAD
      "The predicted price is: 118.00390625\n"
=======
      "The predicted price is: 90.423828125\n"
>>>>>>> fb681e7556e9a04bfc8e077a23870755307ab983
     ]
    }
   ],
   "source": [
    "# Create a DataFrame for the new data\n",
    "new_data = pd.DataFrame({\n",
    "    'commodity': ['Taro'],\n",
    "    'year': [2023],\n",
    "    'month': [1],\n",
    "    'priceflag': ['actual'],\n",
    "    'pricetype': ['Retail'],\n",
    "    'region': [1]\n",
    "})\n",
    "\n",
    "# One-hot encode the categorical columns\n",
    "new_data_encoded = pd.get_dummies(new_data, columns=['priceflag', 'pricetype', 'commodity'])\n",
    "\n",
    "# Make sure new_data_encoded has the same columns as data_encoded\n",
    "missing_cols = set(data_encoded.columns) - set(new_data_encoded.columns)\n",
    "for c in missing_cols:\n",
    "    new_data_encoded[c] = 0\n",
    "new_data_encoded = new_data_encoded[data_encoded.columns]\n",
    "\n",
    "# Drop the 'price' column if it exists\n",
    "if 'price' in new_data_encoded.columns:\n",
    "    new_data_encoded = new_data_encoded.drop(['price'], axis=1)\n",
    "new_X = new_data_encoded.values\n",
    "\n",
    "# Use the trained model to make predictions\n",
    "new_y_pred = regressor.predict(new_X)\n",
    "\n",
    "# new_y_pred now contains the predicted price for your new data\n",
    "print(\"The predicted price is:\", new_y_pred[0])"
   ]
  }
 ],
 "metadata": {
  "kernelspec": {
   "display_name": "Python 3 (ipykernel)",
   "language": "python",
   "name": "python3"
  },
  "language_info": {
   "codemirror_mode": {
    "name": "ipython",
    "version": 3
   },
   "file_extension": ".py",
   "mimetype": "text/x-python",
   "name": "python",
   "nbconvert_exporter": "python",
   "pygments_lexer": "ipython3",
<<<<<<< HEAD
   "version": "3.12.3"
=======
   "version": "3.11.7"
>>>>>>> fb681e7556e9a04bfc8e077a23870755307ab983
  }
 },
 "nbformat": 4,
 "nbformat_minor": 5
}
